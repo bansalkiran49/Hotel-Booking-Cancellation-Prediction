{
 "cells": [
  {
   "cell_type": "code",
   "execution_count": 197,
   "id": "874e5aef",
   "metadata": {},
   "outputs": [],
   "source": [
    "import numpy as np                                          #Importing package numpys (For Numerical Python)\n",
    "import pandas as pd                                         #Importing for panel data analysis\n",
    "pd.set_option('display.max_columns', None)                  # Unfolding hidden features if the cardinality is high\n",
    "#---------------------------------------------------------------------------------------------------------------------\n",
    "import matplotlib.pyplot as plt                             #Importing pyplot interface using matplotlib\n",
    "from matplotlib.pylab import rcParams                       # Backend used for rendering and GUI integration\n",
    "import seaborn as sns                                       #Importin seaborm library for interactive visualization\n",
    "%matplotlib inline\n",
    "#---------------------------------------------------------------------------------------------------------------------\n",
    "from sklearn.model_selection import train_test_split        # To split the data in training and testing part\n",
    "from sklearn.linear_model import LogisticRegression         # To create the Logistic Regression Model\n",
    "#---------------------------------------------------------------------------------------------------------------------\n",
    "from sklearn.metrics import confusion_matrix                #For verifying model performance using confusion matrix\n",
    "from sklearn.metrics import accuracy_score                  #For calculating the accuracy for the model\n",
    "from sklearn.metrics import f1_score                        # For Checking the F1-Score of our model\n",
    "#---------------------------------------------------------------------------------------------------------------------\n",
    "import warnings\n",
    "warnings.filterwarnings(\"ignore\")"
   ]
  },
  {
   "cell_type": "markdown",
   "id": "fe493a2f",
   "metadata": {},
   "source": [
    "### Cleaned data acquisition"
   ]
  },
  {
   "cell_type": "code",
   "execution_count": 198,
   "id": "fc33c60f",
   "metadata": {},
   "outputs": [
    {
     "data": {
      "text/html": [
       "<div>\n",
       "<style scoped>\n",
       "    .dataframe tbody tr th:only-of-type {\n",
       "        vertical-align: middle;\n",
       "    }\n",
       "\n",
       "    .dataframe tbody tr th {\n",
       "        vertical-align: top;\n",
       "    }\n",
       "\n",
       "    .dataframe thead th {\n",
       "        text-align: right;\n",
       "    }\n",
       "</style>\n",
       "<table border=\"1\" class=\"dataframe\">\n",
       "  <thead>\n",
       "    <tr style=\"text-align: right;\">\n",
       "      <th></th>\n",
       "      <th>hotel</th>\n",
       "      <th>is_canceled</th>\n",
       "      <th>lead_time</th>\n",
       "      <th>stays_in_weekend_nights</th>\n",
       "      <th>stays_in_week_nights</th>\n",
       "      <th>adults</th>\n",
       "      <th>children</th>\n",
       "      <th>babies</th>\n",
       "      <th>meal</th>\n",
       "      <th>country</th>\n",
       "      <th>market_segment</th>\n",
       "      <th>distribution_channel</th>\n",
       "      <th>is_repeated_guest</th>\n",
       "      <th>previous_cancellations</th>\n",
       "      <th>previous_bookings_not_canceled</th>\n",
       "      <th>reserved_room_type</th>\n",
       "      <th>assigned_room_type</th>\n",
       "      <th>booking_changes</th>\n",
       "      <th>deposit_type</th>\n",
       "      <th>days_in_waiting_list</th>\n",
       "      <th>customer_type</th>\n",
       "      <th>adr</th>\n",
       "      <th>required_car_parking_spaces</th>\n",
       "      <th>total_of_special_requests</th>\n",
       "      <th>reservation_status</th>\n",
       "      <th>reservation_status_date</th>\n",
       "      <th>arrival_date</th>\n",
       "      <th>guest_location</th>\n",
       "    </tr>\n",
       "  </thead>\n",
       "  <tbody>\n",
       "    <tr>\n",
       "      <th>0</th>\n",
       "      <td>Resort Hotel</td>\n",
       "      <td>1</td>\n",
       "      <td>122</td>\n",
       "      <td>0</td>\n",
       "      <td>4</td>\n",
       "      <td>2</td>\n",
       "      <td>0.0</td>\n",
       "      <td>0</td>\n",
       "      <td>BB</td>\n",
       "      <td>FRA</td>\n",
       "      <td>Online TA</td>\n",
       "      <td>TA/TO</td>\n",
       "      <td>0</td>\n",
       "      <td>never cancelled</td>\n",
       "      <td>0</td>\n",
       "      <td>D</td>\n",
       "      <td>D</td>\n",
       "      <td>yes</td>\n",
       "      <td>No Deposit</td>\n",
       "      <td>0</td>\n",
       "      <td>Transient</td>\n",
       "      <td>74.75</td>\n",
       "      <td>0</td>\n",
       "      <td>2</td>\n",
       "      <td>Canceled</td>\n",
       "      <td>2016-11-27</td>\n",
       "      <td>2016-12-27</td>\n",
       "      <td>International</td>\n",
       "    </tr>\n",
       "    <tr>\n",
       "      <th>1</th>\n",
       "      <td>City Hotel</td>\n",
       "      <td>1</td>\n",
       "      <td>20</td>\n",
       "      <td>0</td>\n",
       "      <td>2</td>\n",
       "      <td>2</td>\n",
       "      <td>0.0</td>\n",
       "      <td>0</td>\n",
       "      <td>BB</td>\n",
       "      <td>PRT</td>\n",
       "      <td>Groups</td>\n",
       "      <td>TA/TO</td>\n",
       "      <td>0</td>\n",
       "      <td>never cancelled</td>\n",
       "      <td>0</td>\n",
       "      <td>A</td>\n",
       "      <td>A</td>\n",
       "      <td>no</td>\n",
       "      <td>No Deposit</td>\n",
       "      <td>0</td>\n",
       "      <td>Transient-Party</td>\n",
       "      <td>62.00</td>\n",
       "      <td>0</td>\n",
       "      <td>0</td>\n",
       "      <td>Canceled</td>\n",
       "      <td>2015-07-17</td>\n",
       "      <td>2015-07-22</td>\n",
       "      <td>Local</td>\n",
       "    </tr>\n",
       "    <tr>\n",
       "      <th>2</th>\n",
       "      <td>City Hotel</td>\n",
       "      <td>0</td>\n",
       "      <td>87</td>\n",
       "      <td>2</td>\n",
       "      <td>3</td>\n",
       "      <td>3</td>\n",
       "      <td>0.0</td>\n",
       "      <td>0</td>\n",
       "      <td>BB</td>\n",
       "      <td>BEL</td>\n",
       "      <td>Online TA</td>\n",
       "      <td>TA/TO</td>\n",
       "      <td>0</td>\n",
       "      <td>never cancelled</td>\n",
       "      <td>0</td>\n",
       "      <td>D</td>\n",
       "      <td>D</td>\n",
       "      <td>no</td>\n",
       "      <td>No Deposit</td>\n",
       "      <td>0</td>\n",
       "      <td>Transient</td>\n",
       "      <td>171.00</td>\n",
       "      <td>0</td>\n",
       "      <td>0</td>\n",
       "      <td>Check-Out</td>\n",
       "      <td>2017-04-21</td>\n",
       "      <td>2017-04-16</td>\n",
       "      <td>International</td>\n",
       "    </tr>\n",
       "    <tr>\n",
       "      <th>3</th>\n",
       "      <td>Resort Hotel</td>\n",
       "      <td>0</td>\n",
       "      <td>0</td>\n",
       "      <td>0</td>\n",
       "      <td>1</td>\n",
       "      <td>1</td>\n",
       "      <td>0.0</td>\n",
       "      <td>0</td>\n",
       "      <td>BB</td>\n",
       "      <td>PRT</td>\n",
       "      <td>Online TA</td>\n",
       "      <td>TA/TO</td>\n",
       "      <td>1</td>\n",
       "      <td>never cancelled</td>\n",
       "      <td>1</td>\n",
       "      <td>A</td>\n",
       "      <td>A</td>\n",
       "      <td>no</td>\n",
       "      <td>No Deposit</td>\n",
       "      <td>0</td>\n",
       "      <td>Transient</td>\n",
       "      <td>43.00</td>\n",
       "      <td>0</td>\n",
       "      <td>1</td>\n",
       "      <td>Check-Out</td>\n",
       "      <td>2017-02-03</td>\n",
       "      <td>2017-02-02</td>\n",
       "      <td>Local</td>\n",
       "    </tr>\n",
       "    <tr>\n",
       "      <th>4</th>\n",
       "      <td>Resort Hotel</td>\n",
       "      <td>1</td>\n",
       "      <td>42</td>\n",
       "      <td>0</td>\n",
       "      <td>1</td>\n",
       "      <td>2</td>\n",
       "      <td>0.0</td>\n",
       "      <td>0</td>\n",
       "      <td>BB</td>\n",
       "      <td>IRL</td>\n",
       "      <td>Online TA</td>\n",
       "      <td>TA/TO</td>\n",
       "      <td>0</td>\n",
       "      <td>never cancelled</td>\n",
       "      <td>0</td>\n",
       "      <td>A</td>\n",
       "      <td>A</td>\n",
       "      <td>no</td>\n",
       "      <td>No Deposit</td>\n",
       "      <td>0</td>\n",
       "      <td>Transient</td>\n",
       "      <td>109.00</td>\n",
       "      <td>0</td>\n",
       "      <td>1</td>\n",
       "      <td>Canceled</td>\n",
       "      <td>2016-08-26</td>\n",
       "      <td>2016-09-23</td>\n",
       "      <td>International</td>\n",
       "    </tr>\n",
       "  </tbody>\n",
       "</table>\n",
       "</div>"
      ],
      "text/plain": [
       "          hotel  is_canceled  lead_time  stays_in_weekend_nights  \\\n",
       "0  Resort Hotel            1        122                        0   \n",
       "1    City Hotel            1         20                        0   \n",
       "2    City Hotel            0         87                        2   \n",
       "3  Resort Hotel            0          0                        0   \n",
       "4  Resort Hotel            1         42                        0   \n",
       "\n",
       "   stays_in_week_nights  adults  children  babies meal country market_segment  \\\n",
       "0                     4       2       0.0       0   BB     FRA      Online TA   \n",
       "1                     2       2       0.0       0   BB     PRT         Groups   \n",
       "2                     3       3       0.0       0   BB     BEL      Online TA   \n",
       "3                     1       1       0.0       0   BB     PRT      Online TA   \n",
       "4                     1       2       0.0       0   BB     IRL      Online TA   \n",
       "\n",
       "  distribution_channel  is_repeated_guest previous_cancellations  \\\n",
       "0                TA/TO                  0        never cancelled   \n",
       "1                TA/TO                  0        never cancelled   \n",
       "2                TA/TO                  0        never cancelled   \n",
       "3                TA/TO                  1        never cancelled   \n",
       "4                TA/TO                  0        never cancelled   \n",
       "\n",
       "   previous_bookings_not_canceled reserved_room_type assigned_room_type  \\\n",
       "0                               0                  D                  D   \n",
       "1                               0                  A                  A   \n",
       "2                               0                  D                  D   \n",
       "3                               1                  A                  A   \n",
       "4                               0                  A                  A   \n",
       "\n",
       "  booking_changes deposit_type  days_in_waiting_list    customer_type     adr  \\\n",
       "0             yes   No Deposit                     0        Transient   74.75   \n",
       "1              no   No Deposit                     0  Transient-Party   62.00   \n",
       "2              no   No Deposit                     0        Transient  171.00   \n",
       "3              no   No Deposit                     0        Transient   43.00   \n",
       "4              no   No Deposit                     0        Transient  109.00   \n",
       "\n",
       "   required_car_parking_spaces  total_of_special_requests reservation_status  \\\n",
       "0                            0                          2           Canceled   \n",
       "1                            0                          0           Canceled   \n",
       "2                            0                          0          Check-Out   \n",
       "3                            0                          1          Check-Out   \n",
       "4                            0                          1           Canceled   \n",
       "\n",
       "  reservation_status_date arrival_date guest_location  \n",
       "0              2016-11-27   2016-12-27  International  \n",
       "1              2015-07-17   2015-07-22          Local  \n",
       "2              2017-04-21   2017-04-16  International  \n",
       "3              2017-02-03   2017-02-02          Local  \n",
       "4              2016-08-26   2016-09-23  International  "
      ]
     },
     "execution_count": 198,
     "metadata": {},
     "output_type": "execute_result"
    }
   ],
   "source": [
    "#Read and load data\n",
    "hotel_data = pd.read_csv('hotel_cleaned_data.csv')\n",
    "#Display data\n",
    "hotel_data.head()"
   ]
  },
  {
   "cell_type": "markdown",
   "id": "aaeab78f",
   "metadata": {},
   "source": [
    "### checking data again before EDA"
   ]
  },
  {
   "cell_type": "code",
   "execution_count": 199,
   "id": "e2402972",
   "metadata": {},
   "outputs": [
    {
     "data": {
      "text/plain": [
       "(83439, 28)"
      ]
     },
     "execution_count": 199,
     "metadata": {},
     "output_type": "execute_result"
    }
   ],
   "source": [
    "# Number of Rows and Columns\n",
    "hotel_data.shape"
   ]
  },
  {
   "cell_type": "code",
   "execution_count": 202,
   "id": "98799d09",
   "metadata": {},
   "outputs": [
    {
     "name": "stdout",
     "output_type": "stream",
     "text": [
      "<class 'pandas.core.frame.DataFrame'>\n",
      "RangeIndex: 83439 entries, 0 to 83438\n",
      "Data columns (total 28 columns):\n",
      " #   Column                          Non-Null Count  Dtype         \n",
      "---  ------                          --------------  -----         \n",
      " 0   hotel                           83439 non-null  object        \n",
      " 1   is_canceled                     83439 non-null  int64         \n",
      " 2   lead_time                       83439 non-null  int64         \n",
      " 3   stays_in_weekend_nights         83439 non-null  int64         \n",
      " 4   stays_in_week_nights            83439 non-null  int64         \n",
      " 5   adults                          83439 non-null  int64         \n",
      " 6   children                        83439 non-null  float64       \n",
      " 7   babies                          83439 non-null  int64         \n",
      " 8   meal                            83439 non-null  object        \n",
      " 9   country                         83439 non-null  object        \n",
      " 10  market_segment                  83439 non-null  object        \n",
      " 11  distribution_channel            83439 non-null  object        \n",
      " 12  is_repeated_guest               83439 non-null  int64         \n",
      " 13  previous_cancellations          83439 non-null  object        \n",
      " 14  previous_bookings_not_canceled  83439 non-null  int64         \n",
      " 15  reserved_room_type              83439 non-null  object        \n",
      " 16  assigned_room_type              83439 non-null  object        \n",
      " 17  booking_changes                 83439 non-null  object        \n",
      " 18  deposit_type                    83439 non-null  object        \n",
      " 19  days_in_waiting_list            83439 non-null  int64         \n",
      " 20  customer_type                   83439 non-null  object        \n",
      " 21  adr                             83439 non-null  float64       \n",
      " 22  required_car_parking_spaces     83439 non-null  int64         \n",
      " 23  total_of_special_requests       83439 non-null  int64         \n",
      " 24  reservation_status              83439 non-null  object        \n",
      " 25  reservation_status_date         83439 non-null  datetime64[ns]\n",
      " 26  arrival_date                    83439 non-null  datetime64[ns]\n",
      " 27  guest_location                  83439 non-null  object        \n",
      "dtypes: datetime64[ns](2), float64(2), int64(11), object(13)\n",
      "memory usage: 17.8+ MB\n"
     ]
    }
   ],
   "source": [
    "# basic info. of the data\n",
    "hotel_data.info()"
   ]
  },
  {
   "cell_type": "code",
   "execution_count": 201,
   "id": "353c5472",
   "metadata": {},
   "outputs": [],
   "source": [
    "hotel_data['arrival_date'] = pd.to_datetime(hotel_data['arrival_date'], format=\"%Y-%m-%d\")\n",
    "hotel_data['reservation_status_date'] = pd.to_datetime(hotel_data['reservation_status_date'], format=\"%Y-%m-%d\")"
   ]
  },
  {
   "cell_type": "code",
   "execution_count": 203,
   "id": "c4ca6ccc",
   "metadata": {},
   "outputs": [],
   "source": [
    "#looking for missing data, data type, zero frequency and unique values in each column.\n",
    "\n",
    "hotel_missing = []\n",
    "for name in hotel_data.columns:\n",
    "  hotel_missing.append(\n",
    "      [\n",
    "       name,\n",
    "       hotel_data[name].dtypes,\n",
    "       hotel_data[name].isnull().sum(),\n",
    "       round(hotel_data[name].isnull().sum()/len(hotel_data)*100,2),\n",
    "       hotel_data[name][hotel_data[name] == 0].count(),\n",
    "       hotel_data[name][hotel_data[name] == 0].count()/hotel_data[name].shape[0]*100,\n",
    "#      hotel_data[name].duplicated().sum(),\n",
    "       hotel_data[name].nunique()\n",
    "       ]\n",
    "       )\n",
    "\n",
    "hotel_missing = pd.DataFrame(hotel_missing, columns = ['Column','Dtype','Null','Null(%)','zero_frequency','zero_frequency(%)','nunique'])"
   ]
  },
  {
   "cell_type": "code",
   "execution_count": 204,
   "id": "af41a8df",
   "metadata": {},
   "outputs": [
    {
     "data": {
      "text/html": [
       "<div>\n",
       "<style scoped>\n",
       "    .dataframe tbody tr th:only-of-type {\n",
       "        vertical-align: middle;\n",
       "    }\n",
       "\n",
       "    .dataframe tbody tr th {\n",
       "        vertical-align: top;\n",
       "    }\n",
       "\n",
       "    .dataframe thead th {\n",
       "        text-align: right;\n",
       "    }\n",
       "</style>\n",
       "<table border=\"1\" class=\"dataframe\">\n",
       "  <thead>\n",
       "    <tr style=\"text-align: right;\">\n",
       "      <th></th>\n",
       "      <th>Column</th>\n",
       "      <th>Dtype</th>\n",
       "      <th>Null</th>\n",
       "      <th>Null(%)</th>\n",
       "      <th>zero_frequency</th>\n",
       "      <th>zero_frequency(%)</th>\n",
       "      <th>nunique</th>\n",
       "    </tr>\n",
       "  </thead>\n",
       "  <tbody>\n",
       "    <tr>\n",
       "      <th>0</th>\n",
       "      <td>hotel</td>\n",
       "      <td>object</td>\n",
       "      <td>0</td>\n",
       "      <td>0.0</td>\n",
       "      <td>0</td>\n",
       "      <td>0.000000</td>\n",
       "      <td>2</td>\n",
       "    </tr>\n",
       "    <tr>\n",
       "      <th>1</th>\n",
       "      <td>is_canceled</td>\n",
       "      <td>int64</td>\n",
       "      <td>0</td>\n",
       "      <td>0.0</td>\n",
       "      <td>52571</td>\n",
       "      <td>63.005309</td>\n",
       "      <td>2</td>\n",
       "    </tr>\n",
       "    <tr>\n",
       "      <th>2</th>\n",
       "      <td>lead_time</td>\n",
       "      <td>int64</td>\n",
       "      <td>0</td>\n",
       "      <td>0.0</td>\n",
       "      <td>4399</td>\n",
       "      <td>5.272115</td>\n",
       "      <td>475</td>\n",
       "    </tr>\n",
       "    <tr>\n",
       "      <th>3</th>\n",
       "      <td>stays_in_weekend_nights</td>\n",
       "      <td>int64</td>\n",
       "      <td>0</td>\n",
       "      <td>0.0</td>\n",
       "      <td>36352</td>\n",
       "      <td>43.567157</td>\n",
       "      <td>15</td>\n",
       "    </tr>\n",
       "    <tr>\n",
       "      <th>4</th>\n",
       "      <td>stays_in_week_nights</td>\n",
       "      <td>int64</td>\n",
       "      <td>0</td>\n",
       "      <td>0.0</td>\n",
       "      <td>5341</td>\n",
       "      <td>6.401083</td>\n",
       "      <td>30</td>\n",
       "    </tr>\n",
       "    <tr>\n",
       "      <th>5</th>\n",
       "      <td>adults</td>\n",
       "      <td>int64</td>\n",
       "      <td>0</td>\n",
       "      <td>0.0</td>\n",
       "      <td>166</td>\n",
       "      <td>0.198948</td>\n",
       "      <td>12</td>\n",
       "    </tr>\n",
       "    <tr>\n",
       "      <th>6</th>\n",
       "      <td>children</td>\n",
       "      <td>float64</td>\n",
       "      <td>0</td>\n",
       "      <td>0.0</td>\n",
       "      <td>77440</td>\n",
       "      <td>92.810317</td>\n",
       "      <td>4</td>\n",
       "    </tr>\n",
       "    <tr>\n",
       "      <th>7</th>\n",
       "      <td>babies</td>\n",
       "      <td>int64</td>\n",
       "      <td>0</td>\n",
       "      <td>0.0</td>\n",
       "      <td>82778</td>\n",
       "      <td>99.207805</td>\n",
       "      <td>3</td>\n",
       "    </tr>\n",
       "    <tr>\n",
       "      <th>8</th>\n",
       "      <td>meal</td>\n",
       "      <td>object</td>\n",
       "      <td>0</td>\n",
       "      <td>0.0</td>\n",
       "      <td>0</td>\n",
       "      <td>0.000000</td>\n",
       "      <td>4</td>\n",
       "    </tr>\n",
       "    <tr>\n",
       "      <th>9</th>\n",
       "      <td>country</td>\n",
       "      <td>object</td>\n",
       "      <td>0</td>\n",
       "      <td>0.0</td>\n",
       "      <td>0</td>\n",
       "      <td>0.000000</td>\n",
       "      <td>170</td>\n",
       "    </tr>\n",
       "    <tr>\n",
       "      <th>10</th>\n",
       "      <td>market_segment</td>\n",
       "      <td>object</td>\n",
       "      <td>0</td>\n",
       "      <td>0.0</td>\n",
       "      <td>0</td>\n",
       "      <td>0.000000</td>\n",
       "      <td>7</td>\n",
       "    </tr>\n",
       "    <tr>\n",
       "      <th>11</th>\n",
       "      <td>distribution_channel</td>\n",
       "      <td>object</td>\n",
       "      <td>0</td>\n",
       "      <td>0.0</td>\n",
       "      <td>0</td>\n",
       "      <td>0.000000</td>\n",
       "      <td>4</td>\n",
       "    </tr>\n",
       "    <tr>\n",
       "      <th>12</th>\n",
       "      <td>is_repeated_guest</td>\n",
       "      <td>int64</td>\n",
       "      <td>0</td>\n",
       "      <td>0.0</td>\n",
       "      <td>80811</td>\n",
       "      <td>96.850394</td>\n",
       "      <td>2</td>\n",
       "    </tr>\n",
       "    <tr>\n",
       "      <th>13</th>\n",
       "      <td>previous_cancellations</td>\n",
       "      <td>object</td>\n",
       "      <td>0</td>\n",
       "      <td>0.0</td>\n",
       "      <td>0</td>\n",
       "      <td>0.000000</td>\n",
       "      <td>2</td>\n",
       "    </tr>\n",
       "    <tr>\n",
       "      <th>14</th>\n",
       "      <td>previous_bookings_not_canceled</td>\n",
       "      <td>int64</td>\n",
       "      <td>0</td>\n",
       "      <td>0.0</td>\n",
       "      <td>80919</td>\n",
       "      <td>96.979830</td>\n",
       "      <td>58</td>\n",
       "    </tr>\n",
       "    <tr>\n",
       "      <th>15</th>\n",
       "      <td>reserved_room_type</td>\n",
       "      <td>object</td>\n",
       "      <td>0</td>\n",
       "      <td>0.0</td>\n",
       "      <td>0</td>\n",
       "      <td>0.000000</td>\n",
       "      <td>9</td>\n",
       "    </tr>\n",
       "    <tr>\n",
       "      <th>16</th>\n",
       "      <td>assigned_room_type</td>\n",
       "      <td>object</td>\n",
       "      <td>0</td>\n",
       "      <td>0.0</td>\n",
       "      <td>0</td>\n",
       "      <td>0.000000</td>\n",
       "      <td>10</td>\n",
       "    </tr>\n",
       "    <tr>\n",
       "      <th>17</th>\n",
       "      <td>booking_changes</td>\n",
       "      <td>object</td>\n",
       "      <td>0</td>\n",
       "      <td>0.0</td>\n",
       "      <td>0</td>\n",
       "      <td>0.000000</td>\n",
       "      <td>2</td>\n",
       "    </tr>\n",
       "    <tr>\n",
       "      <th>18</th>\n",
       "      <td>deposit_type</td>\n",
       "      <td>object</td>\n",
       "      <td>0</td>\n",
       "      <td>0.0</td>\n",
       "      <td>0</td>\n",
       "      <td>0.000000</td>\n",
       "      <td>3</td>\n",
       "    </tr>\n",
       "    <tr>\n",
       "      <th>19</th>\n",
       "      <td>days_in_waiting_list</td>\n",
       "      <td>int64</td>\n",
       "      <td>0</td>\n",
       "      <td>0.0</td>\n",
       "      <td>80859</td>\n",
       "      <td>96.907921</td>\n",
       "      <td>119</td>\n",
       "    </tr>\n",
       "    <tr>\n",
       "      <th>20</th>\n",
       "      <td>customer_type</td>\n",
       "      <td>object</td>\n",
       "      <td>0</td>\n",
       "      <td>0.0</td>\n",
       "      <td>0</td>\n",
       "      <td>0.000000</td>\n",
       "      <td>4</td>\n",
       "    </tr>\n",
       "    <tr>\n",
       "      <th>21</th>\n",
       "      <td>adr</td>\n",
       "      <td>float64</td>\n",
       "      <td>0</td>\n",
       "      <td>0.0</td>\n",
       "      <td>1307</td>\n",
       "      <td>1.566414</td>\n",
       "      <td>7466</td>\n",
       "    </tr>\n",
       "    <tr>\n",
       "      <th>22</th>\n",
       "      <td>required_car_parking_spaces</td>\n",
       "      <td>int64</td>\n",
       "      <td>0</td>\n",
       "      <td>0.0</td>\n",
       "      <td>78247</td>\n",
       "      <td>93.777490</td>\n",
       "      <td>5</td>\n",
       "    </tr>\n",
       "    <tr>\n",
       "      <th>23</th>\n",
       "      <td>total_of_special_requests</td>\n",
       "      <td>int64</td>\n",
       "      <td>0</td>\n",
       "      <td>0.0</td>\n",
       "      <td>49117</td>\n",
       "      <td>58.865758</td>\n",
       "      <td>6</td>\n",
       "    </tr>\n",
       "    <tr>\n",
       "      <th>24</th>\n",
       "      <td>reservation_status</td>\n",
       "      <td>object</td>\n",
       "      <td>0</td>\n",
       "      <td>0.0</td>\n",
       "      <td>0</td>\n",
       "      <td>0.000000</td>\n",
       "      <td>3</td>\n",
       "    </tr>\n",
       "    <tr>\n",
       "      <th>25</th>\n",
       "      <td>reservation_status_date</td>\n",
       "      <td>datetime64[ns]</td>\n",
       "      <td>0</td>\n",
       "      <td>0.0</td>\n",
       "      <td>0</td>\n",
       "      <td>0.000000</td>\n",
       "      <td>916</td>\n",
       "    </tr>\n",
       "    <tr>\n",
       "      <th>26</th>\n",
       "      <td>arrival_date</td>\n",
       "      <td>datetime64[ns]</td>\n",
       "      <td>0</td>\n",
       "      <td>0.0</td>\n",
       "      <td>0</td>\n",
       "      <td>0.000000</td>\n",
       "      <td>793</td>\n",
       "    </tr>\n",
       "    <tr>\n",
       "      <th>27</th>\n",
       "      <td>guest_location</td>\n",
       "      <td>object</td>\n",
       "      <td>0</td>\n",
       "      <td>0.0</td>\n",
       "      <td>0</td>\n",
       "      <td>0.000000</td>\n",
       "      <td>2</td>\n",
       "    </tr>\n",
       "  </tbody>\n",
       "</table>\n",
       "</div>"
      ],
      "text/plain": [
       "                            Column           Dtype  Null  Null(%)  \\\n",
       "0                            hotel          object     0      0.0   \n",
       "1                      is_canceled           int64     0      0.0   \n",
       "2                        lead_time           int64     0      0.0   \n",
       "3          stays_in_weekend_nights           int64     0      0.0   \n",
       "4             stays_in_week_nights           int64     0      0.0   \n",
       "5                           adults           int64     0      0.0   \n",
       "6                         children         float64     0      0.0   \n",
       "7                           babies           int64     0      0.0   \n",
       "8                             meal          object     0      0.0   \n",
       "9                          country          object     0      0.0   \n",
       "10                  market_segment          object     0      0.0   \n",
       "11            distribution_channel          object     0      0.0   \n",
       "12               is_repeated_guest           int64     0      0.0   \n",
       "13          previous_cancellations          object     0      0.0   \n",
       "14  previous_bookings_not_canceled           int64     0      0.0   \n",
       "15              reserved_room_type          object     0      0.0   \n",
       "16              assigned_room_type          object     0      0.0   \n",
       "17                 booking_changes          object     0      0.0   \n",
       "18                    deposit_type          object     0      0.0   \n",
       "19            days_in_waiting_list           int64     0      0.0   \n",
       "20                   customer_type          object     0      0.0   \n",
       "21                             adr         float64     0      0.0   \n",
       "22     required_car_parking_spaces           int64     0      0.0   \n",
       "23       total_of_special_requests           int64     0      0.0   \n",
       "24              reservation_status          object     0      0.0   \n",
       "25         reservation_status_date  datetime64[ns]     0      0.0   \n",
       "26                    arrival_date  datetime64[ns]     0      0.0   \n",
       "27                  guest_location          object     0      0.0   \n",
       "\n",
       "    zero_frequency  zero_frequency(%)  nunique  \n",
       "0                0           0.000000        2  \n",
       "1            52571          63.005309        2  \n",
       "2             4399           5.272115      475  \n",
       "3            36352          43.567157       15  \n",
       "4             5341           6.401083       30  \n",
       "5              166           0.198948       12  \n",
       "6            77440          92.810317        4  \n",
       "7            82778          99.207805        3  \n",
       "8                0           0.000000        4  \n",
       "9                0           0.000000      170  \n",
       "10               0           0.000000        7  \n",
       "11               0           0.000000        4  \n",
       "12           80811          96.850394        2  \n",
       "13               0           0.000000        2  \n",
       "14           80919          96.979830       58  \n",
       "15               0           0.000000        9  \n",
       "16               0           0.000000       10  \n",
       "17               0           0.000000        2  \n",
       "18               0           0.000000        3  \n",
       "19           80859          96.907921      119  \n",
       "20               0           0.000000        4  \n",
       "21            1307           1.566414     7466  \n",
       "22           78247          93.777490        5  \n",
       "23           49117          58.865758        6  \n",
       "24               0           0.000000        3  \n",
       "25               0           0.000000      916  \n",
       "26               0           0.000000      793  \n",
       "27               0           0.000000        2  "
      ]
     },
     "execution_count": 204,
     "metadata": {},
     "output_type": "execute_result"
    }
   ],
   "source": [
    "hotel_missing"
   ]
  },
  {
   "cell_type": "code",
   "execution_count": 205,
   "id": "f4897919",
   "metadata": {},
   "outputs": [
    {
     "data": {
      "text/html": [
       "<div>\n",
       "<style scoped>\n",
       "    .dataframe tbody tr th:only-of-type {\n",
       "        vertical-align: middle;\n",
       "    }\n",
       "\n",
       "    .dataframe tbody tr th {\n",
       "        vertical-align: top;\n",
       "    }\n",
       "\n",
       "    .dataframe thead th {\n",
       "        text-align: right;\n",
       "    }\n",
       "</style>\n",
       "<table border=\"1\" class=\"dataframe\">\n",
       "  <thead>\n",
       "    <tr style=\"text-align: right;\">\n",
       "      <th></th>\n",
       "      <th>count</th>\n",
       "      <th>mean</th>\n",
       "      <th>std</th>\n",
       "      <th>min</th>\n",
       "      <th>25%</th>\n",
       "      <th>50%</th>\n",
       "      <th>75%</th>\n",
       "      <th>max</th>\n",
       "    </tr>\n",
       "  </thead>\n",
       "  <tbody>\n",
       "    <tr>\n",
       "      <th>is_canceled</th>\n",
       "      <td>83439.0</td>\n",
       "      <td>0.369947</td>\n",
       "      <td>0.482793</td>\n",
       "      <td>0.0</td>\n",
       "      <td>0.000</td>\n",
       "      <td>0.0</td>\n",
       "      <td>1.0</td>\n",
       "      <td>1.0</td>\n",
       "    </tr>\n",
       "    <tr>\n",
       "      <th>lead_time</th>\n",
       "      <td>83439.0</td>\n",
       "      <td>104.007299</td>\n",
       "      <td>106.879229</td>\n",
       "      <td>0.0</td>\n",
       "      <td>18.000</td>\n",
       "      <td>69.0</td>\n",
       "      <td>160.0</td>\n",
       "      <td>737.0</td>\n",
       "    </tr>\n",
       "    <tr>\n",
       "      <th>stays_in_weekend_nights</th>\n",
       "      <td>83439.0</td>\n",
       "      <td>0.926797</td>\n",
       "      <td>0.996620</td>\n",
       "      <td>0.0</td>\n",
       "      <td>0.000</td>\n",
       "      <td>1.0</td>\n",
       "      <td>2.0</td>\n",
       "      <td>18.0</td>\n",
       "    </tr>\n",
       "    <tr>\n",
       "      <th>stays_in_week_nights</th>\n",
       "      <td>83439.0</td>\n",
       "      <td>2.499790</td>\n",
       "      <td>1.900645</td>\n",
       "      <td>0.0</td>\n",
       "      <td>1.000</td>\n",
       "      <td>2.0</td>\n",
       "      <td>3.0</td>\n",
       "      <td>42.0</td>\n",
       "    </tr>\n",
       "    <tr>\n",
       "      <th>adults</th>\n",
       "      <td>83439.0</td>\n",
       "      <td>1.858951</td>\n",
       "      <td>0.578142</td>\n",
       "      <td>0.0</td>\n",
       "      <td>2.000</td>\n",
       "      <td>2.0</td>\n",
       "      <td>2.0</td>\n",
       "      <td>50.0</td>\n",
       "    </tr>\n",
       "    <tr>\n",
       "      <th>children</th>\n",
       "      <td>83439.0</td>\n",
       "      <td>0.103824</td>\n",
       "      <td>0.397648</td>\n",
       "      <td>0.0</td>\n",
       "      <td>0.000</td>\n",
       "      <td>0.0</td>\n",
       "      <td>0.0</td>\n",
       "      <td>3.0</td>\n",
       "    </tr>\n",
       "    <tr>\n",
       "      <th>babies</th>\n",
       "      <td>83439.0</td>\n",
       "      <td>0.008030</td>\n",
       "      <td>0.090450</td>\n",
       "      <td>0.0</td>\n",
       "      <td>0.000</td>\n",
       "      <td>0.0</td>\n",
       "      <td>0.0</td>\n",
       "      <td>2.0</td>\n",
       "    </tr>\n",
       "    <tr>\n",
       "      <th>is_repeated_guest</th>\n",
       "      <td>83439.0</td>\n",
       "      <td>0.031496</td>\n",
       "      <td>0.174655</td>\n",
       "      <td>0.0</td>\n",
       "      <td>0.000</td>\n",
       "      <td>0.0</td>\n",
       "      <td>0.0</td>\n",
       "      <td>1.0</td>\n",
       "    </tr>\n",
       "    <tr>\n",
       "      <th>previous_bookings_not_canceled</th>\n",
       "      <td>83439.0</td>\n",
       "      <td>0.134565</td>\n",
       "      <td>1.483181</td>\n",
       "      <td>0.0</td>\n",
       "      <td>0.000</td>\n",
       "      <td>0.0</td>\n",
       "      <td>0.0</td>\n",
       "      <td>71.0</td>\n",
       "    </tr>\n",
       "    <tr>\n",
       "      <th>days_in_waiting_list</th>\n",
       "      <td>83439.0</td>\n",
       "      <td>2.306907</td>\n",
       "      <td>17.502740</td>\n",
       "      <td>0.0</td>\n",
       "      <td>0.000</td>\n",
       "      <td>0.0</td>\n",
       "      <td>0.0</td>\n",
       "      <td>391.0</td>\n",
       "    </tr>\n",
       "    <tr>\n",
       "      <th>adr</th>\n",
       "      <td>83439.0</td>\n",
       "      <td>101.849210</td>\n",
       "      <td>48.040270</td>\n",
       "      <td>0.0</td>\n",
       "      <td>69.565</td>\n",
       "      <td>94.5</td>\n",
       "      <td>126.0</td>\n",
       "      <td>510.0</td>\n",
       "    </tr>\n",
       "    <tr>\n",
       "      <th>required_car_parking_spaces</th>\n",
       "      <td>83439.0</td>\n",
       "      <td>0.062669</td>\n",
       "      <td>0.246340</td>\n",
       "      <td>0.0</td>\n",
       "      <td>0.000</td>\n",
       "      <td>0.0</td>\n",
       "      <td>0.0</td>\n",
       "      <td>8.0</td>\n",
       "    </tr>\n",
       "    <tr>\n",
       "      <th>total_of_special_requests</th>\n",
       "      <td>83439.0</td>\n",
       "      <td>0.571316</td>\n",
       "      <td>0.791862</td>\n",
       "      <td>0.0</td>\n",
       "      <td>0.000</td>\n",
       "      <td>0.0</td>\n",
       "      <td>1.0</td>\n",
       "      <td>5.0</td>\n",
       "    </tr>\n",
       "  </tbody>\n",
       "</table>\n",
       "</div>"
      ],
      "text/plain": [
       "                                  count        mean         std  min     25%  \\\n",
       "is_canceled                     83439.0    0.369947    0.482793  0.0   0.000   \n",
       "lead_time                       83439.0  104.007299  106.879229  0.0  18.000   \n",
       "stays_in_weekend_nights         83439.0    0.926797    0.996620  0.0   0.000   \n",
       "stays_in_week_nights            83439.0    2.499790    1.900645  0.0   1.000   \n",
       "adults                          83439.0    1.858951    0.578142  0.0   2.000   \n",
       "children                        83439.0    0.103824    0.397648  0.0   0.000   \n",
       "babies                          83439.0    0.008030    0.090450  0.0   0.000   \n",
       "is_repeated_guest               83439.0    0.031496    0.174655  0.0   0.000   \n",
       "previous_bookings_not_canceled  83439.0    0.134565    1.483181  0.0   0.000   \n",
       "days_in_waiting_list            83439.0    2.306907   17.502740  0.0   0.000   \n",
       "adr                             83439.0  101.849210   48.040270  0.0  69.565   \n",
       "required_car_parking_spaces     83439.0    0.062669    0.246340  0.0   0.000   \n",
       "total_of_special_requests       83439.0    0.571316    0.791862  0.0   0.000   \n",
       "\n",
       "                                 50%    75%    max  \n",
       "is_canceled                      0.0    1.0    1.0  \n",
       "lead_time                       69.0  160.0  737.0  \n",
       "stays_in_weekend_nights          1.0    2.0   18.0  \n",
       "stays_in_week_nights             2.0    3.0   42.0  \n",
       "adults                           2.0    2.0   50.0  \n",
       "children                         0.0    0.0    3.0  \n",
       "babies                           0.0    0.0    2.0  \n",
       "is_repeated_guest                0.0    0.0    1.0  \n",
       "previous_bookings_not_canceled   0.0    0.0   71.0  \n",
       "days_in_waiting_list             0.0    0.0  391.0  \n",
       "adr                             94.5  126.0  510.0  \n",
       "required_car_parking_spaces      0.0    0.0    8.0  \n",
       "total_of_special_requests        0.0    1.0    5.0  "
      ]
     },
     "execution_count": 205,
     "metadata": {},
     "output_type": "execute_result"
    }
   ],
   "source": [
    "#describe - statistical measures of the data\n",
    "hotel_data.describe().T"
   ]
  },
  {
   "cell_type": "code",
   "execution_count": 206,
   "id": "c7cf78f3",
   "metadata": {},
   "outputs": [
    {
     "data": {
      "text/html": [
       "<div>\n",
       "<style scoped>\n",
       "    .dataframe tbody tr th:only-of-type {\n",
       "        vertical-align: middle;\n",
       "    }\n",
       "\n",
       "    .dataframe tbody tr th {\n",
       "        vertical-align: top;\n",
       "    }\n",
       "\n",
       "    .dataframe thead th {\n",
       "        text-align: right;\n",
       "    }\n",
       "</style>\n",
       "<table border=\"1\" class=\"dataframe\">\n",
       "  <thead>\n",
       "    <tr style=\"text-align: right;\">\n",
       "      <th></th>\n",
       "      <th>count</th>\n",
       "      <th>unique</th>\n",
       "      <th>top</th>\n",
       "      <th>freq</th>\n",
       "    </tr>\n",
       "  </thead>\n",
       "  <tbody>\n",
       "    <tr>\n",
       "      <th>hotel</th>\n",
       "      <td>83439</td>\n",
       "      <td>2</td>\n",
       "      <td>City Hotel</td>\n",
       "      <td>55484</td>\n",
       "    </tr>\n",
       "    <tr>\n",
       "      <th>meal</th>\n",
       "      <td>83439</td>\n",
       "      <td>4</td>\n",
       "      <td>BB</td>\n",
       "      <td>64529</td>\n",
       "    </tr>\n",
       "    <tr>\n",
       "      <th>country</th>\n",
       "      <td>83439</td>\n",
       "      <td>170</td>\n",
       "      <td>PRT</td>\n",
       "      <td>33940</td>\n",
       "    </tr>\n",
       "    <tr>\n",
       "      <th>market_segment</th>\n",
       "      <td>83439</td>\n",
       "      <td>7</td>\n",
       "      <td>Online TA</td>\n",
       "      <td>39601</td>\n",
       "    </tr>\n",
       "    <tr>\n",
       "      <th>distribution_channel</th>\n",
       "      <td>83439</td>\n",
       "      <td>4</td>\n",
       "      <td>TA/TO</td>\n",
       "      <td>68496</td>\n",
       "    </tr>\n",
       "    <tr>\n",
       "      <th>previous_cancellations</th>\n",
       "      <td>83439</td>\n",
       "      <td>2</td>\n",
       "      <td>never cancelled</td>\n",
       "      <td>78912</td>\n",
       "    </tr>\n",
       "    <tr>\n",
       "      <th>reserved_room_type</th>\n",
       "      <td>83439</td>\n",
       "      <td>9</td>\n",
       "      <td>A</td>\n",
       "      <td>60081</td>\n",
       "    </tr>\n",
       "    <tr>\n",
       "      <th>assigned_room_type</th>\n",
       "      <td>83439</td>\n",
       "      <td>10</td>\n",
       "      <td>A</td>\n",
       "      <td>51811</td>\n",
       "    </tr>\n",
       "    <tr>\n",
       "      <th>booking_changes</th>\n",
       "      <td>83439</td>\n",
       "      <td>2</td>\n",
       "      <td>no</td>\n",
       "      <td>70894</td>\n",
       "    </tr>\n",
       "    <tr>\n",
       "      <th>deposit_type</th>\n",
       "      <td>83439</td>\n",
       "      <td>3</td>\n",
       "      <td>No Deposit</td>\n",
       "      <td>73137</td>\n",
       "    </tr>\n",
       "    <tr>\n",
       "      <th>customer_type</th>\n",
       "      <td>83439</td>\n",
       "      <td>4</td>\n",
       "      <td>Transient</td>\n",
       "      <td>62610</td>\n",
       "    </tr>\n",
       "    <tr>\n",
       "      <th>reservation_status</th>\n",
       "      <td>83439</td>\n",
       "      <td>3</td>\n",
       "      <td>Check-Out</td>\n",
       "      <td>52571</td>\n",
       "    </tr>\n",
       "    <tr>\n",
       "      <th>guest_location</th>\n",
       "      <td>83439</td>\n",
       "      <td>2</td>\n",
       "      <td>International</td>\n",
       "      <td>49499</td>\n",
       "    </tr>\n",
       "  </tbody>\n",
       "</table>\n",
       "</div>"
      ],
      "text/plain": [
       "                        count unique              top   freq\n",
       "hotel                   83439      2       City Hotel  55484\n",
       "meal                    83439      4               BB  64529\n",
       "country                 83439    170              PRT  33940\n",
       "market_segment          83439      7        Online TA  39601\n",
       "distribution_channel    83439      4            TA/TO  68496\n",
       "previous_cancellations  83439      2  never cancelled  78912\n",
       "reserved_room_type      83439      9                A  60081\n",
       "assigned_room_type      83439     10                A  51811\n",
       "booking_changes         83439      2               no  70894\n",
       "deposit_type            83439      3       No Deposit  73137\n",
       "customer_type           83439      4        Transient  62610\n",
       "reservation_status      83439      3        Check-Out  52571\n",
       "guest_location          83439      2    International  49499"
      ]
     },
     "execution_count": 206,
     "metadata": {},
     "output_type": "execute_result"
    }
   ],
   "source": [
    "#describe - statistical measures of the data\n",
    "hotel_data.describe(include = 'O').T"
   ]
  },
  {
   "cell_type": "markdown",
   "id": "beb8b047",
   "metadata": {},
   "source": [
    "## EDA"
   ]
  },
  {
   "cell_type": "markdown",
   "id": "ffcf1541",
   "metadata": {},
   "source": [
    "### Target Variable : Cancellation Rate"
   ]
  },
  {
   "cell_type": "code",
   "execution_count": 207,
   "id": "5f7e2495",
   "metadata": {},
   "outputs": [
    {
     "data": {
      "image/png": "[encoded data removed]",
      "text/plain": [
       "<Figure size 864x360 with 2 Axes>"
      ]
     },
     "metadata": {
      "needs_background": "light"
     },
     "output_type": "display_data"
    }
   ],
   "source": [
    "fig, ax = plt.subplots(1,2, figsize = (12,5))\n",
    "\n",
    "#count plot\n",
    "sns.countplot(x= 'is_canceled' , data = hotel_data, palette = 'mako', ax=ax[0])\n",
    "ax[0].set_title('booking status' , size =20)\n",
    "ax[0].set_xlabel('is_cancelled', size = 16)\n",
    "ax[0].set_ylabel('frequency', size = 16)\n",
    "ax[0].set_xticks(ticks = [0, 1], labels = ['Not cancelled', 'Cancelled'])\n",
    "\n",
    "#pie plot\n",
    "ax[1].pie(hotel_data['is_canceled'].value_counts(), labels = ['Not cancelled', 'Cancelled'], explode = (0, 0.1),\n",
    "         autopct='%2.1f%%', \n",
    "        shadow=True, startangle=150, colors=['#5F9EA0', '#FF7F50'])\n",
    "# ax[1].axis('equal')\n",
    "ax[1].set_title('Cancellation Percentage', size = 20)\n",
    "\n",
    "plt.show()"
   ]
  },
  {
   "cell_type": "markdown",
   "id": "bee2ad61",
   "metadata": {},
   "source": [
    "**Interpretation:**\n",
    "- **37%** bookings were cancelled.\n",
    "- By calculating the percentage of cancelled bookings, we can determine the overall cancellation rate, which can be used to help the hotel improve its booking and cancellation policies.\n",
    "    - For example, if the cancellation rate is high, the hotel might consider implementing stricter cancellation policies or incentivizing guests to keep their bookings.\n",
    "    - On the other hand, if the cancellation rate is low, the hotel might consider offering more flexible cancellation policies to attract more guests."
   ]
  },
  {
   "cell_type": "markdown",
   "id": "a988f3d4",
   "metadata": {},
   "source": [
    "### Hotel_Type and Cancellation"
   ]
  },
  {
   "cell_type": "code",
   "execution_count": 325,
   "id": "21395554",
   "metadata": {},
   "outputs": [
    {
     "data": {
      "text/html": [
       "<div>\n",
       "<style scoped>\n",
       "    .dataframe tbody tr th:only-of-type {\n",
       "        vertical-align: middle;\n",
       "    }\n",
       "\n",
       "    .dataframe tbody tr th {\n",
       "        vertical-align: top;\n",
       "    }\n",
       "\n",
       "    .dataframe thead th {\n",
       "        text-align: right;\n",
       "    }\n",
       "</style>\n",
       "<table border=\"1\" class=\"dataframe\">\n",
       "  <thead>\n",
       "    <tr style=\"text-align: right;\">\n",
       "      <th>is_canceled</th>\n",
       "      <th>0</th>\n",
       "      <th>1</th>\n",
       "    </tr>\n",
       "    <tr>\n",
       "      <th>hotel</th>\n",
       "      <th></th>\n",
       "      <th></th>\n",
       "    </tr>\n",
       "  </thead>\n",
       "  <tbody>\n",
       "    <tr>\n",
       "      <th>City Hotel</th>\n",
       "      <td>0.583502</td>\n",
       "      <td>0.416498</td>\n",
       "    </tr>\n",
       "    <tr>\n",
       "      <th>Resort Hotel</th>\n",
       "      <td>0.722447</td>\n",
       "      <td>0.277553</td>\n",
       "    </tr>\n",
       "  </tbody>\n",
       "</table>\n",
       "</div>"
      ],
      "text/plain": [
       "is_canceled          0         1\n",
       "hotel                           \n",
       "City Hotel    0.583502  0.416498\n",
       "Resort Hotel  0.722447  0.277553"
      ]
     },
     "execution_count": 325,
     "metadata": {},
     "output_type": "execute_result"
    }
   ],
   "source": [
    "pd.crosstab(hotel_data['hotel'], hotel_data['is_canceled'], normalize='index')"
   ]
  },
  {
   "cell_type": "code",
   "execution_count": 327,
   "id": "7d76181b",
   "metadata": {},
   "outputs": [
    {
     "data": {
      "text/plain": [
       "<Figure size 576x360 with 0 Axes>"
      ]
     },
     "metadata": {},
     "output_type": "display_data"
    },
    {
     "data": {
      "image/png": "[encoded data removed]",
      "text/plain": [
       "<Figure size 432x288 with 1 Axes>"
      ]
     },
     "metadata": {
      "needs_background": "light"
     },
     "output_type": "display_data"
    }
   ],
   "source": [
    "#visualizing cancellation rate by hotel type\n",
    "figure = plt.figure(figsize=[8,5])\n",
    "pd.crosstab(hotel_data['hotel'], hotel_data['is_canceled'], normalize='index').plot.bar(stacked=True, color=['darkkhaki', 'olive'])\n",
    "plt.title('Cancellation rate by hotel type', fontsize=16)\n",
    "plt.xlabel('Type of hotel', fontsize=14)\n",
    "plt.ylabel('Cancellation', fontsize=14)\n",
    "plt.xticks(rotation=0)\n",
    "plt.legend(['Not_Cancelled','Cancelled'], loc='best', bbox_to_anchor=(1.0,0.5))\n",
    "plt.show()"
   ]
  },
  {
   "cell_type": "code",
   "execution_count": 330,
   "id": "edccaa66",
   "metadata": {},
   "outputs": [
    {
     "data": {
      "text/plain": [
       "<AxesSubplot:>"
      ]
     },
     "execution_count": 330,
     "metadata": {},
     "output_type": "execute_result"
    },
    {
     "data": {
      "image/png": "[encoded data removed]",
      "text/plain": [
       "<Figure size 432x288 with 1 Axes>"
      ]
     },
     "metadata": {
      "needs_background": "light"
     },
     "output_type": "display_data"
    }
   ],
   "source": [
    "# visualizing total bookings by each type of hotel\n",
    "hotel_data.hotel.value_counts().plot.bar()"
   ]
  },
  {
   "cell_type": "markdown",
   "id": "f9c4e558",
   "metadata": {},
   "source": [
    "**Interpretation:**\n",
    "- The proportion of cancelled bookings is greater in city hotels compared to resort hotels.\n",
    "- Additionally, it can be observed that City hotels receive a larger number of bookings, which could be a contributing factor to the higher cancellation rate"
   ]
  },
  {
   "cell_type": "markdown",
   "id": "9aa8f4dc",
   "metadata": {},
   "source": [
    "### Lead_time and Cancellation"
   ]
  },
  {
   "cell_type": "code",
   "execution_count": 261,
   "id": "fe46fa6b",
   "metadata": {},
   "outputs": [
    {
     "data": {
      "image/png": "[encoded data removed]",
      "text/plain": [
       "<Figure size 576x360 with 1 Axes>"
      ]
     },
     "metadata": {
      "needs_background": "light"
     },
     "output_type": "display_data"
    }
   ],
   "source": [
    "#Visualizing Average lead time for cancelled and not cancelled bookings\n",
    "figure = plt.figure(figsize=[8,5])\n",
    "sns.barplot(data=hotel_data, x='is_canceled', y='lead_time',palette='husl')\n",
    "plt.title('Average lead time of bookings per cancellation status', fontsize=16)\n",
    "plt.xlabel('Booking status', fontsize=14)\n",
    "plt.ylabel('Average lead time (days)', fontsize=14)\n",
    "plt.xticks(ticks=[0,1], labels=['Not cancelled', 'Cancelled'], fontsize=10)\n",
    "plt.show()"
   ]
  },
  {
   "cell_type": "markdown",
   "id": "093a85db",
   "metadata": {},
   "source": [
    "**Interpretation:**\n",
    "- The longer the lead time, the greater the possibility that the customer will cancel the hotel booking\n",
    "- This could be because a longer lead time provides customers with more time to change their plans or encounter unexpected circumstances, which could lead to a higher likelihood of cancellation."
   ]
  },
  {
   "cell_type": "markdown",
   "id": "f85fef9c",
   "metadata": {},
   "source": [
    "### Guest location and Cancellation"
   ]
  },
  {
   "cell_type": "code",
   "execution_count": 332,
   "id": "d35eb95d",
   "metadata": {},
   "outputs": [
    {
     "data": {
      "text/html": [
       "<div>\n",
       "<style scoped>\n",
       "    .dataframe tbody tr th:only-of-type {\n",
       "        vertical-align: middle;\n",
       "    }\n",
       "\n",
       "    .dataframe tbody tr th {\n",
       "        vertical-align: top;\n",
       "    }\n",
       "\n",
       "    .dataframe thead th {\n",
       "        text-align: right;\n",
       "    }\n",
       "</style>\n",
       "<table border=\"1\" class=\"dataframe\">\n",
       "  <thead>\n",
       "    <tr style=\"text-align: right;\">\n",
       "      <th>is_canceled</th>\n",
       "      <th>0</th>\n",
       "      <th>1</th>\n",
       "    </tr>\n",
       "    <tr>\n",
       "      <th>guest_location</th>\n",
       "      <th></th>\n",
       "      <th></th>\n",
       "    </tr>\n",
       "  </thead>\n",
       "  <tbody>\n",
       "    <tr>\n",
       "      <th>International</th>\n",
       "      <td>0.764036</td>\n",
       "      <td>0.235964</td>\n",
       "    </tr>\n",
       "    <tr>\n",
       "      <th>Local</th>\n",
       "      <td>0.434649</td>\n",
       "      <td>0.565351</td>\n",
       "    </tr>\n",
       "  </tbody>\n",
       "</table>\n",
       "</div>"
      ],
      "text/plain": [
       "is_canceled            0         1\n",
       "guest_location                    \n",
       "International   0.764036  0.235964\n",
       "Local           0.434649  0.565351"
      ]
     },
     "execution_count": 332,
     "metadata": {},
     "output_type": "execute_result"
    }
   ],
   "source": [
    "pd.crosstab(hotel_data['guest_location'], hotel_data['is_canceled'], normalize='index')"
   ]
  },
  {
   "cell_type": "code",
   "execution_count": 334,
   "id": "06d1a232",
   "metadata": {},
   "outputs": [
    {
     "data": {
      "text/plain": [
       "<Figure size 576x360 with 0 Axes>"
      ]
     },
     "metadata": {},
     "output_type": "display_data"
    },
    {
     "data": {
      "image/png": "[encoded data removed]",
      "text/plain": [
       "<Figure size 432x288 with 1 Axes>"
      ]
     },
     "metadata": {
      "needs_background": "light"
     },
     "output_type": "display_data"
    }
   ],
   "source": [
    "#visualizing cancellation rate by guest location\n",
    "figure = plt.figure(figsize=[8,5])\n",
    "pd.crosstab(hotel_data['guest_location'], hotel_data['is_canceled'], normalize='index').plot.bar(stacked=True, color=['rosybrown', 'indianred'])\n",
    "plt.title('Cancellation rate by guest location', fontsize=16)\n",
    "plt.xlabel('Guest location', fontsize=14)\n",
    "plt.ylabel('Cancellation', fontsize=14)\n",
    "plt.xticks(rotation=0)\n",
    "plt.legend(['Not_Cancelled','Cancelled'], loc='best', bbox_to_anchor=(1.0,0.5))\n",
    "plt.show()"
   ]
  },
  {
   "cell_type": "code",
   "execution_count": 348,
   "id": "f39fb4b9",
   "metadata": {},
   "outputs": [
    {
     "data": {
      "text/html": [
       "<div>\n",
       "<style scoped>\n",
       "    .dataframe tbody tr th:only-of-type {\n",
       "        vertical-align: middle;\n",
       "    }\n",
       "\n",
       "    .dataframe tbody tr th {\n",
       "        vertical-align: top;\n",
       "    }\n",
       "\n",
       "    .dataframe thead th {\n",
       "        text-align: right;\n",
       "    }\n",
       "</style>\n",
       "<table border=\"1\" class=\"dataframe\">\n",
       "  <thead>\n",
       "    <tr style=\"text-align: right;\">\n",
       "      <th>previous_cancellations</th>\n",
       "      <th>cancelled before</th>\n",
       "      <th>never cancelled</th>\n",
       "    </tr>\n",
       "    <tr>\n",
       "      <th>guest_location</th>\n",
       "      <th></th>\n",
       "      <th></th>\n",
       "    </tr>\n",
       "  </thead>\n",
       "  <tbody>\n",
       "    <tr>\n",
       "      <th>International</th>\n",
       "      <td>0.004546</td>\n",
       "      <td>0.995454</td>\n",
       "    </tr>\n",
       "    <tr>\n",
       "      <th>Local</th>\n",
       "      <td>0.126753</td>\n",
       "      <td>0.873247</td>\n",
       "    </tr>\n",
       "  </tbody>\n",
       "</table>\n",
       "</div>"
      ],
      "text/plain": [
       "previous_cancellations  cancelled before  never cancelled\n",
       "guest_location                                           \n",
       "International                   0.004546         0.995454\n",
       "Local                           0.126753         0.873247"
      ]
     },
     "execution_count": 348,
     "metadata": {},
     "output_type": "execute_result"
    }
   ],
   "source": [
    "pd.crosstab(hotel_data['guest_location'], hotel_data['previous_cancellations'], normalize='index')"
   ]
  },
  {
   "cell_type": "code",
   "execution_count": 351,
   "id": "1174e577",
   "metadata": {},
   "outputs": [
    {
     "data": {
      "text/plain": [
       "<Figure size 576x360 with 0 Axes>"
      ]
     },
     "metadata": {},
     "output_type": "display_data"
    },
    {
     "data": {
      "image/png": "[encoded data removed]",
      "text/plain": [
       "<Figure size 432x288 with 1 Axes>"
      ]
     },
     "metadata": {
      "needs_background": "light"
     },
     "output_type": "display_data"
    }
   ],
   "source": [
    "#visualizing Previous cancellations by guest location\n",
    "figure = plt.figure(figsize=[8,5])\n",
    "pd.crosstab(hotel_data['guest_location'], hotel_data['previous_cancellations'], normalize='index').plot.bar(stacked=True, color=['darkred','indianred'])\n",
    "plt.title('Previous cancellations by guest location', fontsize=16)\n",
    "plt.xlabel('Guest location', fontsize=14)\n",
    "plt.ylabel('Cancellation', fontsize=14)\n",
    "plt.xticks(rotation=0)\n",
    "plt.legend(['Cancelled_before', 'Never_Cancelled'], loc='best', bbox_to_anchor=(1.0,0.5))\n",
    "plt.show()"
   ]
  },
  {
   "cell_type": "markdown",
   "id": "63431bd1",
   "metadata": {},
   "source": [
    "**Interpretation:**\n",
    "- It can be observed that local customers have high cancellation rate than international customers.\n",
    "- Along with that it can be observed that local customers have a higher rate of previously cancelled hotel bookings compared to international customers."
   ]
  },
  {
   "cell_type": "markdown",
   "id": "a811f1c5",
   "metadata": {},
   "source": [
    "### Previous_cancellations and Cancellation"
   ]
  },
  {
   "cell_type": "code",
   "execution_count": 318,
   "id": "cfe3aab3",
   "metadata": {},
   "outputs": [
    {
     "data": {
      "text/html": [
       "<div>\n",
       "<style scoped>\n",
       "    .dataframe tbody tr th:only-of-type {\n",
       "        vertical-align: middle;\n",
       "    }\n",
       "\n",
       "    .dataframe tbody tr th {\n",
       "        vertical-align: top;\n",
       "    }\n",
       "\n",
       "    .dataframe thead th {\n",
       "        text-align: right;\n",
       "    }\n",
       "</style>\n",
       "<table border=\"1\" class=\"dataframe\">\n",
       "  <thead>\n",
       "    <tr style=\"text-align: right;\">\n",
       "      <th>is_canceled</th>\n",
       "      <th>0</th>\n",
       "      <th>1</th>\n",
       "    </tr>\n",
       "    <tr>\n",
       "      <th>previous_cancellations</th>\n",
       "      <th></th>\n",
       "      <th></th>\n",
       "    </tr>\n",
       "  </thead>\n",
       "  <tbody>\n",
       "    <tr>\n",
       "      <th>cancelled before</th>\n",
       "      <td>0.082174</td>\n",
       "      <td>0.917826</td>\n",
       "    </tr>\n",
       "    <tr>\n",
       "      <th>never cancelled</th>\n",
       "      <td>0.661484</td>\n",
       "      <td>0.338516</td>\n",
       "    </tr>\n",
       "  </tbody>\n",
       "</table>\n",
       "</div>"
      ],
      "text/plain": [
       "is_canceled                    0         1\n",
       "previous_cancellations                    \n",
       "cancelled before        0.082174  0.917826\n",
       "never cancelled         0.661484  0.338516"
      ]
     },
     "execution_count": 318,
     "metadata": {},
     "output_type": "execute_result"
    }
   ],
   "source": [
    "pd.crosstab(hotel_data['previous_cancellations'], hotel_data['is_canceled'], normalize='index')"
   ]
  },
  {
   "cell_type": "code",
   "execution_count": 323,
   "id": "bbc642b7",
   "metadata": {},
   "outputs": [
    {
     "data": {
      "text/plain": [
       "<Figure size 576x360 with 0 Axes>"
      ]
     },
     "metadata": {},
     "output_type": "display_data"
    },
    {
     "data": {
      "image/png": "[encoded data removed]",
      "text/plain": [
       "<Figure size 432x288 with 1 Axes>"
      ]
     },
     "metadata": {
      "needs_background": "light"
     },
     "output_type": "display_data"
    }
   ],
   "source": [
    "figure = plt.figure(figsize=[8,5])\n",
    "pd.crosstab(hotel_data['previous_cancellations'], hotel_data['is_canceled'], normalize='index').plot.bar(stacked=True, color=['teal', 'darkslategray'])\n",
    "plt.title('Cancellation rate by previous cancellations', fontsize=16)\n",
    "plt.xlabel('Previous cancellation', fontsize=14)\n",
    "plt.ylabel('Cancellation', fontsize=14)\n",
    "plt.xticks(rotation=0)\n",
    "plt.legend(['Not_Cancelled','Cancelled'], loc='best', bbox_to_anchor=(1.0,0.5))\n",
    "plt.show()"
   ]
  },
  {
   "cell_type": "markdown",
   "id": "897a89c2",
   "metadata": {},
   "source": [
    "**Interpretation:**\n",
    "- It can be observed that customers who have previously canceled their hotel bookings are highly likely, at a probability of 92%, to cancel their future bookings as well."
   ]
  },
  {
   "cell_type": "markdown",
   "id": "68319d0a",
   "metadata": {},
   "source": [
    "### Repeated guest and cancellation"
   ]
  },
  {
   "cell_type": "code",
   "execution_count": 354,
   "id": "e1cbadf7",
   "metadata": {},
   "outputs": [
    {
     "data": {
      "text/html": [
       "<div>\n",
       "<style scoped>\n",
       "    .dataframe tbody tr th:only-of-type {\n",
       "        vertical-align: middle;\n",
       "    }\n",
       "\n",
       "    .dataframe tbody tr th {\n",
       "        vertical-align: top;\n",
       "    }\n",
       "\n",
       "    .dataframe thead th {\n",
       "        text-align: right;\n",
       "    }\n",
       "</style>\n",
       "<table border=\"1\" class=\"dataframe\">\n",
       "  <thead>\n",
       "    <tr style=\"text-align: right;\">\n",
       "      <th>is_canceled</th>\n",
       "      <th>0</th>\n",
       "      <th>1</th>\n",
       "    </tr>\n",
       "    <tr>\n",
       "      <th>is_repeated_guest</th>\n",
       "      <th></th>\n",
       "      <th></th>\n",
       "    </tr>\n",
       "  </thead>\n",
       "  <tbody>\n",
       "    <tr>\n",
       "      <th>0</th>\n",
       "      <td>0.622712</td>\n",
       "      <td>0.377288</td>\n",
       "    </tr>\n",
       "    <tr>\n",
       "      <th>1</th>\n",
       "      <td>0.855784</td>\n",
       "      <td>0.144216</td>\n",
       "    </tr>\n",
       "  </tbody>\n",
       "</table>\n",
       "</div>"
      ],
      "text/plain": [
       "is_canceled               0         1\n",
       "is_repeated_guest                    \n",
       "0                  0.622712  0.377288\n",
       "1                  0.855784  0.144216"
      ]
     },
     "execution_count": 354,
     "metadata": {},
     "output_type": "execute_result"
    }
   ],
   "source": [
    "pd.crosstab(hotel_data['is_repeated_guest'], hotel_data['is_canceled'], normalize='index')"
   ]
  },
  {
   "cell_type": "code",
   "execution_count": 361,
   "id": "2e05ab9f",
   "metadata": {},
   "outputs": [
    {
     "data": {
      "text/plain": [
       "<Figure size 576x360 with 0 Axes>"
      ]
     },
     "metadata": {},
     "output_type": "display_data"
    },
    {
     "data": {
      "image/png": "[encoded data removed]",
      "text/plain": [
       "<Figure size 432x288 with 1 Axes>"
      ]
     },
     "metadata": {
      "needs_background": "light"
     },
     "output_type": "display_data"
    }
   ],
   "source": [
    "figure = plt.figure(figsize=[8,5])\n",
    "pd.crosstab(hotel_data['is_repeated_guest'], hotel_data['is_canceled'], normalize='index').plot.bar(stacked=True, color=['royalblue', 'darkblue'])\n",
    "plt.title('Cancellation rate by repeated guest', fontsize=16)\n",
    "plt.xlabel('repeated guest', fontsize=14)\n",
    "plt.ylabel('Cancellation', fontsize=14)\n",
    "plt.xticks(ticks=[0,1],labels=['Not_repeated', 'Repeated'], rotation=0)\n",
    "plt.legend(['Not_Cancelled','Cancelled'], loc='best', bbox_to_anchor=(1.0,0.5))\n",
    "plt.show()"
   ]
  },
  {
   "cell_type": "markdown",
   "id": "365dd137",
   "metadata": {},
   "source": [
    "**Interpretation:**\n",
    "- The cancellation rate among non-repeated guests is higher than that of repeated guests."
   ]
  },
  {
   "cell_type": "markdown",
   "id": "4ff7f03b",
   "metadata": {},
   "source": [
    "### Customer type and cancellation"
   ]
  },
  {
   "cell_type": "code",
   "execution_count": 368,
   "id": "8bdef29d",
   "metadata": {},
   "outputs": [
    {
     "data": {
      "text/html": [
       "<div>\n",
       "<style scoped>\n",
       "    .dataframe tbody tr th:only-of-type {\n",
       "        vertical-align: middle;\n",
       "    }\n",
       "\n",
       "    .dataframe tbody tr th {\n",
       "        vertical-align: top;\n",
       "    }\n",
       "\n",
       "    .dataframe thead th {\n",
       "        text-align: right;\n",
       "    }\n",
       "</style>\n",
       "<table border=\"1\" class=\"dataframe\">\n",
       "  <thead>\n",
       "    <tr style=\"text-align: right;\">\n",
       "      <th>is_canceled</th>\n",
       "      <th>0</th>\n",
       "      <th>1</th>\n",
       "    </tr>\n",
       "    <tr>\n",
       "      <th>customer_type</th>\n",
       "      <th></th>\n",
       "      <th></th>\n",
       "    </tr>\n",
       "  </thead>\n",
       "  <tbody>\n",
       "    <tr>\n",
       "      <th>Transient</th>\n",
       "      <td>0.593499</td>\n",
       "      <td>0.406501</td>\n",
       "    </tr>\n",
       "    <tr>\n",
       "      <th>Contract</th>\n",
       "      <td>0.692710</td>\n",
       "      <td>0.307290</td>\n",
       "    </tr>\n",
       "    <tr>\n",
       "      <th>Transient-Party</th>\n",
       "      <td>0.743904</td>\n",
       "      <td>0.256096</td>\n",
       "    </tr>\n",
       "    <tr>\n",
       "      <th>Group</th>\n",
       "      <td>0.900000</td>\n",
       "      <td>0.100000</td>\n",
       "    </tr>\n",
       "  </tbody>\n",
       "</table>\n",
       "</div>"
      ],
      "text/plain": [
       "is_canceled             0         1\n",
       "customer_type                      \n",
       "Transient        0.593499  0.406501\n",
       "Contract         0.692710  0.307290\n",
       "Transient-Party  0.743904  0.256096\n",
       "Group            0.900000  0.100000"
      ]
     },
     "execution_count": 368,
     "metadata": {},
     "output_type": "execute_result"
    }
   ],
   "source": [
    "pd.crosstab(hotel_data['customer_type'], hotel_data['is_canceled'], normalize='index').sort_values(1, ascending = False)"
   ]
  },
  {
   "cell_type": "code",
   "execution_count": 390,
   "id": "d15499d1",
   "metadata": {},
   "outputs": [
    {
     "data": {
      "text/plain": [
       "<Figure size 864x360 with 0 Axes>"
      ]
     },
     "metadata": {},
     "output_type": "display_data"
    },
    {
     "data": {
      "image/png": "[encoded data removed]",
      "text/plain": [
       "<Figure size 432x288 with 1 Axes>"
      ]
     },
     "metadata": {
      "needs_background": "light"
     },
     "output_type": "display_data"
    }
   ],
   "source": [
    "figure = plt.figure(figsize=[12,5])\n",
    "pd.crosstab(hotel_data['customer_type'], hotel_data['is_canceled'], normalize='index').sort_values(1, ascending = False).plot.bar(stacked=True, color=['limegreen', 'green'])\n",
    "plt.title('Cancellation rate by customer type', fontsize=16)\n",
    "plt.xlabel('Type of customer', fontsize=14)\n",
    "plt.ylabel('Cancellation', fontsize=14)\n",
    "plt.xticks(rotation=0)\n",
    "plt.legend(['Not_Cancelled','Cancelled'], loc='best', bbox_to_anchor=(1.0,0.5))\n",
    "plt.show()"
   ]
  },
  {
   "cell_type": "markdown",
   "id": "4c8dfae3",
   "metadata": {},
   "source": [
    "**Interpretation:**\n",
    "- \"Transient\" customer type has the highest cancellation rate of more than 40%.\n",
    "- And \"Group\" customer type has least cancellation rate."
   ]
  },
  {
   "cell_type": "markdown",
   "id": "a7661e1c",
   "metadata": {},
   "source": [
    "### Market segment and cancellation"
   ]
  },
  {
   "cell_type": "code",
   "execution_count": 373,
   "id": "e1526655",
   "metadata": {},
   "outputs": [
    {
     "data": {
      "text/html": [
       "<div>\n",
       "<style scoped>\n",
       "    .dataframe tbody tr th:only-of-type {\n",
       "        vertical-align: middle;\n",
       "    }\n",
       "\n",
       "    .dataframe tbody tr th {\n",
       "        vertical-align: top;\n",
       "    }\n",
       "\n",
       "    .dataframe thead th {\n",
       "        text-align: right;\n",
       "    }\n",
       "</style>\n",
       "<table border=\"1\" class=\"dataframe\">\n",
       "  <thead>\n",
       "    <tr style=\"text-align: right;\">\n",
       "      <th>is_canceled</th>\n",
       "      <th>0</th>\n",
       "      <th>1</th>\n",
       "    </tr>\n",
       "    <tr>\n",
       "      <th>market_segment</th>\n",
       "      <th></th>\n",
       "      <th></th>\n",
       "    </tr>\n",
       "  </thead>\n",
       "  <tbody>\n",
       "    <tr>\n",
       "      <th>Groups</th>\n",
       "      <td>0.389006</td>\n",
       "      <td>0.610994</td>\n",
       "    </tr>\n",
       "    <tr>\n",
       "      <th>Online TA</th>\n",
       "      <td>0.634529</td>\n",
       "      <td>0.365471</td>\n",
       "    </tr>\n",
       "    <tr>\n",
       "      <th>Offline TA/TO</th>\n",
       "      <td>0.656125</td>\n",
       "      <td>0.343875</td>\n",
       "    </tr>\n",
       "    <tr>\n",
       "      <th>Aviation</th>\n",
       "      <td>0.780488</td>\n",
       "      <td>0.219512</td>\n",
       "    </tr>\n",
       "    <tr>\n",
       "      <th>Corporate</th>\n",
       "      <td>0.816526</td>\n",
       "      <td>0.183474</td>\n",
       "    </tr>\n",
       "    <tr>\n",
       "      <th>Direct</th>\n",
       "      <td>0.842965</td>\n",
       "      <td>0.157035</td>\n",
       "    </tr>\n",
       "    <tr>\n",
       "      <th>Complementary</th>\n",
       "      <td>0.871154</td>\n",
       "      <td>0.128846</td>\n",
       "    </tr>\n",
       "  </tbody>\n",
       "</table>\n",
       "</div>"
      ],
      "text/plain": [
       "is_canceled            0         1\n",
       "market_segment                    \n",
       "Groups          0.389006  0.610994\n",
       "Online TA       0.634529  0.365471\n",
       "Offline TA/TO   0.656125  0.343875\n",
       "Aviation        0.780488  0.219512\n",
       "Corporate       0.816526  0.183474\n",
       "Direct          0.842965  0.157035\n",
       "Complementary   0.871154  0.128846"
      ]
     },
     "execution_count": 373,
     "metadata": {},
     "output_type": "execute_result"
    }
   ],
   "source": [
    "pd.crosstab(hotel_data['market_segment'], hotel_data['is_canceled'], normalize='index').sort_values(1, ascending=False)"
   ]
  },
  {
   "cell_type": "code",
   "execution_count": 417,
   "id": "84906684",
   "metadata": {},
   "outputs": [
    {
     "data": {
      "text/plain": [
       "<Figure size 1080x576 with 0 Axes>"
      ]
     },
     "metadata": {},
     "output_type": "display_data"
    },
    {
     "data": {
      "image/png": "[encoded data removed]",
      "text/plain": [
       "<Figure size 432x288 with 1 Axes>"
      ]
     },
     "metadata": {
      "needs_background": "light"
     },
     "output_type": "display_data"
    }
   ],
   "source": [
    "figure = plt.figure(figsize=[15,8])\n",
    "pd.crosstab(hotel_data['market_segment'], hotel_data['is_canceled'], normalize='index').sort_values(1, ascending=False).plot.bar(stacked=True, color=['darkviolet', 'deeppink'])\n",
    "plt.title('Cancellation rate by type of market segment', fontsize=16)\n",
    "plt.xlabel('Market segment', fontsize=14)\n",
    "plt.ylabel('Cancellation', fontsize=14)\n",
    "plt.xticks(rotation=90)\n",
    "plt.legend(['Not_Cancelled','Cancelled'], loc='best', bbox_to_anchor=(1.0,0.5))\n",
    "plt.show()"
   ]
  },
  {
   "cell_type": "markdown",
   "id": "427ff644",
   "metadata": {},
   "source": [
    "**Interpretation:**\n",
    "- The market segment \"Groups\" has the highest cancellation rate of 61%.\n",
    "- And \"Direct\" has least cancellations after \"Complimentary\"."
   ]
  },
  {
   "cell_type": "markdown",
   "id": "bb39ad04",
   "metadata": {},
   "source": [
    "### Deposite_type and cancellation"
   ]
  },
  {
   "cell_type": "code",
   "execution_count": 301,
   "id": "ad8e476f",
   "metadata": {},
   "outputs": [
    {
     "data": {
      "text/plain": [
       "<Figure size 576x576 with 0 Axes>"
      ]
     },
     "metadata": {},
     "output_type": "display_data"
    },
    {
     "data": {
      "image/png": "[encoded data removed]",
      "text/plain": [
       "<Figure size 432x288 with 1 Axes>"
      ]
     },
     "metadata": {
      "needs_background": "light"
     },
     "output_type": "display_data"
    }
   ],
   "source": [
    "figure = plt.figure(figsize=[8,8])\n",
    "pd.crosstab(hotel_data['deposit_type'], hotel_data['is_canceled'], normalize='index').plot.bar(stacked=True, color=['salmon', 'cadetblue'])\n",
    "plt.title('Cancellation rate by deposite type', fontsize=16)\n",
    "plt.xlabel('deposite type', fontsize=14)\n",
    "plt.ylabel('Cancellation', fontsize=14)\n",
    "plt.xticks(rotation=0)\n",
    "plt.legend(['Not_Cancelled','Cancelled'], loc='best', bbox_to_anchor=(1.0,0.5))\n",
    "plt.show()"
   ]
  },
  {
   "cell_type": "code",
   "execution_count": 300,
   "id": "5e5f677b",
   "metadata": {},
   "outputs": [
    {
     "data": {
      "image/png": "[encoded data removed]",
      "text/plain": [
       "<Figure size 1080x504 with 1 Axes>"
      ]
     },
     "metadata": {
      "needs_background": "light"
     },
     "output_type": "display_data"
    }
   ],
   "source": [
    "# Visualizing lead_time and cancellation\n",
    "\n",
    "figure = plt.figure(figsize=[15,7])\n",
    "sns.boxplot(data=hotel_data, y='lead_time', x='deposit_type')\n",
    "plt.title('Distribution of lead time by deposite type', fontsize=16)\n",
    "plt.xlabel('deposite type', fontsize=14)\n",
    "plt.ylabel('Lead time', fontsize=14)\n",
    "plt.show()"
   ]
  },
  {
   "cell_type": "markdown",
   "id": "9c511716",
   "metadata": {},
   "source": [
    "**Interpretation:**\n",
    "- Surprisingly, customers with non-refundable deposit type have a much higher percentage of canceled reservations.\n",
    "- One of the reasons is because hotel bookings with non-refundable deposit types have the highest median lead time"
   ]
  },
  {
   "cell_type": "markdown",
   "id": "54d051c1",
   "metadata": {},
   "source": [
    "### Booking changes and cancellation"
   ]
  },
  {
   "cell_type": "code",
   "execution_count": 394,
   "id": "3a36f51c",
   "metadata": {},
   "outputs": [
    {
     "data": {
      "text/plain": [
       "no     70894\n",
       "yes    12545\n",
       "Name: booking_changes, dtype: int64"
      ]
     },
     "execution_count": 394,
     "metadata": {},
     "output_type": "execute_result"
    }
   ],
   "source": [
    "hotel_data.booking_changes.value_counts()"
   ]
  },
  {
   "cell_type": "code",
   "execution_count": 396,
   "id": "98538783",
   "metadata": {},
   "outputs": [
    {
     "data": {
      "text/html": [
       "<div>\n",
       "<style scoped>\n",
       "    .dataframe tbody tr th:only-of-type {\n",
       "        vertical-align: middle;\n",
       "    }\n",
       "\n",
       "    .dataframe tbody tr th {\n",
       "        vertical-align: top;\n",
       "    }\n",
       "\n",
       "    .dataframe thead th {\n",
       "        text-align: right;\n",
       "    }\n",
       "</style>\n",
       "<table border=\"1\" class=\"dataframe\">\n",
       "  <thead>\n",
       "    <tr style=\"text-align: right;\">\n",
       "      <th>is_canceled</th>\n",
       "      <th>0</th>\n",
       "      <th>1</th>\n",
       "    </tr>\n",
       "    <tr>\n",
       "      <th>booking_changes</th>\n",
       "      <th></th>\n",
       "      <th></th>\n",
       "    </tr>\n",
       "  </thead>\n",
       "  <tbody>\n",
       "    <tr>\n",
       "      <th>no</th>\n",
       "      <td>0.592744</td>\n",
       "      <td>0.407256</td>\n",
       "    </tr>\n",
       "    <tr>\n",
       "      <th>yes</th>\n",
       "      <td>0.840893</td>\n",
       "      <td>0.159107</td>\n",
       "    </tr>\n",
       "  </tbody>\n",
       "</table>\n",
       "</div>"
      ],
      "text/plain": [
       "is_canceled             0         1\n",
       "booking_changes                    \n",
       "no               0.592744  0.407256\n",
       "yes              0.840893  0.159107"
      ]
     },
     "execution_count": 396,
     "metadata": {},
     "output_type": "execute_result"
    }
   ],
   "source": [
    "pd.crosstab(hotel_data['booking_changes'], hotel_data['is_canceled'], normalize='index')"
   ]
  },
  {
   "cell_type": "code",
   "execution_count": 398,
   "id": "e8c999ac",
   "metadata": {},
   "outputs": [
    {
     "data": {
      "text/plain": [
       "<Figure size 576x360 with 0 Axes>"
      ]
     },
     "metadata": {},
     "output_type": "display_data"
    },
    {
     "data": {
      "image/png": "[encoded data removed]",
      "text/plain": [
       "<Figure size 432x288 with 1 Axes>"
      ]
     },
     "metadata": {
      "needs_background": "light"
     },
     "output_type": "display_data"
    }
   ],
   "source": [
    "figure = plt.figure(figsize=[8,5])\n",
    "pd.crosstab(hotel_data['booking_changes'], hotel_data['is_canceled'], normalize='index').plot.bar(stacked=True, color=['black', 'darkgrey'])\n",
    "plt.title('Cancellation rate by booking changes', fontsize=16)\n",
    "plt.xlabel('Booking changes', fontsize=14)\n",
    "plt.ylabel('Cancellation', fontsize=14)\n",
    "plt.xticks(rotation=0)\n",
    "plt.legend(['Not_Cancelled','Cancelled'], loc='best', bbox_to_anchor=(1.0,0.5))\n",
    "plt.show()"
   ]
  },
  {
   "cell_type": "markdown",
   "id": "5cf9ffb8",
   "metadata": {},
   "source": [
    "**Interpretation:**\n",
    "- Customers who modify their booking details are less likely to cancel compared to those who do not make any changes to their booking details."
   ]
  },
  {
   "cell_type": "markdown",
   "id": "668f4198",
   "metadata": {},
   "source": [
    "### special_requests and Cancellation"
   ]
  },
  {
   "cell_type": "code",
   "execution_count": 209,
   "id": "00806ce5",
   "metadata": {},
   "outputs": [
    {
     "data": {
      "image/png": "[encoded data removed]",
      "text/plain": [
       "<Figure size 576x360 with 1 Axes>"
      ]
     },
     "metadata": {
      "needs_background": "light"
     },
     "output_type": "display_data"
    }
   ],
   "source": [
    "# Visualizing the average total number of special requests for cancelled and not cancelled bookings\n",
    "plt.figure(figsize=[8,5])\n",
    "sns.barplot(x=hotel_data['is_canceled'], y=hotel_data['total_of_special_requests'], palette='flare')\n",
    "plt.title('Average total number of special requests of bookings per cancelled status', fontsize=16)\n",
    "plt.xlabel('Booking status', fontsize=14)\n",
    "plt.ylabel('total number of special requests', fontsize=14)\n",
    "plt.xticks(ticks=[0,1], labels=['Not cancelled', 'Cancelled'])\n",
    "plt.show()"
   ]
  },
  {
   "cell_type": "markdown",
   "id": "d818a32a",
   "metadata": {},
   "source": [
    "**Interpretation:**\n",
    "- we can see that the higher the number of the total special request the lower the cancellation rate.\n",
    "- Means that the customer who booked and made extra requests are more likely not to cancel compared to the customers who did not make any special request."
   ]
  },
  {
   "cell_type": "markdown",
   "id": "c469b450",
   "metadata": {},
   "source": [
    "### Required_car_parking_spaces and Cancellation"
   ]
  },
  {
   "cell_type": "code",
   "execution_count": 210,
   "id": "31f8c085",
   "metadata": {},
   "outputs": [
    {
     "data": {
      "image/png": "[encoded data removed]",
      "text/plain": [
       "<Figure size 576x360 with 1 Axes>"
      ]
     },
     "metadata": {
      "needs_background": "light"
     },
     "output_type": "display_data"
    }
   ],
   "source": [
    "# Visualizing Average total number of required car parking spaces bookings per cancelled status\n",
    "plt.figure(figsize=[8,5])\n",
    "sns.barplot(x=hotel_data['required_car_parking_spaces'], y=hotel_data['is_canceled'], palette='Set2')\n",
    "plt.title('Average total number of required car parking spaces for bookings per cancelled status', fontsize=16)\n",
    "plt.xlabel('Booking status', fontsize=14)\n",
    "plt.ylabel('Number of required car parking spaces', fontsize=14)\n",
    "plt.xticks(ticks=[0,1], labels=['Not cancelled', 'Cancelled'])\n",
    "plt.show()"
   ]
  },
  {
   "cell_type": "markdown",
   "id": "976cde3f",
   "metadata": {},
   "source": [
    "**Interpretation:**\n",
    "- It shows that customer who need a parking spot for their vehicle actually never cancelled their hotel booking.\n",
    "- It is also fair to think that by the time a guest is thinking about where they will park their car, they are most likely pretty commited to their destination."
   ]
  },
  {
   "cell_type": "markdown",
   "id": "7556be88",
   "metadata": {},
   "source": [
    "### Arrival_month and Cancellation"
   ]
  },
  {
   "cell_type": "code",
   "execution_count": 404,
   "id": "ba0c7cb5",
   "metadata": {},
   "outputs": [
    {
     "data": {
      "image/png": "[encoded data removed]",
      "text/plain": [
       "<Figure size 1080x504 with 1 Axes>"
      ]
     },
     "metadata": {
      "needs_background": "light"
     },
     "output_type": "display_data"
    }
   ],
   "source": [
    "# Visualizing the number of cancelled and not cancelled bookings by arrival date\n",
    "\n",
    "hotel_data['arrival_month'] = pd.Categorical(hotel_data['arrival_date'].dt.month_name(),\n",
    "                                categories = ['January','February','March','April','May','June','July','August','September','October','November','December'],\n",
    "                                ordered = True)\n",
    "plt.figure(figsize=[15,7])\n",
    "sns.countplot(data=hotel_data, x='arrival_month', hue='is_canceled', palette='dark:#5A9_r')\n",
    "plt.title('Arrivals by month and cancellation status', fontsize=16)\n",
    "plt.xlabel('Arrival month', fontsize=12)\n",
    "plt.xticks(rotation=45, fontsize=12)\n",
    "plt.legend(['Not_Cancelled','Cancelled'])\n",
    "plt.show()\n"
   ]
  },
  {
   "cell_type": "code",
   "execution_count": 271,
   "id": "2c1f96ea",
   "metadata": {},
   "outputs": [
    {
     "data": {
      "text/html": [
       "<div>\n",
       "<style scoped>\n",
       "    .dataframe tbody tr th:only-of-type {\n",
       "        vertical-align: middle;\n",
       "    }\n",
       "\n",
       "    .dataframe tbody tr th {\n",
       "        vertical-align: top;\n",
       "    }\n",
       "\n",
       "    .dataframe thead th {\n",
       "        text-align: right;\n",
       "    }\n",
       "</style>\n",
       "<table border=\"1\" class=\"dataframe\">\n",
       "  <thead>\n",
       "    <tr style=\"text-align: right;\">\n",
       "      <th>is_canceled</th>\n",
       "      <th>0</th>\n",
       "      <th>1</th>\n",
       "    </tr>\n",
       "    <tr>\n",
       "      <th>arrival_month</th>\n",
       "      <th></th>\n",
       "      <th></th>\n",
       "    </tr>\n",
       "  </thead>\n",
       "  <tbody>\n",
       "    <tr>\n",
       "      <th>June</th>\n",
       "      <td>0.584764</td>\n",
       "      <td>0.415236</td>\n",
       "    </tr>\n",
       "    <tr>\n",
       "      <th>April</th>\n",
       "      <td>0.591618</td>\n",
       "      <td>0.408382</td>\n",
       "    </tr>\n",
       "    <tr>\n",
       "      <th>May</th>\n",
       "      <td>0.606002</td>\n",
       "      <td>0.393998</td>\n",
       "    </tr>\n",
       "    <tr>\n",
       "      <th>September</th>\n",
       "      <td>0.608411</td>\n",
       "      <td>0.391589</td>\n",
       "    </tr>\n",
       "    <tr>\n",
       "      <th>August</th>\n",
       "      <td>0.620950</td>\n",
       "      <td>0.379050</td>\n",
       "    </tr>\n",
       "    <tr>\n",
       "      <th>October</th>\n",
       "      <td>0.622579</td>\n",
       "      <td>0.377421</td>\n",
       "    </tr>\n",
       "    <tr>\n",
       "      <th>July</th>\n",
       "      <td>0.628409</td>\n",
       "      <td>0.371591</td>\n",
       "    </tr>\n",
       "    <tr>\n",
       "      <th>December</th>\n",
       "      <td>0.651242</td>\n",
       "      <td>0.348758</td>\n",
       "    </tr>\n",
       "    <tr>\n",
       "      <th>February</th>\n",
       "      <td>0.667081</td>\n",
       "      <td>0.332919</td>\n",
       "    </tr>\n",
       "    <tr>\n",
       "      <th>March</th>\n",
       "      <td>0.676714</td>\n",
       "      <td>0.323286</td>\n",
       "    </tr>\n",
       "    <tr>\n",
       "      <th>November</th>\n",
       "      <td>0.688407</td>\n",
       "      <td>0.311593</td>\n",
       "    </tr>\n",
       "    <tr>\n",
       "      <th>January</th>\n",
       "      <td>0.692102</td>\n",
       "      <td>0.307898</td>\n",
       "    </tr>\n",
       "  </tbody>\n",
       "</table>\n",
       "</div>"
      ],
      "text/plain": [
       "is_canceled           0         1\n",
       "arrival_month                    \n",
       "June           0.584764  0.415236\n",
       "April          0.591618  0.408382\n",
       "May            0.606002  0.393998\n",
       "September      0.608411  0.391589\n",
       "August         0.620950  0.379050\n",
       "October        0.622579  0.377421\n",
       "July           0.628409  0.371591\n",
       "December       0.651242  0.348758\n",
       "February       0.667081  0.332919\n",
       "March          0.676714  0.323286\n",
       "November       0.688407  0.311593\n",
       "January        0.692102  0.307898"
      ]
     },
     "execution_count": 271,
     "metadata": {},
     "output_type": "execute_result"
    }
   ],
   "source": [
    "pd.crosstab(hotel_data['arrival_month'], hotel_data['is_canceled'], normalize='index').sort_values(1, ascending= False)"
   ]
  },
  {
   "cell_type": "markdown",
   "id": "f0c6cb25",
   "metadata": {},
   "source": [
    "**Interpretation**\n",
    "- The same pattern can be seen in 'cancelled' and 'no cancelled' bookings.\n",
    "- where highest cancellation months are:\n",
    "    - june(41.5%)\n",
    "    - april(40.8%)\n",
    "    - may(39.3%)\n",
    "    - and these are summer months."
   ]
  },
  {
   "cell_type": "markdown",
   "id": "57706680",
   "metadata": {},
   "source": [
    "### Reserved_room_type and Cancellation"
   ]
  },
  {
   "cell_type": "code",
   "execution_count": 252,
   "id": "5ac9f650",
   "metadata": {},
   "outputs": [
    {
     "data": {
      "image/png": "[encoded data removed]",
      "text/plain": [
       "<Figure size 1080x504 with 1 Axes>"
      ]
     },
     "metadata": {
      "needs_background": "light"
     },
     "output_type": "display_data"
    }
   ],
   "source": [
    "# visualizing percentage of cancelled bookings for each room type\n",
    "\n",
    "plt.figure(figsize=[15,7])\n",
    "sns.barplot(data=hotel_data, x='reserved_room_type', y='is_canceled', palette='dark:#5A9_r', order=hotel_data.groupby('reserved_room_type')['is_canceled'].mean().sort_values().index)\n",
    "plt.title('Average percentage of cancelled bookings for each room type', fontsize=16)\n",
    "plt.xlabel('Reserved room type', fontsize=12)\n",
    "plt.ylabel('Cancelled bookings percentage', fontsize=12)\n",
    "plt.show()"
   ]
  },
  {
   "cell_type": "code",
   "execution_count": 256,
   "id": "2ed46e9a",
   "metadata": {},
   "outputs": [
    {
     "data": {
      "text/plain": [
       "<bound method Series.reset_index of reserved_room_type\n",
       "L    0.000000\n",
       "E    0.289548\n",
       "C    0.309677\n",
       "B    0.316794\n",
       "D    0.317935\n",
       "F    0.322581\n",
       "G    0.367123\n",
       "A    0.390573\n",
       "H    0.398477\n",
       "Name: is_canceled, dtype: float64>"
      ]
     },
     "execution_count": 256,
     "metadata": {},
     "output_type": "execute_result"
    }
   ],
   "source": [
    "reserved = hotel_data.groupby('reserved_room_type')['is_canceled'].mean().sort_values().reset_index\n",
    "reserved"
   ]
  },
  {
   "cell_type": "markdown",
   "id": "c44c742c",
   "metadata": {},
   "source": [
    "**Interpretation:**\n",
    "- Customers who reserved room type H have the highest percentage booking cancellation with 39.8% of bookings canceled."
   ]
  },
  {
   "cell_type": "markdown",
   "id": "35d08443",
   "metadata": {},
   "source": [
    "### Distribution_channel and Cancellation"
   ]
  },
  {
   "cell_type": "code",
   "execution_count": null,
   "id": "54e5c7e0",
   "metadata": {},
   "outputs": [],
   "source": [
    "pd.crosstab(hotel_data['distribution_channel'], hotel_data['is_canceled'], normalize='index').sort_values(1,ascending=False)"
   ]
  },
  {
   "cell_type": "code",
   "execution_count": 413,
   "id": "01fb0e4a",
   "metadata": {},
   "outputs": [
    {
     "data": {
      "text/plain": [
       "<Figure size 576x360 with 0 Axes>"
      ]
     },
     "metadata": {},
     "output_type": "display_data"
    },
    {
     "data": {
      "image/png": "[encoded data removed]",
      "text/plain": [
       "<Figure size 432x288 with 1 Axes>"
      ]
     },
     "metadata": {
      "needs_background": "light"
     },
     "output_type": "display_data"
    }
   ],
   "source": [
    "figure = plt.figure(figsize=[8,5])\n",
    "pd.crosstab(hotel_data['distribution_channel'], hotel_data['is_canceled'], normalize='index').sort_values(1,ascending=False).plot.bar(stacked=True, color=['goldenrod', 'darkolivegreen'])\n",
    "plt.title('Cancellation rate by Distribution channel', fontsize=16)\n",
    "plt.xlabel('Distribution channel', fontsize=14)\n",
    "plt.ylabel('Cancellation', fontsize=14)\n",
    "plt.xticks(rotation=0)\n",
    "plt.legend(['Not_Cancelled','Cancelled'], loc='best', bbox_to_anchor=(1.0,0.5))\n",
    "plt.show()"
   ]
  },
  {
   "cell_type": "markdown",
   "id": "112f437e",
   "metadata": {},
   "source": [
    "**Interpretation:**\n",
    "- The Travel Agent/Tour Operator distribution channel has the highest cancellation rate,\n",
    "- while the Direct distribution channel has the lowest cancellation rate.\n",
    "- Bookings through the undefined distribution channel are not included in the analysis."
   ]
  },
  {
   "cell_type": "code",
   "execution_count": 190,
   "id": "38a97dca",
   "metadata": {},
   "outputs": [
    {
     "data": {
      "image/png": "[encoded data removed]",
      "text/plain": [
       "<Figure size 576x720 with 2 Axes>"
      ]
     },
     "metadata": {
      "needs_background": "light"
     },
     "output_type": "display_data"
    }
   ],
   "source": [
    "# Visualizing correlation between features and cancellation status\n",
    "fig = plt.figure(figsize = (8,10))\n",
    "ax = sns.heatmap(hotel_data.corr()[['is_canceled']].sort_values('is_canceled', ascending=False), annot=True, annot_kws={'size':12}, cmap='BuPu')\n",
    "ax.set_title('Correlation coefficient between each numeric feature and cancellation status', fontsize=18)\n",
    "ax.set_ylabel('Features', fontsize=16)\n",
    "ax.tick_params(axis='both', labelsize=12)\n",
    "y_min, y_max = ax.get_ylim()\n",
    "ax.set_ylim(top=y_max+1)\n",
    "plt.show()"
   ]
  },
  {
   "cell_type": "code",
   "execution_count": null,
   "id": "03abb4e4",
   "metadata": {},
   "outputs": [],
   "source": []
  },
  {
   "cell_type": "code",
   "execution_count": null,
   "id": "8713bc4a",
   "metadata": {},
   "outputs": [],
   "source": []
  },
  {
   "cell_type": "code",
   "execution_count": null,
   "id": "9016c2fe",
   "metadata": {},
   "outputs": [],
   "source": []
  },
  {
   "cell_type": "code",
   "execution_count": null,
   "id": "95571475",
   "metadata": {},
   "outputs": [],
   "source": []
  },
  {
   "cell_type": "code",
   "execution_count": null,
   "id": "344040cb",
   "metadata": {},
   "outputs": [],
   "source": []
  },
  {
   "cell_type": "code",
   "execution_count": null,
   "id": "b6673fd3",
   "metadata": {},
   "outputs": [],
   "source": []
  },
  {
   "cell_type": "code",
   "execution_count": null,
   "id": "f2ca78dc",
   "metadata": {},
   "outputs": [],
   "source": []
  },
  {
   "cell_type": "code",
   "execution_count": null,
   "id": "3c9d1e61",
   "metadata": {},
   "outputs": [],
   "source": []
  },
  {
   "cell_type": "code",
   "execution_count": null,
   "id": "27d3a800",
   "metadata": {},
   "outputs": [],
   "source": []
  },
  {
   "cell_type": "code",
   "execution_count": null,
   "id": "4b681dc1",
   "metadata": {},
   "outputs": [],
   "source": []
  },
  {
   "cell_type": "code",
   "execution_count": null,
   "id": "08768c1f",
   "metadata": {},
   "outputs": [],
   "source": []
  },
  {
   "cell_type": "code",
   "execution_count": null,
   "id": "df5d20ef",
   "metadata": {},
   "outputs": [],
   "source": []
  },
  {
   "cell_type": "code",
   "execution_count": null,
   "id": "d2e259a2",
   "metadata": {},
   "outputs": [],
   "source": []
  },
  {
   "cell_type": "code",
   "execution_count": null,
   "id": "84fa10a6",
   "metadata": {},
   "outputs": [],
   "source": []
  },
  {
   "cell_type": "code",
   "execution_count": null,
   "id": "dd81f276",
   "metadata": {},
   "outputs": [],
   "source": []
  },
  {
   "cell_type": "code",
   "execution_count": null,
   "id": "dc19ee46",
   "metadata": {},
   "outputs": [],
   "source": []
  },
  {
   "cell_type": "code",
   "execution_count": null,
   "id": "84aced2f",
   "metadata": {},
   "outputs": [],
   "source": []
  },
  {
   "cell_type": "code",
   "execution_count": null,
   "id": "eb6ba976",
   "metadata": {},
   "outputs": [],
   "source": []
  }
 ],
 "metadata": {
  "kernelspec": {
   "display_name": "Python 3 (ipykernel)",
   "language": "python",
   "name": "python3"
  },
  "language_info": {
   "codemirror_mode": {
    "name": "ipython",
    "version": 3
   },
   "file_extension": ".py",
   "mimetype": "text/x-python",
   "name": "python",
   "nbconvert_exporter": "python",
   "pygments_lexer": "ipython3",
   "version": "3.9.12"
  }
 },
 "nbformat": 4,
 "nbformat_minor": 5
}
