{
 "cells": [
  {
   "cell_type": "markdown",
   "id": "84c5bae3",
   "metadata": {},
   "source": [
    "### Importing Libraries"
   ]
  },
  {
   "cell_type": "code",
   "execution_count": 698,
   "id": "620a95ff",
   "metadata": {},
   "outputs": [],
   "source": [
    "import numpy as np                                          #Importing package numpys (For Numerical Python)\n",
    "import pandas as pd                                         #Importing for panel data analysis\n",
    "pd.set_option('display.max_columns', None)                  # Unfolding hidden features if the cardinality is high\n",
    "#---------------------------------------------------------------------------------------------------------------------\n",
    "import matplotlib.pyplot as plt                             #Importing pyplot interface using matplotlib\n",
    "from matplotlib.pylab import rcParams                       # Backend used for rendering and GUI integration\n",
    "import seaborn as sns                                       #Importin seaborm library for interactive visualization\n",
    "%matplotlib inline\n",
    "#---------------------------------------------------------------------------------------------------------------------\n",
    "from sklearn.model_selection import train_test_split        # To split the data in training and testing part\n",
    "from sklearn.linear_model import LogisticRegression         # To create the Logistic Regression Model\n",
    "#---------------------------------------------------------------------------------------------------------------------\n",
    "from sklearn.metrics import confusion_matrix                #For verifying model performance using confusion matrix\n",
    "from sklearn.metrics import accuracy_score                  #For calculating the accuracy for the model\n",
    "from sklearn.metrics import f1_score                        # For Checking the F1-Score of our model\n",
    "#---------------------------------------------------------------------------------------------------------------------\n",
    "import warnings\n",
    "warnings.filterwarnings(\"ignore\")"
   ]
  },
  {
   "cell_type": "markdown",
   "id": "a7682911",
   "metadata": {},
   "source": [
    "### Data Acquisition & Description"
   ]
  },
  {
   "cell_type": "markdown",
   "id": "a83d942a",
   "metadata": {},
   "source": [
    "- This data set contains booking information for a city hotel and a resort hotel, and includes information such as when the booking was made, length of stay, the number of adults, children, and/or babies, and the number of available parking spaces, among other things.\n",
    "\n",
    "- The column is_canceled is also present in the dataset which has two values 1 and 0 represent booking canceled or Not respectively.\n",
    "\n",
    "- This is the data that we have to predict for future samples.\n",
    "\n",
    "\n",
    "- The dataset is divided into two parts: Train, and Test sets.\n",
    "\n",
    "- Train Set:\n",
    "    - The train set contains 83573 rows and 32 columns.\n",
    "    - The last column is_canceled is the target variable.\n",
    "\n"
   ]
  },
  {
   "cell_type": "code",
   "execution_count": 699,
   "id": "8c1906c4",
   "metadata": {},
   "outputs": [
    {
     "data": {
      "text/html": [
       "<div>\n",
       "<style scoped>\n",
       "    .dataframe tbody tr th:only-of-type {\n",
       "        vertical-align: middle;\n",
       "    }\n",
       "\n",
       "    .dataframe tbody tr th {\n",
       "        vertical-align: top;\n",
       "    }\n",
       "\n",
       "    .dataframe thead th {\n",
       "        text-align: right;\n",
       "    }\n",
       "</style>\n",
       "<table border=\"1\" class=\"dataframe\">\n",
       "  <thead>\n",
       "    <tr style=\"text-align: right;\">\n",
       "      <th></th>\n",
       "      <th>Index</th>\n",
       "      <th>hotel</th>\n",
       "      <th>is_canceled</th>\n",
       "      <th>lead_time</th>\n",
       "      <th>arrival_date_year</th>\n",
       "      <th>arrival_date_month</th>\n",
       "      <th>arrival_date_week_number</th>\n",
       "      <th>arrival_date_day_of_month</th>\n",
       "      <th>stays_in_weekend_nights</th>\n",
       "      <th>stays_in_week_nights</th>\n",
       "      <th>adults</th>\n",
       "      <th>children</th>\n",
       "      <th>babies</th>\n",
       "      <th>meal</th>\n",
       "      <th>country</th>\n",
       "      <th>market_segment</th>\n",
       "      <th>distribution_channel</th>\n",
       "      <th>is_repeated_guest</th>\n",
       "      <th>previous_cancellations</th>\n",
       "      <th>previous_bookings_not_canceled</th>\n",
       "      <th>reserved_room_type</th>\n",
       "      <th>assigned_room_type</th>\n",
       "      <th>booking_changes</th>\n",
       "      <th>deposit_type</th>\n",
       "      <th>agent</th>\n",
       "      <th>days_in_waiting_list</th>\n",
       "      <th>customer_type</th>\n",
       "      <th>adr</th>\n",
       "      <th>required_car_parking_spaces</th>\n",
       "      <th>total_of_special_requests</th>\n",
       "      <th>reservation_status</th>\n",
       "      <th>reservation_status_date</th>\n",
       "    </tr>\n",
       "  </thead>\n",
       "  <tbody>\n",
       "    <tr>\n",
       "      <th>0</th>\n",
       "      <td>9710</td>\n",
       "      <td>Resort Hotel</td>\n",
       "      <td>1</td>\n",
       "      <td>122</td>\n",
       "      <td>2016</td>\n",
       "      <td>December</td>\n",
       "      <td>53</td>\n",
       "      <td>27</td>\n",
       "      <td>0</td>\n",
       "      <td>4</td>\n",
       "      <td>2</td>\n",
       "      <td>0.0</td>\n",
       "      <td>0</td>\n",
       "      <td>BB</td>\n",
       "      <td>FRA</td>\n",
       "      <td>Online TA</td>\n",
       "      <td>TA/TO</td>\n",
       "      <td>0</td>\n",
       "      <td>0</td>\n",
       "      <td>0</td>\n",
       "      <td>D</td>\n",
       "      <td>D</td>\n",
       "      <td>3</td>\n",
       "      <td>No Deposit</td>\n",
       "      <td>240.0</td>\n",
       "      <td>0</td>\n",
       "      <td>Transient</td>\n",
       "      <td>74.75</td>\n",
       "      <td>0</td>\n",
       "      <td>2</td>\n",
       "      <td>Canceled</td>\n",
       "      <td>2016-11-27</td>\n",
       "    </tr>\n",
       "    <tr>\n",
       "      <th>1</th>\n",
       "      <td>40307</td>\n",
       "      <td>City Hotel</td>\n",
       "      <td>1</td>\n",
       "      <td>20</td>\n",
       "      <td>2015</td>\n",
       "      <td>July</td>\n",
       "      <td>30</td>\n",
       "      <td>22</td>\n",
       "      <td>0</td>\n",
       "      <td>2</td>\n",
       "      <td>2</td>\n",
       "      <td>0.0</td>\n",
       "      <td>0</td>\n",
       "      <td>BB</td>\n",
       "      <td>PRT</td>\n",
       "      <td>Groups</td>\n",
       "      <td>TA/TO</td>\n",
       "      <td>0</td>\n",
       "      <td>0</td>\n",
       "      <td>0</td>\n",
       "      <td>A</td>\n",
       "      <td>A</td>\n",
       "      <td>0</td>\n",
       "      <td>No Deposit</td>\n",
       "      <td>1.0</td>\n",
       "      <td>0</td>\n",
       "      <td>Transient-Party</td>\n",
       "      <td>62.00</td>\n",
       "      <td>0</td>\n",
       "      <td>0</td>\n",
       "      <td>Canceled</td>\n",
       "      <td>2015-07-17</td>\n",
       "    </tr>\n",
       "    <tr>\n",
       "      <th>2</th>\n",
       "      <td>110051</td>\n",
       "      <td>City Hotel</td>\n",
       "      <td>0</td>\n",
       "      <td>87</td>\n",
       "      <td>2017</td>\n",
       "      <td>April</td>\n",
       "      <td>16</td>\n",
       "      <td>16</td>\n",
       "      <td>2</td>\n",
       "      <td>3</td>\n",
       "      <td>3</td>\n",
       "      <td>0.0</td>\n",
       "      <td>0</td>\n",
       "      <td>BB</td>\n",
       "      <td>BEL</td>\n",
       "      <td>Online TA</td>\n",
       "      <td>TA/TO</td>\n",
       "      <td>0</td>\n",
       "      <td>0</td>\n",
       "      <td>0</td>\n",
       "      <td>D</td>\n",
       "      <td>D</td>\n",
       "      <td>0</td>\n",
       "      <td>No Deposit</td>\n",
       "      <td>9.0</td>\n",
       "      <td>0</td>\n",
       "      <td>Transient</td>\n",
       "      <td>171.00</td>\n",
       "      <td>0</td>\n",
       "      <td>0</td>\n",
       "      <td>Check-Out</td>\n",
       "      <td>2017-04-21</td>\n",
       "    </tr>\n",
       "    <tr>\n",
       "      <th>3</th>\n",
       "      <td>22999</td>\n",
       "      <td>Resort Hotel</td>\n",
       "      <td>0</td>\n",
       "      <td>0</td>\n",
       "      <td>2017</td>\n",
       "      <td>February</td>\n",
       "      <td>5</td>\n",
       "      <td>2</td>\n",
       "      <td>0</td>\n",
       "      <td>1</td>\n",
       "      <td>1</td>\n",
       "      <td>0.0</td>\n",
       "      <td>0</td>\n",
       "      <td>BB</td>\n",
       "      <td>PRT</td>\n",
       "      <td>Online TA</td>\n",
       "      <td>TA/TO</td>\n",
       "      <td>1</td>\n",
       "      <td>0</td>\n",
       "      <td>1</td>\n",
       "      <td>A</td>\n",
       "      <td>A</td>\n",
       "      <td>0</td>\n",
       "      <td>No Deposit</td>\n",
       "      <td>196.0</td>\n",
       "      <td>0</td>\n",
       "      <td>Transient</td>\n",
       "      <td>43.00</td>\n",
       "      <td>0</td>\n",
       "      <td>1</td>\n",
       "      <td>Check-Out</td>\n",
       "      <td>2017-02-03</td>\n",
       "    </tr>\n",
       "    <tr>\n",
       "      <th>4</th>\n",
       "      <td>8344</td>\n",
       "      <td>Resort Hotel</td>\n",
       "      <td>1</td>\n",
       "      <td>42</td>\n",
       "      <td>2016</td>\n",
       "      <td>September</td>\n",
       "      <td>39</td>\n",
       "      <td>23</td>\n",
       "      <td>0</td>\n",
       "      <td>1</td>\n",
       "      <td>2</td>\n",
       "      <td>0.0</td>\n",
       "      <td>0</td>\n",
       "      <td>BB</td>\n",
       "      <td>IRL</td>\n",
       "      <td>Online TA</td>\n",
       "      <td>TA/TO</td>\n",
       "      <td>0</td>\n",
       "      <td>0</td>\n",
       "      <td>0</td>\n",
       "      <td>A</td>\n",
       "      <td>A</td>\n",
       "      <td>0</td>\n",
       "      <td>No Deposit</td>\n",
       "      <td>240.0</td>\n",
       "      <td>0</td>\n",
       "      <td>Transient</td>\n",
       "      <td>109.00</td>\n",
       "      <td>0</td>\n",
       "      <td>1</td>\n",
       "      <td>Canceled</td>\n",
       "      <td>2016-08-26</td>\n",
       "    </tr>\n",
       "  </tbody>\n",
       "</table>\n",
       "</div>"
      ],
      "text/plain": [
       "    Index         hotel  is_canceled  lead_time  arrival_date_year  \\\n",
       "0    9710  Resort Hotel            1        122               2016   \n",
       "1   40307    City Hotel            1         20               2015   \n",
       "2  110051    City Hotel            0         87               2017   \n",
       "3   22999  Resort Hotel            0          0               2017   \n",
       "4    8344  Resort Hotel            1         42               2016   \n",
       "\n",
       "  arrival_date_month  arrival_date_week_number  arrival_date_day_of_month  \\\n",
       "0           December                        53                         27   \n",
       "1               July                        30                         22   \n",
       "2              April                        16                         16   \n",
       "3           February                         5                          2   \n",
       "4          September                        39                         23   \n",
       "\n",
       "   stays_in_weekend_nights  stays_in_week_nights  adults  children  babies  \\\n",
       "0                        0                     4       2       0.0       0   \n",
       "1                        0                     2       2       0.0       0   \n",
       "2                        2                     3       3       0.0       0   \n",
       "3                        0                     1       1       0.0       0   \n",
       "4                        0                     1       2       0.0       0   \n",
       "\n",
       "  meal country market_segment distribution_channel  is_repeated_guest  \\\n",
       "0   BB     FRA      Online TA                TA/TO                  0   \n",
       "1   BB     PRT         Groups                TA/TO                  0   \n",
       "2   BB     BEL      Online TA                TA/TO                  0   \n",
       "3   BB     PRT      Online TA                TA/TO                  1   \n",
       "4   BB     IRL      Online TA                TA/TO                  0   \n",
       "\n",
       "   previous_cancellations  previous_bookings_not_canceled reserved_room_type  \\\n",
       "0                       0                               0                  D   \n",
       "1                       0                               0                  A   \n",
       "2                       0                               0                  D   \n",
       "3                       0                               1                  A   \n",
       "4                       0                               0                  A   \n",
       "\n",
       "  assigned_room_type  booking_changes deposit_type  agent  \\\n",
       "0                  D                3   No Deposit  240.0   \n",
       "1                  A                0   No Deposit    1.0   \n",
       "2                  D                0   No Deposit    9.0   \n",
       "3                  A                0   No Deposit  196.0   \n",
       "4                  A                0   No Deposit  240.0   \n",
       "\n",
       "   days_in_waiting_list    customer_type     adr  required_car_parking_spaces  \\\n",
       "0                     0        Transient   74.75                            0   \n",
       "1                     0  Transient-Party   62.00                            0   \n",
       "2                     0        Transient  171.00                            0   \n",
       "3                     0        Transient   43.00                            0   \n",
       "4                     0        Transient  109.00                            0   \n",
       "\n",
       "   total_of_special_requests reservation_status reservation_status_date  \n",
       "0                          2           Canceled              2016-11-27  \n",
       "1                          0           Canceled              2015-07-17  \n",
       "2                          0          Check-Out              2017-04-21  \n",
       "3                          1          Check-Out              2017-02-03  \n",
       "4                          1           Canceled              2016-08-26  "
      ]
     },
     "execution_count": 699,
     "metadata": {},
     "output_type": "execute_result"
    }
   ],
   "source": [
    "#Read and load data\n",
    "hotel_data = pd.read_csv('train_data.csv')\n",
    "#Display data\n",
    "hotel_data.head()"
   ]
  },
  {
   "cell_type": "markdown",
   "id": "151c6e52",
   "metadata": {},
   "source": [
    "#### Basic understanding of the Data"
   ]
  },
  {
   "cell_type": "code",
   "execution_count": 700,
   "id": "82d3f2c0",
   "metadata": {},
   "outputs": [
    {
     "data": {
      "text/plain": [
       "(83573, 32)"
      ]
     },
     "execution_count": 700,
     "metadata": {},
     "output_type": "execute_result"
    }
   ],
   "source": [
    "# Number of Rows and Columns\n",
    "hotel_data.shape"
   ]
  },
  {
   "cell_type": "code",
   "execution_count": 701,
   "id": "9fe96bc0",
   "metadata": {},
   "outputs": [
    {
     "data": {
      "text/plain": [
       "0    52688\n",
       "1    30885\n",
       "Name: is_canceled, dtype: int64"
      ]
     },
     "execution_count": 701,
     "metadata": {},
     "output_type": "execute_result"
    }
   ],
   "source": [
    "#checking if data is balanced or not?\n",
    "hotel_data['is_canceled'].value_counts()"
   ]
  },
  {
   "cell_type": "markdown",
   "id": "c1daf83c",
   "metadata": {},
   "source": [
    " - 1 = cancelled, 0 = not cancelled\n",
    " - The proportion between classes looks balanced"
   ]
  },
  {
   "cell_type": "code",
   "execution_count": 702,
   "id": "3073bf65",
   "metadata": {},
   "outputs": [
    {
     "name": "stdout",
     "output_type": "stream",
     "text": [
      "<class 'pandas.core.frame.DataFrame'>\n",
      "RangeIndex: 83573 entries, 0 to 83572\n",
      "Data columns (total 32 columns):\n",
      " #   Column                          Non-Null Count  Dtype  \n",
      "---  ------                          --------------  -----  \n",
      " 0   Index                           83573 non-null  int64  \n",
      " 1   hotel                           83573 non-null  object \n",
      " 2   is_canceled                     83573 non-null  int64  \n",
      " 3   lead_time                       83573 non-null  int64  \n",
      " 4   arrival_date_year               83573 non-null  int64  \n",
      " 5   arrival_date_month              83573 non-null  object \n",
      " 6   arrival_date_week_number        83573 non-null  int64  \n",
      " 7   arrival_date_day_of_month       83573 non-null  int64  \n",
      " 8   stays_in_weekend_nights         83573 non-null  int64  \n",
      " 9   stays_in_week_nights            83573 non-null  int64  \n",
      " 10  adults                          83573 non-null  int64  \n",
      " 11  children                        83569 non-null  float64\n",
      " 12  babies                          83573 non-null  int64  \n",
      " 13  meal                            83573 non-null  object \n",
      " 14  country                         83573 non-null  object \n",
      " 15  market_segment                  83573 non-null  object \n",
      " 16  distribution_channel            83573 non-null  object \n",
      " 17  is_repeated_guest               83573 non-null  int64  \n",
      " 18  previous_cancellations          83573 non-null  int64  \n",
      " 19  previous_bookings_not_canceled  83573 non-null  int64  \n",
      " 20  reserved_room_type              83573 non-null  object \n",
      " 21  assigned_room_type              83573 non-null  object \n",
      " 22  booking_changes                 83573 non-null  int64  \n",
      " 23  deposit_type                    83573 non-null  object \n",
      " 24  agent                           72156 non-null  float64\n",
      " 25  days_in_waiting_list            83573 non-null  int64  \n",
      " 26  customer_type                   83573 non-null  object \n",
      " 27  adr                             83573 non-null  float64\n",
      " 28  required_car_parking_spaces     83573 non-null  int64  \n",
      " 29  total_of_special_requests       83573 non-null  int64  \n",
      " 30  reservation_status              83573 non-null  object \n",
      " 31  reservation_status_date         83573 non-null  object \n",
      "dtypes: float64(3), int64(17), object(12)\n",
      "memory usage: 20.4+ MB\n"
     ]
    }
   ],
   "source": [
    "# basic info. of the data\n",
    "hotel_data.info()"
   ]
  },
  {
   "cell_type": "code",
   "execution_count": 703,
   "id": "f5901a47",
   "metadata": {},
   "outputs": [],
   "source": [
    "#looking for missing data, data type, zero frequency and unique values in each column.\n",
    "\n",
    "hotel_missing = []\n",
    "for name in hotel_data.columns:\n",
    "  hotel_missing.append(\n",
    "      [\n",
    "       name,\n",
    "       hotel_data[name].dtypes,\n",
    "       hotel_data[name].isnull().sum(),\n",
    "       round(hotel_data[name].isnull().sum()/len(hotel_data)*100,2),\n",
    "       hotel_data[name][hotel_data[name] == 0].count(),\n",
    "       hotel_data[name][hotel_data[name] == 0].count()/hotel_data[name].shape[0]*100,\n",
    "#      hotel_data[name].duplicated().sum(),\n",
    "       hotel_data[name].nunique()\n",
    "       ]\n",
    "       )\n",
    "\n",
    "hotel_missing = pd.DataFrame(hotel_missing, columns = ['Column','Dtype','Null','Null(%)','zero_frequency','zero_frequency(%)','nunique'])"
   ]
  },
  {
   "cell_type": "code",
   "execution_count": 704,
   "id": "f23ff342",
   "metadata": {},
   "outputs": [
    {
     "data": {
      "text/html": [
       "<div>\n",
       "<style scoped>\n",
       "    .dataframe tbody tr th:only-of-type {\n",
       "        vertical-align: middle;\n",
       "    }\n",
       "\n",
       "    .dataframe tbody tr th {\n",
       "        vertical-align: top;\n",
       "    }\n",
       "\n",
       "    .dataframe thead th {\n",
       "        text-align: right;\n",
       "    }\n",
       "</style>\n",
       "<table border=\"1\" class=\"dataframe\">\n",
       "  <thead>\n",
       "    <tr style=\"text-align: right;\">\n",
       "      <th></th>\n",
       "      <th>Column</th>\n",
       "      <th>Dtype</th>\n",
       "      <th>Null</th>\n",
       "      <th>Null(%)</th>\n",
       "      <th>zero_frequency</th>\n",
       "      <th>zero_frequency(%)</th>\n",
       "      <th>nunique</th>\n",
       "    </tr>\n",
       "  </thead>\n",
       "  <tbody>\n",
       "    <tr>\n",
       "      <th>0</th>\n",
       "      <td>Index</td>\n",
       "      <td>int64</td>\n",
       "      <td>0</td>\n",
       "      <td>0.00</td>\n",
       "      <td>0</td>\n",
       "      <td>0.000000</td>\n",
       "      <td>83573</td>\n",
       "    </tr>\n",
       "    <tr>\n",
       "      <th>1</th>\n",
       "      <td>hotel</td>\n",
       "      <td>object</td>\n",
       "      <td>0</td>\n",
       "      <td>0.00</td>\n",
       "      <td>0</td>\n",
       "      <td>0.000000</td>\n",
       "      <td>2</td>\n",
       "    </tr>\n",
       "    <tr>\n",
       "      <th>2</th>\n",
       "      <td>is_canceled</td>\n",
       "      <td>int64</td>\n",
       "      <td>0</td>\n",
       "      <td>0.00</td>\n",
       "      <td>52688</td>\n",
       "      <td>63.044285</td>\n",
       "      <td>2</td>\n",
       "    </tr>\n",
       "    <tr>\n",
       "      <th>3</th>\n",
       "      <td>lead_time</td>\n",
       "      <td>int64</td>\n",
       "      <td>0</td>\n",
       "      <td>0.00</td>\n",
       "      <td>4457</td>\n",
       "      <td>5.333062</td>\n",
       "      <td>475</td>\n",
       "    </tr>\n",
       "    <tr>\n",
       "      <th>4</th>\n",
       "      <td>arrival_date_year</td>\n",
       "      <td>int64</td>\n",
       "      <td>0</td>\n",
       "      <td>0.00</td>\n",
       "      <td>0</td>\n",
       "      <td>0.000000</td>\n",
       "      <td>3</td>\n",
       "    </tr>\n",
       "    <tr>\n",
       "      <th>5</th>\n",
       "      <td>arrival_date_month</td>\n",
       "      <td>object</td>\n",
       "      <td>0</td>\n",
       "      <td>0.00</td>\n",
       "      <td>0</td>\n",
       "      <td>0.000000</td>\n",
       "      <td>12</td>\n",
       "    </tr>\n",
       "    <tr>\n",
       "      <th>6</th>\n",
       "      <td>arrival_date_week_number</td>\n",
       "      <td>int64</td>\n",
       "      <td>0</td>\n",
       "      <td>0.00</td>\n",
       "      <td>0</td>\n",
       "      <td>0.000000</td>\n",
       "      <td>53</td>\n",
       "    </tr>\n",
       "    <tr>\n",
       "      <th>7</th>\n",
       "      <td>arrival_date_day_of_month</td>\n",
       "      <td>int64</td>\n",
       "      <td>0</td>\n",
       "      <td>0.00</td>\n",
       "      <td>0</td>\n",
       "      <td>0.000000</td>\n",
       "      <td>31</td>\n",
       "    </tr>\n",
       "    <tr>\n",
       "      <th>8</th>\n",
       "      <td>stays_in_weekend_nights</td>\n",
       "      <td>int64</td>\n",
       "      <td>0</td>\n",
       "      <td>0.00</td>\n",
       "      <td>36426</td>\n",
       "      <td>43.585847</td>\n",
       "      <td>16</td>\n",
       "    </tr>\n",
       "    <tr>\n",
       "      <th>9</th>\n",
       "      <td>stays_in_week_nights</td>\n",
       "      <td>int64</td>\n",
       "      <td>0</td>\n",
       "      <td>0.00</td>\n",
       "      <td>5394</td>\n",
       "      <td>6.454238</td>\n",
       "      <td>32</td>\n",
       "    </tr>\n",
       "    <tr>\n",
       "      <th>10</th>\n",
       "      <td>adults</td>\n",
       "      <td>int64</td>\n",
       "      <td>0</td>\n",
       "      <td>0.00</td>\n",
       "      <td>298</td>\n",
       "      <td>0.356574</td>\n",
       "      <td>12</td>\n",
       "    </tr>\n",
       "    <tr>\n",
       "      <th>11</th>\n",
       "      <td>children</td>\n",
       "      <td>float64</td>\n",
       "      <td>4</td>\n",
       "      <td>0.00</td>\n",
       "      <td>77570</td>\n",
       "      <td>92.817058</td>\n",
       "      <td>4</td>\n",
       "    </tr>\n",
       "    <tr>\n",
       "      <th>12</th>\n",
       "      <td>babies</td>\n",
       "      <td>int64</td>\n",
       "      <td>0</td>\n",
       "      <td>0.00</td>\n",
       "      <td>82912</td>\n",
       "      <td>99.209075</td>\n",
       "      <td>4</td>\n",
       "    </tr>\n",
       "    <tr>\n",
       "      <th>13</th>\n",
       "      <td>meal</td>\n",
       "      <td>object</td>\n",
       "      <td>0</td>\n",
       "      <td>0.00</td>\n",
       "      <td>0</td>\n",
       "      <td>0.000000</td>\n",
       "      <td>5</td>\n",
       "    </tr>\n",
       "    <tr>\n",
       "      <th>14</th>\n",
       "      <td>country</td>\n",
       "      <td>object</td>\n",
       "      <td>0</td>\n",
       "      <td>0.00</td>\n",
       "      <td>0</td>\n",
       "      <td>0.000000</td>\n",
       "      <td>170</td>\n",
       "    </tr>\n",
       "    <tr>\n",
       "      <th>15</th>\n",
       "      <td>market_segment</td>\n",
       "      <td>object</td>\n",
       "      <td>0</td>\n",
       "      <td>0.00</td>\n",
       "      <td>0</td>\n",
       "      <td>0.000000</td>\n",
       "      <td>8</td>\n",
       "    </tr>\n",
       "    <tr>\n",
       "      <th>16</th>\n",
       "      <td>distribution_channel</td>\n",
       "      <td>object</td>\n",
       "      <td>0</td>\n",
       "      <td>0.00</td>\n",
       "      <td>0</td>\n",
       "      <td>0.000000</td>\n",
       "      <td>5</td>\n",
       "    </tr>\n",
       "    <tr>\n",
       "      <th>17</th>\n",
       "      <td>is_repeated_guest</td>\n",
       "      <td>int64</td>\n",
       "      <td>0</td>\n",
       "      <td>0.00</td>\n",
       "      <td>80901</td>\n",
       "      <td>96.802795</td>\n",
       "      <td>2</td>\n",
       "    </tr>\n",
       "    <tr>\n",
       "      <th>18</th>\n",
       "      <td>previous_cancellations</td>\n",
       "      <td>int64</td>\n",
       "      <td>0</td>\n",
       "      <td>0.00</td>\n",
       "      <td>79041</td>\n",
       "      <td>94.577196</td>\n",
       "      <td>15</td>\n",
       "    </tr>\n",
       "    <tr>\n",
       "      <th>19</th>\n",
       "      <td>previous_bookings_not_canceled</td>\n",
       "      <td>int64</td>\n",
       "      <td>0</td>\n",
       "      <td>0.00</td>\n",
       "      <td>81045</td>\n",
       "      <td>96.975100</td>\n",
       "      <td>58</td>\n",
       "    </tr>\n",
       "    <tr>\n",
       "      <th>20</th>\n",
       "      <td>reserved_room_type</td>\n",
       "      <td>object</td>\n",
       "      <td>0</td>\n",
       "      <td>0.00</td>\n",
       "      <td>0</td>\n",
       "      <td>0.000000</td>\n",
       "      <td>10</td>\n",
       "    </tr>\n",
       "    <tr>\n",
       "      <th>21</th>\n",
       "      <td>assigned_room_type</td>\n",
       "      <td>object</td>\n",
       "      <td>0</td>\n",
       "      <td>0.00</td>\n",
       "      <td>0</td>\n",
       "      <td>0.000000</td>\n",
       "      <td>11</td>\n",
       "    </tr>\n",
       "    <tr>\n",
       "      <th>22</th>\n",
       "      <td>booking_changes</td>\n",
       "      <td>int64</td>\n",
       "      <td>0</td>\n",
       "      <td>0.00</td>\n",
       "      <td>70955</td>\n",
       "      <td>84.901822</td>\n",
       "      <td>20</td>\n",
       "    </tr>\n",
       "    <tr>\n",
       "      <th>23</th>\n",
       "      <td>deposit_type</td>\n",
       "      <td>object</td>\n",
       "      <td>0</td>\n",
       "      <td>0.00</td>\n",
       "      <td>0</td>\n",
       "      <td>0.000000</td>\n",
       "      <td>3</td>\n",
       "    </tr>\n",
       "    <tr>\n",
       "      <th>24</th>\n",
       "      <td>agent</td>\n",
       "      <td>float64</td>\n",
       "      <td>11417</td>\n",
       "      <td>13.66</td>\n",
       "      <td>0</td>\n",
       "      <td>0.000000</td>\n",
       "      <td>313</td>\n",
       "    </tr>\n",
       "    <tr>\n",
       "      <th>25</th>\n",
       "      <td>days_in_waiting_list</td>\n",
       "      <td>int64</td>\n",
       "      <td>0</td>\n",
       "      <td>0.00</td>\n",
       "      <td>80989</td>\n",
       "      <td>96.908092</td>\n",
       "      <td>120</td>\n",
       "    </tr>\n",
       "    <tr>\n",
       "      <th>26</th>\n",
       "      <td>customer_type</td>\n",
       "      <td>object</td>\n",
       "      <td>0</td>\n",
       "      <td>0.00</td>\n",
       "      <td>0</td>\n",
       "      <td>0.000000</td>\n",
       "      <td>4</td>\n",
       "    </tr>\n",
       "    <tr>\n",
       "      <th>27</th>\n",
       "      <td>adr</td>\n",
       "      <td>float64</td>\n",
       "      <td>0</td>\n",
       "      <td>0.00</td>\n",
       "      <td>1413</td>\n",
       "      <td>1.690737</td>\n",
       "      <td>7479</td>\n",
       "    </tr>\n",
       "    <tr>\n",
       "      <th>28</th>\n",
       "      <td>required_car_parking_spaces</td>\n",
       "      <td>int64</td>\n",
       "      <td>0</td>\n",
       "      <td>0.00</td>\n",
       "      <td>78376</td>\n",
       "      <td>93.781484</td>\n",
       "      <td>5</td>\n",
       "    </tr>\n",
       "    <tr>\n",
       "      <th>29</th>\n",
       "      <td>total_of_special_requests</td>\n",
       "      <td>int64</td>\n",
       "      <td>0</td>\n",
       "      <td>0.00</td>\n",
       "      <td>49204</td>\n",
       "      <td>58.875474</td>\n",
       "      <td>6</td>\n",
       "    </tr>\n",
       "    <tr>\n",
       "      <th>30</th>\n",
       "      <td>reservation_status</td>\n",
       "      <td>object</td>\n",
       "      <td>0</td>\n",
       "      <td>0.00</td>\n",
       "      <td>0</td>\n",
       "      <td>0.000000</td>\n",
       "      <td>3</td>\n",
       "    </tr>\n",
       "    <tr>\n",
       "      <th>31</th>\n",
       "      <td>reservation_status_date</td>\n",
       "      <td>object</td>\n",
       "      <td>0</td>\n",
       "      <td>0.00</td>\n",
       "      <td>0</td>\n",
       "      <td>0.000000</td>\n",
       "      <td>916</td>\n",
       "    </tr>\n",
       "  </tbody>\n",
       "</table>\n",
       "</div>"
      ],
      "text/plain": [
       "                            Column    Dtype   Null  Null(%)  zero_frequency  \\\n",
       "0                            Index    int64      0     0.00               0   \n",
       "1                            hotel   object      0     0.00               0   \n",
       "2                      is_canceled    int64      0     0.00           52688   \n",
       "3                        lead_time    int64      0     0.00            4457   \n",
       "4                arrival_date_year    int64      0     0.00               0   \n",
       "5               arrival_date_month   object      0     0.00               0   \n",
       "6         arrival_date_week_number    int64      0     0.00               0   \n",
       "7        arrival_date_day_of_month    int64      0     0.00               0   \n",
       "8          stays_in_weekend_nights    int64      0     0.00           36426   \n",
       "9             stays_in_week_nights    int64      0     0.00            5394   \n",
       "10                          adults    int64      0     0.00             298   \n",
       "11                        children  float64      4     0.00           77570   \n",
       "12                          babies    int64      0     0.00           82912   \n",
       "13                            meal   object      0     0.00               0   \n",
       "14                         country   object      0     0.00               0   \n",
       "15                  market_segment   object      0     0.00               0   \n",
       "16            distribution_channel   object      0     0.00               0   \n",
       "17               is_repeated_guest    int64      0     0.00           80901   \n",
       "18          previous_cancellations    int64      0     0.00           79041   \n",
       "19  previous_bookings_not_canceled    int64      0     0.00           81045   \n",
       "20              reserved_room_type   object      0     0.00               0   \n",
       "21              assigned_room_type   object      0     0.00               0   \n",
       "22                 booking_changes    int64      0     0.00           70955   \n",
       "23                    deposit_type   object      0     0.00               0   \n",
       "24                           agent  float64  11417    13.66               0   \n",
       "25            days_in_waiting_list    int64      0     0.00           80989   \n",
       "26                   customer_type   object      0     0.00               0   \n",
       "27                             adr  float64      0     0.00            1413   \n",
       "28     required_car_parking_spaces    int64      0     0.00           78376   \n",
       "29       total_of_special_requests    int64      0     0.00           49204   \n",
       "30              reservation_status   object      0     0.00               0   \n",
       "31         reservation_status_date   object      0     0.00               0   \n",
       "\n",
       "    zero_frequency(%)  nunique  \n",
       "0            0.000000    83573  \n",
       "1            0.000000        2  \n",
       "2           63.044285        2  \n",
       "3            5.333062      475  \n",
       "4            0.000000        3  \n",
       "5            0.000000       12  \n",
       "6            0.000000       53  \n",
       "7            0.000000       31  \n",
       "8           43.585847       16  \n",
       "9            6.454238       32  \n",
       "10           0.356574       12  \n",
       "11          92.817058        4  \n",
       "12          99.209075        4  \n",
       "13           0.000000        5  \n",
       "14           0.000000      170  \n",
       "15           0.000000        8  \n",
       "16           0.000000        5  \n",
       "17          96.802795        2  \n",
       "18          94.577196       15  \n",
       "19          96.975100       58  \n",
       "20           0.000000       10  \n",
       "21           0.000000       11  \n",
       "22          84.901822       20  \n",
       "23           0.000000        3  \n",
       "24           0.000000      313  \n",
       "25          96.908092      120  \n",
       "26           0.000000        4  \n",
       "27           1.690737     7479  \n",
       "28          93.781484        5  \n",
       "29          58.875474        6  \n",
       "30           0.000000        3  \n",
       "31           0.000000      916  "
      ]
     },
     "execution_count": 704,
     "metadata": {},
     "output_type": "execute_result"
    }
   ],
   "source": [
    "hotel_missing"
   ]
  },
  {
   "cell_type": "code",
   "execution_count": 705,
   "id": "0109038e",
   "metadata": {},
   "outputs": [
    {
     "name": "stdout",
     "output_type": "stream",
     "text": [
      "list of columns of missing data: ['children', 'agent']\n"
     ]
    }
   ],
   "source": [
    "# extracting out the list of columns having missing data\n",
    "print('list of columns of missing data:', list(hotel_data.columns[hotel_data.isnull().any()]))"
   ]
  },
  {
   "cell_type": "markdown",
   "id": "ea9ee9e3",
   "metadata": {},
   "source": [
    "- there is missing data in column 'children' = 4 (0.004786%) and 'agent' = 11417 (13.661111%),\n",
    "  - will take care of this missing data later after profiling the data\n",
    "- \"reservation_status_date\", \"arrival_date_year\", \"arrival_date_month\", \"arrival_date_day_of_month\", should be of datetime datatype\n",
    "- \"agent\", \"index\", \"arrival_date_week_number\" will drop these columns as i don't see any information realted to problem statement coming out of these columns.\n",
    "- About 63% of the bookings were not cancelled."
   ]
  },
  {
   "cell_type": "code",
   "execution_count": 706,
   "id": "f78fcb46",
   "metadata": {},
   "outputs": [
    {
     "data": {
      "text/plain": [
       "0"
      ]
     },
     "execution_count": 706,
     "metadata": {},
     "output_type": "execute_result"
    }
   ],
   "source": [
    "#checking for duplicates\n",
    "\n",
    "hotel_data.duplicated().sum()"
   ]
  },
  {
   "cell_type": "markdown",
   "id": "d632335c",
   "metadata": {},
   "source": [
    "- no duplicates found."
   ]
  },
  {
   "cell_type": "code",
   "execution_count": 707,
   "id": "4d66fabd",
   "metadata": {},
   "outputs": [
    {
     "data": {
      "text/html": [
       "<div>\n",
       "<style scoped>\n",
       "    .dataframe tbody tr th:only-of-type {\n",
       "        vertical-align: middle;\n",
       "    }\n",
       "\n",
       "    .dataframe tbody tr th {\n",
       "        vertical-align: top;\n",
       "    }\n",
       "\n",
       "    .dataframe thead th {\n",
       "        text-align: right;\n",
       "    }\n",
       "</style>\n",
       "<table border=\"1\" class=\"dataframe\">\n",
       "  <thead>\n",
       "    <tr style=\"text-align: right;\">\n",
       "      <th></th>\n",
       "      <th>count</th>\n",
       "      <th>mean</th>\n",
       "      <th>std</th>\n",
       "      <th>min</th>\n",
       "      <th>25%</th>\n",
       "      <th>50%</th>\n",
       "      <th>75%</th>\n",
       "      <th>max</th>\n",
       "    </tr>\n",
       "  </thead>\n",
       "  <tbody>\n",
       "    <tr>\n",
       "      <th>Index</th>\n",
       "      <td>83573.0</td>\n",
       "      <td>59781.249710</td>\n",
       "      <td>34509.357576</td>\n",
       "      <td>1.00</td>\n",
       "      <td>29832.00</td>\n",
       "      <td>59849.0</td>\n",
       "      <td>89699.0</td>\n",
       "      <td>119388.0</td>\n",
       "    </tr>\n",
       "    <tr>\n",
       "      <th>is_canceled</th>\n",
       "      <td>83573.0</td>\n",
       "      <td>0.369557</td>\n",
       "      <td>0.482688</td>\n",
       "      <td>0.00</td>\n",
       "      <td>0.00</td>\n",
       "      <td>0.0</td>\n",
       "      <td>1.0</td>\n",
       "      <td>1.0</td>\n",
       "    </tr>\n",
       "    <tr>\n",
       "      <th>lead_time</th>\n",
       "      <td>83573.0</td>\n",
       "      <td>103.913369</td>\n",
       "      <td>106.868443</td>\n",
       "      <td>0.00</td>\n",
       "      <td>18.00</td>\n",
       "      <td>69.0</td>\n",
       "      <td>160.0</td>\n",
       "      <td>737.0</td>\n",
       "    </tr>\n",
       "    <tr>\n",
       "      <th>arrival_date_year</th>\n",
       "      <td>83573.0</td>\n",
       "      <td>2016.156187</td>\n",
       "      <td>0.707718</td>\n",
       "      <td>2015.00</td>\n",
       "      <td>2016.00</td>\n",
       "      <td>2016.0</td>\n",
       "      <td>2017.0</td>\n",
       "      <td>2017.0</td>\n",
       "    </tr>\n",
       "    <tr>\n",
       "      <th>arrival_date_week_number</th>\n",
       "      <td>83573.0</td>\n",
       "      <td>27.148301</td>\n",
       "      <td>13.604490</td>\n",
       "      <td>1.00</td>\n",
       "      <td>16.00</td>\n",
       "      <td>27.0</td>\n",
       "      <td>38.0</td>\n",
       "      <td>53.0</td>\n",
       "    </tr>\n",
       "    <tr>\n",
       "      <th>arrival_date_day_of_month</th>\n",
       "      <td>83573.0</td>\n",
       "      <td>15.783339</td>\n",
       "      <td>8.791722</td>\n",
       "      <td>1.00</td>\n",
       "      <td>8.00</td>\n",
       "      <td>16.0</td>\n",
       "      <td>23.0</td>\n",
       "      <td>31.0</td>\n",
       "    </tr>\n",
       "    <tr>\n",
       "      <th>stays_in_weekend_nights</th>\n",
       "      <td>83573.0</td>\n",
       "      <td>0.927560</td>\n",
       "      <td>1.001097</td>\n",
       "      <td>0.00</td>\n",
       "      <td>0.00</td>\n",
       "      <td>1.0</td>\n",
       "      <td>2.0</td>\n",
       "      <td>18.0</td>\n",
       "    </tr>\n",
       "    <tr>\n",
       "      <th>stays_in_week_nights</th>\n",
       "      <td>83573.0</td>\n",
       "      <td>2.501310</td>\n",
       "      <td>1.914762</td>\n",
       "      <td>0.00</td>\n",
       "      <td>1.00</td>\n",
       "      <td>2.0</td>\n",
       "      <td>3.0</td>\n",
       "      <td>42.0</td>\n",
       "    </tr>\n",
       "    <tr>\n",
       "      <th>adults</th>\n",
       "      <td>83573.0</td>\n",
       "      <td>1.856018</td>\n",
       "      <td>0.582376</td>\n",
       "      <td>0.00</td>\n",
       "      <td>2.00</td>\n",
       "      <td>2.0</td>\n",
       "      <td>2.0</td>\n",
       "      <td>50.0</td>\n",
       "    </tr>\n",
       "    <tr>\n",
       "      <th>children</th>\n",
       "      <td>83569.0</td>\n",
       "      <td>0.103663</td>\n",
       "      <td>0.397360</td>\n",
       "      <td>0.00</td>\n",
       "      <td>0.00</td>\n",
       "      <td>0.0</td>\n",
       "      <td>0.0</td>\n",
       "      <td>3.0</td>\n",
       "    </tr>\n",
       "    <tr>\n",
       "      <th>babies</th>\n",
       "      <td>83573.0</td>\n",
       "      <td>0.008125</td>\n",
       "      <td>0.096701</td>\n",
       "      <td>0.00</td>\n",
       "      <td>0.00</td>\n",
       "      <td>0.0</td>\n",
       "      <td>0.0</td>\n",
       "      <td>10.0</td>\n",
       "    </tr>\n",
       "    <tr>\n",
       "      <th>is_repeated_guest</th>\n",
       "      <td>83573.0</td>\n",
       "      <td>0.031972</td>\n",
       "      <td>0.175927</td>\n",
       "      <td>0.00</td>\n",
       "      <td>0.00</td>\n",
       "      <td>0.0</td>\n",
       "      <td>0.0</td>\n",
       "      <td>1.0</td>\n",
       "    </tr>\n",
       "    <tr>\n",
       "      <th>previous_cancellations</th>\n",
       "      <td>83573.0</td>\n",
       "      <td>0.087756</td>\n",
       "      <td>0.857007</td>\n",
       "      <td>0.00</td>\n",
       "      <td>0.00</td>\n",
       "      <td>0.0</td>\n",
       "      <td>0.0</td>\n",
       "      <td>26.0</td>\n",
       "    </tr>\n",
       "    <tr>\n",
       "      <th>previous_bookings_not_canceled</th>\n",
       "      <td>83573.0</td>\n",
       "      <td>0.134673</td>\n",
       "      <td>1.482622</td>\n",
       "      <td>0.00</td>\n",
       "      <td>0.00</td>\n",
       "      <td>0.0</td>\n",
       "      <td>0.0</td>\n",
       "      <td>71.0</td>\n",
       "    </tr>\n",
       "    <tr>\n",
       "      <th>booking_changes</th>\n",
       "      <td>83573.0</td>\n",
       "      <td>0.221327</td>\n",
       "      <td>0.656666</td>\n",
       "      <td>0.00</td>\n",
       "      <td>0.00</td>\n",
       "      <td>0.0</td>\n",
       "      <td>0.0</td>\n",
       "      <td>21.0</td>\n",
       "    </tr>\n",
       "    <tr>\n",
       "      <th>agent</th>\n",
       "      <td>72156.0</td>\n",
       "      <td>86.570680</td>\n",
       "      <td>110.858663</td>\n",
       "      <td>1.00</td>\n",
       "      <td>9.00</td>\n",
       "      <td>14.0</td>\n",
       "      <td>229.0</td>\n",
       "      <td>535.0</td>\n",
       "    </tr>\n",
       "    <tr>\n",
       "      <th>days_in_waiting_list</th>\n",
       "      <td>83573.0</td>\n",
       "      <td>2.308042</td>\n",
       "      <td>17.502964</td>\n",
       "      <td>0.00</td>\n",
       "      <td>0.00</td>\n",
       "      <td>0.0</td>\n",
       "      <td>0.0</td>\n",
       "      <td>391.0</td>\n",
       "    </tr>\n",
       "    <tr>\n",
       "      <th>adr</th>\n",
       "      <td>83573.0</td>\n",
       "      <td>101.767241</td>\n",
       "      <td>51.524981</td>\n",
       "      <td>-6.38</td>\n",
       "      <td>69.29</td>\n",
       "      <td>94.5</td>\n",
       "      <td>126.0</td>\n",
       "      <td>5400.0</td>\n",
       "    </tr>\n",
       "    <tr>\n",
       "      <th>required_car_parking_spaces</th>\n",
       "      <td>83573.0</td>\n",
       "      <td>0.062628</td>\n",
       "      <td>0.246262</td>\n",
       "      <td>0.00</td>\n",
       "      <td>0.00</td>\n",
       "      <td>0.0</td>\n",
       "      <td>0.0</td>\n",
       "      <td>8.0</td>\n",
       "    </tr>\n",
       "    <tr>\n",
       "      <th>total_of_special_requests</th>\n",
       "      <td>83573.0</td>\n",
       "      <td>0.571177</td>\n",
       "      <td>0.791790</td>\n",
       "      <td>0.00</td>\n",
       "      <td>0.00</td>\n",
       "      <td>0.0</td>\n",
       "      <td>1.0</td>\n",
       "      <td>5.0</td>\n",
       "    </tr>\n",
       "  </tbody>\n",
       "</table>\n",
       "</div>"
      ],
      "text/plain": [
       "                                  count          mean           std      min  \\\n",
       "Index                           83573.0  59781.249710  34509.357576     1.00   \n",
       "is_canceled                     83573.0      0.369557      0.482688     0.00   \n",
       "lead_time                       83573.0    103.913369    106.868443     0.00   \n",
       "arrival_date_year               83573.0   2016.156187      0.707718  2015.00   \n",
       "arrival_date_week_number        83573.0     27.148301     13.604490     1.00   \n",
       "arrival_date_day_of_month       83573.0     15.783339      8.791722     1.00   \n",
       "stays_in_weekend_nights         83573.0      0.927560      1.001097     0.00   \n",
       "stays_in_week_nights            83573.0      2.501310      1.914762     0.00   \n",
       "adults                          83573.0      1.856018      0.582376     0.00   \n",
       "children                        83569.0      0.103663      0.397360     0.00   \n",
       "babies                          83573.0      0.008125      0.096701     0.00   \n",
       "is_repeated_guest               83573.0      0.031972      0.175927     0.00   \n",
       "previous_cancellations          83573.0      0.087756      0.857007     0.00   \n",
       "previous_bookings_not_canceled  83573.0      0.134673      1.482622     0.00   \n",
       "booking_changes                 83573.0      0.221327      0.656666     0.00   \n",
       "agent                           72156.0     86.570680    110.858663     1.00   \n",
       "days_in_waiting_list            83573.0      2.308042     17.502964     0.00   \n",
       "adr                             83573.0    101.767241     51.524981    -6.38   \n",
       "required_car_parking_spaces     83573.0      0.062628      0.246262     0.00   \n",
       "total_of_special_requests       83573.0      0.571177      0.791790     0.00   \n",
       "\n",
       "                                     25%      50%      75%       max  \n",
       "Index                           29832.00  59849.0  89699.0  119388.0  \n",
       "is_canceled                         0.00      0.0      1.0       1.0  \n",
       "lead_time                          18.00     69.0    160.0     737.0  \n",
       "arrival_date_year                2016.00   2016.0   2017.0    2017.0  \n",
       "arrival_date_week_number           16.00     27.0     38.0      53.0  \n",
       "arrival_date_day_of_month           8.00     16.0     23.0      31.0  \n",
       "stays_in_weekend_nights             0.00      1.0      2.0      18.0  \n",
       "stays_in_week_nights                1.00      2.0      3.0      42.0  \n",
       "adults                              2.00      2.0      2.0      50.0  \n",
       "children                            0.00      0.0      0.0       3.0  \n",
       "babies                              0.00      0.0      0.0      10.0  \n",
       "is_repeated_guest                   0.00      0.0      0.0       1.0  \n",
       "previous_cancellations              0.00      0.0      0.0      26.0  \n",
       "previous_bookings_not_canceled      0.00      0.0      0.0      71.0  \n",
       "booking_changes                     0.00      0.0      0.0      21.0  \n",
       "agent                               9.00     14.0    229.0     535.0  \n",
       "days_in_waiting_list                0.00      0.0      0.0     391.0  \n",
       "adr                                69.29     94.5    126.0    5400.0  \n",
       "required_car_parking_spaces         0.00      0.0      0.0       8.0  \n",
       "total_of_special_requests           0.00      0.0      1.0       5.0  "
      ]
     },
     "execution_count": 707,
     "metadata": {},
     "output_type": "execute_result"
    }
   ],
   "source": [
    "#describe - statistical measures of the data\n",
    "hotel_data.describe().T"
   ]
  },
  {
   "cell_type": "markdown",
   "id": "ff4dd17d",
   "metadata": {},
   "source": [
    "- The mean value for the is_canceled column is 0.37, indicating that around 37% of the bookings were canceled.\n",
    "- The average lead_time is 104 days, with a standard deviation of 107 days, suggesting that many bookings are made  well in advance.\n",
    "- Most of the bookings were made in the year 2016 (median value).\n",
    "- The average \"stays_in_weekend_nights\" is less than one, indicating that most of the bookings were made for weekdays.\n",
    "- The average number of adults is 1.86, and the most frequent value is 2.\n",
    " - but also there is min = 0 in adults which needs attention to dig more. \n",
    "- Most of the bookings did not involve \"children\" or \"babies\".\n",
    " - 'babies' features has issue Max is 10 while other quartiles are 0 might be outliers or wrong value.\n",
    "- Only 3% of the bookings were made by \"is_repeated_guest\".\n",
    "- The average \"booking_changes\" is less than one, suggesting that most of the bookings were not modified after they were  made.\n",
    "- The \"adr\" column has a large range, with a maximum value of 5400, unusual high prices which may indicate that  some bookings may have been for high-end suites or other luxurious accommodations.\n",
    "- The minimum ADR is negative, indicating that some bookings may have been discounted or had other credits applied. will remove this or it will affect overall data analysis.\n",
    "- The majority of the bookings did not require any \"required_car_parking_spaces\".\n",
    "- The average number of \"total_of_special_requests\" is less than one, suggesting that most of the bookings did not  involve any special requests."
   ]
  },
  {
   "cell_type": "code",
   "execution_count": 708,
   "id": "f868d635",
   "metadata": {},
   "outputs": [
    {
     "data": {
      "text/html": [
       "<div>\n",
       "<style scoped>\n",
       "    .dataframe tbody tr th:only-of-type {\n",
       "        vertical-align: middle;\n",
       "    }\n",
       "\n",
       "    .dataframe tbody tr th {\n",
       "        vertical-align: top;\n",
       "    }\n",
       "\n",
       "    .dataframe thead th {\n",
       "        text-align: right;\n",
       "    }\n",
       "</style>\n",
       "<table border=\"1\" class=\"dataframe\">\n",
       "  <thead>\n",
       "    <tr style=\"text-align: right;\">\n",
       "      <th></th>\n",
       "      <th>count</th>\n",
       "      <th>unique</th>\n",
       "      <th>top</th>\n",
       "      <th>freq</th>\n",
       "    </tr>\n",
       "  </thead>\n",
       "  <tbody>\n",
       "    <tr>\n",
       "      <th>hotel</th>\n",
       "      <td>83573</td>\n",
       "      <td>2</td>\n",
       "      <td>City Hotel</td>\n",
       "      <td>55605</td>\n",
       "    </tr>\n",
       "    <tr>\n",
       "      <th>arrival_date_month</th>\n",
       "      <td>83573</td>\n",
       "      <td>12</td>\n",
       "      <td>August</td>\n",
       "      <td>9673</td>\n",
       "    </tr>\n",
       "    <tr>\n",
       "      <th>meal</th>\n",
       "      <td>83573</td>\n",
       "      <td>5</td>\n",
       "      <td>BB</td>\n",
       "      <td>64582</td>\n",
       "    </tr>\n",
       "    <tr>\n",
       "      <th>country</th>\n",
       "      <td>83573</td>\n",
       "      <td>170</td>\n",
       "      <td>PRT</td>\n",
       "      <td>34022</td>\n",
       "    </tr>\n",
       "    <tr>\n",
       "      <th>market_segment</th>\n",
       "      <td>83573</td>\n",
       "      <td>8</td>\n",
       "      <td>Online TA</td>\n",
       "      <td>39655</td>\n",
       "    </tr>\n",
       "    <tr>\n",
       "      <th>distribution_channel</th>\n",
       "      <td>83573</td>\n",
       "      <td>5</td>\n",
       "      <td>TA/TO</td>\n",
       "      <td>68592</td>\n",
       "    </tr>\n",
       "    <tr>\n",
       "      <th>reserved_room_type</th>\n",
       "      <td>83573</td>\n",
       "      <td>10</td>\n",
       "      <td>A</td>\n",
       "      <td>60173</td>\n",
       "    </tr>\n",
       "    <tr>\n",
       "      <th>assigned_room_type</th>\n",
       "      <td>83573</td>\n",
       "      <td>11</td>\n",
       "      <td>A</td>\n",
       "      <td>51837</td>\n",
       "    </tr>\n",
       "    <tr>\n",
       "      <th>deposit_type</th>\n",
       "      <td>83573</td>\n",
       "      <td>3</td>\n",
       "      <td>No Deposit</td>\n",
       "      <td>73270</td>\n",
       "    </tr>\n",
       "    <tr>\n",
       "      <th>customer_type</th>\n",
       "      <td>83573</td>\n",
       "      <td>4</td>\n",
       "      <td>Transient</td>\n",
       "      <td>62713</td>\n",
       "    </tr>\n",
       "    <tr>\n",
       "      <th>reservation_status</th>\n",
       "      <td>83573</td>\n",
       "      <td>3</td>\n",
       "      <td>Check-Out</td>\n",
       "      <td>52688</td>\n",
       "    </tr>\n",
       "    <tr>\n",
       "      <th>reservation_status_date</th>\n",
       "      <td>83573</td>\n",
       "      <td>916</td>\n",
       "      <td>2015-10-21</td>\n",
       "      <td>996</td>\n",
       "    </tr>\n",
       "  </tbody>\n",
       "</table>\n",
       "</div>"
      ],
      "text/plain": [
       "                         count unique         top   freq\n",
       "hotel                    83573      2  City Hotel  55605\n",
       "arrival_date_month       83573     12      August   9673\n",
       "meal                     83573      5          BB  64582\n",
       "country                  83573    170         PRT  34022\n",
       "market_segment           83573      8   Online TA  39655\n",
       "distribution_channel     83573      5       TA/TO  68592\n",
       "reserved_room_type       83573     10           A  60173\n",
       "assigned_room_type       83573     11           A  51837\n",
       "deposit_type             83573      3  No Deposit  73270\n",
       "customer_type            83573      4   Transient  62713\n",
       "reservation_status       83573      3   Check-Out  52688\n",
       "reservation_status_date  83573    916  2015-10-21    996"
      ]
     },
     "execution_count": 708,
     "metadata": {},
     "output_type": "execute_result"
    }
   ],
   "source": [
    "#describe - statistical measures of the data\n",
    "hotel_data.describe(include = 'O').T"
   ]
  },
  {
   "cell_type": "markdown",
   "id": "92ce84d0",
   "metadata": {},
   "source": [
    "- There are two hotels in the dataset, with City Hotel being the most frequent.\n",
    "- August is the most common arrival month.\n",
    "- Most guests have booked a Bed & Breakfast (BB) meal plan.\n",
    "- The most common country of origin for guests is PRT (Portugal).\n",
    "- The most common market segment is Online TA, which refers to online travel agencies.\n",
    "- The most common distribution channel is TA/TO, which refers to travel agents and tour operators.\n",
    "- Most guests have reserved room type A.\n",
    "- Most guests have been assigned room type A.\n",
    "- Most guests did not have to pay a deposit,no deposit here might have a reason why cancellation is high (since customer will not have anything to loose in this no deposit case)\n",
    "- Most guests are of the Transient customer type, which likely refers to one-time customers."
   ]
  },
  {
   "cell_type": "markdown",
   "id": "f5e9d1e1",
   "metadata": {},
   "source": [
    "**we have explored data enough for basic cleaning and will start with**\n",
    "1. dropping columns which are not required or of no use from the analysis perspective.\n",
    "2. change the datatype of the columns mentioned above.\n",
    "3. missing data treatment but with exploring each column one by one.\n",
    "4. any other treatment required in data inconsistency while exploring."
   ]
  },
  {
   "cell_type": "code",
   "execution_count": 709,
   "id": "6b06bb76",
   "metadata": {},
   "outputs": [],
   "source": [
    "# dropping columns not required.\n",
    "hotel_data.drop(['Index','arrival_date_week_number','agent'], axis=1, inplace=True)  "
   ]
  },
  {
   "cell_type": "markdown",
   "id": "7c7a085c",
   "metadata": {},
   "source": [
    "- Changing datatype - \"reservation_status_date\", \"arrival_date_year\", \"arrival_date_month\", \"arrival_date_day_of_month\", to datetime.\n"
   ]
  },
  {
   "cell_type": "markdown",
   "id": "7027d446",
   "metadata": {},
   "source": [
    "- The original dataset has custumer's arrival date with day, month, and year each in a separate column. For analysis purpose, will combine all of those elements into one \"arrival_date\"."
   ]
  },
  {
   "cell_type": "code",
   "execution_count": 710,
   "id": "28a0db8d",
   "metadata": {},
   "outputs": [],
   "source": [
    "# Creating the arrival date full feature: \n",
    "hotel_data['arrival_date'] = hotel_data['arrival_date_year'].astype(str) + \"-\" + hotel_data['arrival_date_month'].map({'January':1, 'February':2, 'March':3, 'April':4, 'May':5, 'June':6, 'July':7, 'August':8, 'September':9, 'October':10, 'November':11, 'December':12}).astype(str) + \"-\" + hotel_data['arrival_date_day_of_month'].astype(str)\n",
    "hotel_data['arrival_date'] = pd.to_datetime(hotel_data['arrival_date'], format=\"%Y-%m-%d\")"
   ]
  },
  {
   "cell_type": "code",
   "execution_count": 711,
   "id": "6e3e0a35",
   "metadata": {},
   "outputs": [],
   "source": [
    "# now dropping columns 'arrival_date_year', 'arrival_date_month', 'arrival_date_day_of_month' that are not required.\n",
    "hotel_data.drop(['arrival_date_year','arrival_date_month','arrival_date_day_of_month'], axis=1, inplace=True) "
   ]
  },
  {
   "cell_type": "code",
   "execution_count": 712,
   "id": "e4836453",
   "metadata": {},
   "outputs": [],
   "source": [
    "# changing datatype for \"reservation_status_date\"\n",
    "hotel_data['reservation_status_date'] = pd.to_datetime(hotel_data['reservation_status_date'], format=\"%Y-%m-%d\")"
   ]
  },
  {
   "cell_type": "markdown",
   "id": "50ad56cc",
   "metadata": {},
   "source": [
    "#### missing data treatment\n",
    "As we have seen there is missing data in column 'children' = 4"
   ]
  },
  {
   "cell_type": "code",
   "execution_count": 713,
   "id": "cfaaaf32",
   "metadata": {},
   "outputs": [
    {
     "data": {
      "text/plain": [
       "0.0    77570\n",
       "1.0     3386\n",
       "2.0     2562\n",
       "3.0       51\n",
       "Name: children, dtype: int64"
      ]
     },
     "execution_count": 713,
     "metadata": {},
     "output_type": "execute_result"
    }
   ],
   "source": [
    "hotel_data['children'].value_counts()"
   ]
  },
  {
   "cell_type": "code",
   "execution_count": 714,
   "id": "163efbbf",
   "metadata": {},
   "outputs": [
    {
     "data": {
      "text/plain": [
       "<AxesSubplot:xlabel='children', ylabel='Density'>"
      ]
     },
     "execution_count": 714,
     "metadata": {},
     "output_type": "execute_result"
    },
    {
     "data": {
      "image/png": "[encoded data removed]",
      "text/plain": [
       "<Figure size 432x288 with 1 Axes>"
      ]
     },
     "metadata": {
      "needs_background": "light"
     },
     "output_type": "display_data"
    }
   ],
   "source": [
    "sns.distplot(hotel_data['children'])"
   ]
  },
  {
   "cell_type": "markdown",
   "id": "f3e4e9b2",
   "metadata": {},
   "source": [
    "- so with value_counts and distplot we can see that \"children\" is skewed so will replace missing data with median."
   ]
  },
  {
   "cell_type": "code",
   "execution_count": 715,
   "id": "5256beaf",
   "metadata": {},
   "outputs": [],
   "source": [
    "hotel_data['children'] = hotel_data['children'].fillna(hotel_data['children'].median())"
   ]
  },
  {
   "cell_type": "code",
   "execution_count": 716,
   "id": "2458565a",
   "metadata": {},
   "outputs": [
    {
     "data": {
      "text/plain": [
       "0"
      ]
     },
     "execution_count": 716,
     "metadata": {},
     "output_type": "execute_result"
    }
   ],
   "source": [
    "hotel_data['children'].isnull().sum()"
   ]
  },
  {
   "cell_type": "markdown",
   "id": "420827b3",
   "metadata": {},
   "source": [
    "- no more missing data in 'children'"
   ]
  },
  {
   "cell_type": "code",
   "execution_count": 717,
   "id": "d5458df9",
   "metadata": {},
   "outputs": [
    {
     "data": {
      "text/plain": [
       "0     82912\n",
       "1       651\n",
       "2         9\n",
       "10        1\n",
       "Name: babies, dtype: int64"
      ]
     },
     "execution_count": 717,
     "metadata": {},
     "output_type": "execute_result"
    }
   ],
   "source": [
    "hotel_data['babies'].value_counts()"
   ]
  },
  {
   "cell_type": "markdown",
   "id": "ea45903e",
   "metadata": {},
   "source": [
    "- 'babies' features has issue Max is 10 while other quartiles are 0 might be outliers or wrong value, will replace it with 1"
   ]
  },
  {
   "cell_type": "code",
   "execution_count": 718,
   "id": "f26ab303",
   "metadata": {},
   "outputs": [],
   "source": [
    "hotel_data['babies'] = hotel_data['babies'].replace(10, 1)"
   ]
  },
  {
   "cell_type": "code",
   "execution_count": 719,
   "id": "e5a56b68",
   "metadata": {},
   "outputs": [
    {
     "data": {
      "text/plain": [
       "0    82912\n",
       "1      652\n",
       "2        9\n",
       "Name: babies, dtype: int64"
      ]
     },
     "execution_count": 719,
     "metadata": {},
     "output_type": "execute_result"
    }
   ],
   "source": [
    "hotel_data['babies'].value_counts()"
   ]
  },
  {
   "cell_type": "code",
   "execution_count": 720,
   "id": "a88f51bf",
   "metadata": {},
   "outputs": [
    {
     "data": {
      "text/plain": [
       "(83573, 27)"
      ]
     },
     "execution_count": 720,
     "metadata": {},
     "output_type": "execute_result"
    }
   ],
   "source": [
    "hotel_data.shape"
   ]
  },
  {
   "cell_type": "code",
   "execution_count": 721,
   "id": "341b0268",
   "metadata": {},
   "outputs": [
    {
     "data": {
      "text/html": [
       "<div>\n",
       "<style scoped>\n",
       "    .dataframe tbody tr th:only-of-type {\n",
       "        vertical-align: middle;\n",
       "    }\n",
       "\n",
       "    .dataframe tbody tr th {\n",
       "        vertical-align: top;\n",
       "    }\n",
       "\n",
       "    .dataframe thead th {\n",
       "        text-align: right;\n",
       "    }\n",
       "</style>\n",
       "<table border=\"1\" class=\"dataframe\">\n",
       "  <thead>\n",
       "    <tr style=\"text-align: right;\">\n",
       "      <th></th>\n",
       "      <th>hotel</th>\n",
       "      <th>is_canceled</th>\n",
       "      <th>lead_time</th>\n",
       "      <th>stays_in_weekend_nights</th>\n",
       "      <th>stays_in_week_nights</th>\n",
       "      <th>adults</th>\n",
       "      <th>children</th>\n",
       "      <th>babies</th>\n",
       "      <th>meal</th>\n",
       "      <th>country</th>\n",
       "      <th>market_segment</th>\n",
       "      <th>distribution_channel</th>\n",
       "      <th>is_repeated_guest</th>\n",
       "      <th>previous_cancellations</th>\n",
       "      <th>previous_bookings_not_canceled</th>\n",
       "      <th>reserved_room_type</th>\n",
       "      <th>assigned_room_type</th>\n",
       "      <th>booking_changes</th>\n",
       "      <th>deposit_type</th>\n",
       "      <th>days_in_waiting_list</th>\n",
       "      <th>customer_type</th>\n",
       "      <th>adr</th>\n",
       "      <th>required_car_parking_spaces</th>\n",
       "      <th>total_of_special_requests</th>\n",
       "      <th>reservation_status</th>\n",
       "      <th>reservation_status_date</th>\n",
       "      <th>arrival_date</th>\n",
       "    </tr>\n",
       "  </thead>\n",
       "  <tbody>\n",
       "    <tr>\n",
       "      <th>219</th>\n",
       "      <td>City Hotel</td>\n",
       "      <td>0</td>\n",
       "      <td>19</td>\n",
       "      <td>4</td>\n",
       "      <td>7</td>\n",
       "      <td>0</td>\n",
       "      <td>0.0</td>\n",
       "      <td>0</td>\n",
       "      <td>SC</td>\n",
       "      <td>USA</td>\n",
       "      <td>Online TA</td>\n",
       "      <td>TA/TO</td>\n",
       "      <td>0</td>\n",
       "      <td>0</td>\n",
       "      <td>1</td>\n",
       "      <td>A</td>\n",
       "      <td>K</td>\n",
       "      <td>4</td>\n",
       "      <td>No Deposit</td>\n",
       "      <td>0</td>\n",
       "      <td>Group</td>\n",
       "      <td>6.4</td>\n",
       "      <td>0</td>\n",
       "      <td>0</td>\n",
       "      <td>Check-Out</td>\n",
       "      <td>2016-12-07</td>\n",
       "      <td>2016-11-26</td>\n",
       "    </tr>\n",
       "    <tr>\n",
       "      <th>3821</th>\n",
       "      <td>City Hotel</td>\n",
       "      <td>0</td>\n",
       "      <td>7</td>\n",
       "      <td>0</td>\n",
       "      <td>0</td>\n",
       "      <td>0</td>\n",
       "      <td>0.0</td>\n",
       "      <td>0</td>\n",
       "      <td>BB</td>\n",
       "      <td>PRT</td>\n",
       "      <td>Online TA</td>\n",
       "      <td>TA/TO</td>\n",
       "      <td>0</td>\n",
       "      <td>0</td>\n",
       "      <td>0</td>\n",
       "      <td>D</td>\n",
       "      <td>D</td>\n",
       "      <td>1</td>\n",
       "      <td>No Deposit</td>\n",
       "      <td>0</td>\n",
       "      <td>Transient</td>\n",
       "      <td>0.0</td>\n",
       "      <td>0</td>\n",
       "      <td>1</td>\n",
       "      <td>Check-Out</td>\n",
       "      <td>2017-02-13</td>\n",
       "      <td>2017-02-13</td>\n",
       "    </tr>\n",
       "  </tbody>\n",
       "</table>\n",
       "</div>"
      ],
      "text/plain": [
       "           hotel  is_canceled  lead_time  stays_in_weekend_nights  \\\n",
       "219   City Hotel            0         19                        4   \n",
       "3821  City Hotel            0          7                        0   \n",
       "\n",
       "      stays_in_week_nights  adults  children  babies meal country  \\\n",
       "219                      7       0       0.0       0   SC     USA   \n",
       "3821                     0       0       0.0       0   BB     PRT   \n",
       "\n",
       "     market_segment distribution_channel  is_repeated_guest  \\\n",
       "219       Online TA                TA/TO                  0   \n",
       "3821      Online TA                TA/TO                  0   \n",
       "\n",
       "      previous_cancellations  previous_bookings_not_canceled  \\\n",
       "219                        0                               1   \n",
       "3821                       0                               0   \n",
       "\n",
       "     reserved_room_type assigned_room_type  booking_changes deposit_type  \\\n",
       "219                   A                  K                4   No Deposit   \n",
       "3821                  D                  D                1   No Deposit   \n",
       "\n",
       "      days_in_waiting_list customer_type  adr  required_car_parking_spaces  \\\n",
       "219                      0         Group  6.4                            0   \n",
       "3821                     0     Transient  0.0                            0   \n",
       "\n",
       "      total_of_special_requests reservation_status reservation_status_date  \\\n",
       "219                           0          Check-Out              2016-12-07   \n",
       "3821                          1          Check-Out              2017-02-13   \n",
       "\n",
       "     arrival_date  \n",
       "219    2016-11-26  \n",
       "3821   2017-02-13  "
      ]
     },
     "execution_count": 721,
     "metadata": {},
     "output_type": "execute_result"
    }
   ],
   "source": [
    "#As we have seen Most of the bookings did not involve \"children\" or \"babies\"\n",
    "#So, babies, adults, and children can not be zero at the same time, so we will drop all the observations having zero at the same time.\n",
    "\n",
    "filtered_data = (hotel_data.children == 0) & (hotel_data.adults == 0) & (hotel_data.babies == 0)\n",
    "hotel_data[filtered_data].head(2)"
   ]
  },
  {
   "cell_type": "code",
   "execution_count": 722,
   "id": "cfe94a9f",
   "metadata": {},
   "outputs": [
    {
     "data": {
      "text/html": [
       "<div>\n",
       "<style scoped>\n",
       "    .dataframe tbody tr th:only-of-type {\n",
       "        vertical-align: middle;\n",
       "    }\n",
       "\n",
       "    .dataframe tbody tr th {\n",
       "        vertical-align: top;\n",
       "    }\n",
       "\n",
       "    .dataframe thead th {\n",
       "        text-align: right;\n",
       "    }\n",
       "</style>\n",
       "<table border=\"1\" class=\"dataframe\">\n",
       "  <thead>\n",
       "    <tr style=\"text-align: right;\">\n",
       "      <th></th>\n",
       "      <th>hotel</th>\n",
       "      <th>is_canceled</th>\n",
       "      <th>lead_time</th>\n",
       "      <th>stays_in_weekend_nights</th>\n",
       "      <th>stays_in_week_nights</th>\n",
       "      <th>adults</th>\n",
       "      <th>children</th>\n",
       "      <th>babies</th>\n",
       "      <th>meal</th>\n",
       "      <th>country</th>\n",
       "      <th>market_segment</th>\n",
       "      <th>distribution_channel</th>\n",
       "      <th>is_repeated_guest</th>\n",
       "      <th>previous_cancellations</th>\n",
       "      <th>previous_bookings_not_canceled</th>\n",
       "      <th>reserved_room_type</th>\n",
       "      <th>assigned_room_type</th>\n",
       "      <th>booking_changes</th>\n",
       "      <th>deposit_type</th>\n",
       "      <th>days_in_waiting_list</th>\n",
       "      <th>customer_type</th>\n",
       "      <th>adr</th>\n",
       "      <th>required_car_parking_spaces</th>\n",
       "      <th>total_of_special_requests</th>\n",
       "      <th>reservation_status</th>\n",
       "      <th>reservation_status_date</th>\n",
       "      <th>arrival_date</th>\n",
       "    </tr>\n",
       "  </thead>\n",
       "  <tbody>\n",
       "    <tr>\n",
       "      <th>0</th>\n",
       "      <td>Resort Hotel</td>\n",
       "      <td>1</td>\n",
       "      <td>122</td>\n",
       "      <td>0</td>\n",
       "      <td>4</td>\n",
       "      <td>2</td>\n",
       "      <td>0.0</td>\n",
       "      <td>0</td>\n",
       "      <td>BB</td>\n",
       "      <td>FRA</td>\n",
       "      <td>Online TA</td>\n",
       "      <td>TA/TO</td>\n",
       "      <td>0</td>\n",
       "      <td>0</td>\n",
       "      <td>0</td>\n",
       "      <td>D</td>\n",
       "      <td>D</td>\n",
       "      <td>3</td>\n",
       "      <td>No Deposit</td>\n",
       "      <td>0</td>\n",
       "      <td>Transient</td>\n",
       "      <td>74.75</td>\n",
       "      <td>0</td>\n",
       "      <td>2</td>\n",
       "      <td>Canceled</td>\n",
       "      <td>2016-11-27</td>\n",
       "      <td>2016-12-27</td>\n",
       "    </tr>\n",
       "    <tr>\n",
       "      <th>1</th>\n",
       "      <td>City Hotel</td>\n",
       "      <td>1</td>\n",
       "      <td>20</td>\n",
       "      <td>0</td>\n",
       "      <td>2</td>\n",
       "      <td>2</td>\n",
       "      <td>0.0</td>\n",
       "      <td>0</td>\n",
       "      <td>BB</td>\n",
       "      <td>PRT</td>\n",
       "      <td>Groups</td>\n",
       "      <td>TA/TO</td>\n",
       "      <td>0</td>\n",
       "      <td>0</td>\n",
       "      <td>0</td>\n",
       "      <td>A</td>\n",
       "      <td>A</td>\n",
       "      <td>0</td>\n",
       "      <td>No Deposit</td>\n",
       "      <td>0</td>\n",
       "      <td>Transient-Party</td>\n",
       "      <td>62.00</td>\n",
       "      <td>0</td>\n",
       "      <td>0</td>\n",
       "      <td>Canceled</td>\n",
       "      <td>2015-07-17</td>\n",
       "      <td>2015-07-22</td>\n",
       "    </tr>\n",
       "  </tbody>\n",
       "</table>\n",
       "</div>"
      ],
      "text/plain": [
       "          hotel  is_canceled  lead_time  stays_in_weekend_nights  \\\n",
       "0  Resort Hotel            1        122                        0   \n",
       "1    City Hotel            1         20                        0   \n",
       "\n",
       "   stays_in_week_nights  adults  children  babies meal country market_segment  \\\n",
       "0                     4       2       0.0       0   BB     FRA      Online TA   \n",
       "1                     2       2       0.0       0   BB     PRT         Groups   \n",
       "\n",
       "  distribution_channel  is_repeated_guest  previous_cancellations  \\\n",
       "0                TA/TO                  0                       0   \n",
       "1                TA/TO                  0                       0   \n",
       "\n",
       "   previous_bookings_not_canceled reserved_room_type assigned_room_type  \\\n",
       "0                               0                  D                  D   \n",
       "1                               0                  A                  A   \n",
       "\n",
       "   booking_changes deposit_type  days_in_waiting_list    customer_type    adr  \\\n",
       "0                3   No Deposit                     0        Transient  74.75   \n",
       "1                0   No Deposit                     0  Transient-Party  62.00   \n",
       "\n",
       "   required_car_parking_spaces  total_of_special_requests reservation_status  \\\n",
       "0                            0                          2           Canceled   \n",
       "1                            0                          0           Canceled   \n",
       "\n",
       "  reservation_status_date arrival_date  \n",
       "0              2016-11-27   2016-12-27  \n",
       "1              2015-07-17   2015-07-22  "
      ]
     },
     "execution_count": 722,
     "metadata": {},
     "output_type": "execute_result"
    }
   ],
   "source": [
    "#filtering out data without where babies, adults, and children can not be zero at the same time\n",
    "hotel_data = hotel_data[~filtered_data]\n",
    "hotel_data.head(2)"
   ]
  },
  {
   "cell_type": "code",
   "execution_count": 723,
   "id": "a74ab1f2",
   "metadata": {},
   "outputs": [
    {
     "data": {
      "text/plain": [
       "(83441, 27)"
      ]
     },
     "execution_count": 723,
     "metadata": {},
     "output_type": "execute_result"
    }
   ],
   "source": [
    "hotel_data.shape"
   ]
  },
  {
   "cell_type": "markdown",
   "id": "ebf76b8f",
   "metadata": {},
   "source": [
    "- so there were 132 rows which had adult, babies and children are at the same time."
   ]
  },
  {
   "cell_type": "markdown",
   "id": "f4106595",
   "metadata": {},
   "source": [
    "- The \"adr\" column has a large range, with a maximum value of 5400, unusual high prices which may indicate that some bookings may have been for high-end suites or other luxurious accommodations.\n",
    "- The minimum 'adr' is negative, indicating that some bookings may have been discounted or had other credits applied and its not possible for hotel to owe money to the guest, so will remove this or it will affect overall data analysis."
   ]
  },
  {
   "cell_type": "code",
   "execution_count": 724,
   "id": "c89334cb",
   "metadata": {},
   "outputs": [
    {
     "data": {
      "text/plain": [
       "<AxesSubplot:xlabel='adr'>"
      ]
     },
     "execution_count": 724,
     "metadata": {},
     "output_type": "execute_result"
    },
    {
     "data": {
      "image/png": "[encoded data removed]",
      "text/plain": [
       "<Figure size 432x288 with 1 Axes>"
      ]
     },
     "metadata": {
      "needs_background": "light"
     },
     "output_type": "display_data"
    }
   ],
   "source": [
    "sns.boxplot(hotel_data['adr'])"
   ]
  },
  {
   "cell_type": "markdown",
   "id": "fc98580a",
   "metadata": {},
   "source": [
    "- cleary visible outlier so will filter out data excluding the negative and this outlier data point."
   ]
  },
  {
   "cell_type": "code",
   "execution_count": 725,
   "id": "ceab871a",
   "metadata": {
    "scrolled": true
   },
   "outputs": [
    {
     "data": {
      "text/html": [
       "<div>\n",
       "<style scoped>\n",
       "    .dataframe tbody tr th:only-of-type {\n",
       "        vertical-align: middle;\n",
       "    }\n",
       "\n",
       "    .dataframe tbody tr th {\n",
       "        vertical-align: top;\n",
       "    }\n",
       "\n",
       "    .dataframe thead th {\n",
       "        text-align: right;\n",
       "    }\n",
       "</style>\n",
       "<table border=\"1\" class=\"dataframe\">\n",
       "  <thead>\n",
       "    <tr style=\"text-align: right;\">\n",
       "      <th></th>\n",
       "      <th>hotel</th>\n",
       "      <th>is_canceled</th>\n",
       "      <th>lead_time</th>\n",
       "      <th>stays_in_weekend_nights</th>\n",
       "      <th>stays_in_week_nights</th>\n",
       "      <th>adults</th>\n",
       "      <th>children</th>\n",
       "      <th>babies</th>\n",
       "      <th>meal</th>\n",
       "      <th>country</th>\n",
       "      <th>market_segment</th>\n",
       "      <th>distribution_channel</th>\n",
       "      <th>is_repeated_guest</th>\n",
       "      <th>previous_cancellations</th>\n",
       "      <th>previous_bookings_not_canceled</th>\n",
       "      <th>reserved_room_type</th>\n",
       "      <th>assigned_room_type</th>\n",
       "      <th>booking_changes</th>\n",
       "      <th>deposit_type</th>\n",
       "      <th>days_in_waiting_list</th>\n",
       "      <th>customer_type</th>\n",
       "      <th>adr</th>\n",
       "      <th>required_car_parking_spaces</th>\n",
       "      <th>total_of_special_requests</th>\n",
       "      <th>reservation_status</th>\n",
       "      <th>reservation_status_date</th>\n",
       "      <th>arrival_date</th>\n",
       "    </tr>\n",
       "  </thead>\n",
       "  <tbody>\n",
       "    <tr>\n",
       "      <th>2401</th>\n",
       "      <td>Resort Hotel</td>\n",
       "      <td>0</td>\n",
       "      <td>195</td>\n",
       "      <td>4</td>\n",
       "      <td>6</td>\n",
       "      <td>2</td>\n",
       "      <td>0.0</td>\n",
       "      <td>0</td>\n",
       "      <td>BB</td>\n",
       "      <td>GBR</td>\n",
       "      <td>Groups</td>\n",
       "      <td>Direct</td>\n",
       "      <td>1</td>\n",
       "      <td>0</td>\n",
       "      <td>2</td>\n",
       "      <td>A</td>\n",
       "      <td>H</td>\n",
       "      <td>2</td>\n",
       "      <td>No Deposit</td>\n",
       "      <td>0</td>\n",
       "      <td>Transient-Party</td>\n",
       "      <td>-6.38</td>\n",
       "      <td>0</td>\n",
       "      <td>0</td>\n",
       "      <td>Check-Out</td>\n",
       "      <td>2017-03-15</td>\n",
       "      <td>2017-03-05</td>\n",
       "    </tr>\n",
       "    <tr>\n",
       "      <th>79274</th>\n",
       "      <td>City Hotel</td>\n",
       "      <td>1</td>\n",
       "      <td>35</td>\n",
       "      <td>0</td>\n",
       "      <td>1</td>\n",
       "      <td>2</td>\n",
       "      <td>0.0</td>\n",
       "      <td>0</td>\n",
       "      <td>BB</td>\n",
       "      <td>PRT</td>\n",
       "      <td>Offline TA/TO</td>\n",
       "      <td>TA/TO</td>\n",
       "      <td>0</td>\n",
       "      <td>0</td>\n",
       "      <td>0</td>\n",
       "      <td>A</td>\n",
       "      <td>A</td>\n",
       "      <td>1</td>\n",
       "      <td>Non Refund</td>\n",
       "      <td>0</td>\n",
       "      <td>Transient</td>\n",
       "      <td>5400.00</td>\n",
       "      <td>0</td>\n",
       "      <td>0</td>\n",
       "      <td>Canceled</td>\n",
       "      <td>2016-02-19</td>\n",
       "      <td>2016-03-25</td>\n",
       "    </tr>\n",
       "  </tbody>\n",
       "</table>\n",
       "</div>"
      ],
      "text/plain": [
       "              hotel  is_canceled  lead_time  stays_in_weekend_nights  \\\n",
       "2401   Resort Hotel            0        195                        4   \n",
       "79274    City Hotel            1         35                        0   \n",
       "\n",
       "       stays_in_week_nights  adults  children  babies meal country  \\\n",
       "2401                      6       2       0.0       0   BB     GBR   \n",
       "79274                     1       2       0.0       0   BB     PRT   \n",
       "\n",
       "      market_segment distribution_channel  is_repeated_guest  \\\n",
       "2401          Groups               Direct                  1   \n",
       "79274  Offline TA/TO                TA/TO                  0   \n",
       "\n",
       "       previous_cancellations  previous_bookings_not_canceled  \\\n",
       "2401                        0                               2   \n",
       "79274                       0                               0   \n",
       "\n",
       "      reserved_room_type assigned_room_type  booking_changes deposit_type  \\\n",
       "2401                   A                  H                2   No Deposit   \n",
       "79274                  A                  A                1   Non Refund   \n",
       "\n",
       "       days_in_waiting_list    customer_type      adr  \\\n",
       "2401                      0  Transient-Party    -6.38   \n",
       "79274                     0        Transient  5400.00   \n",
       "\n",
       "       required_car_parking_spaces  total_of_special_requests  \\\n",
       "2401                             0                          0   \n",
       "79274                            0                          0   \n",
       "\n",
       "      reservation_status reservation_status_date arrival_date  \n",
       "2401           Check-Out              2017-03-15   2017-03-05  \n",
       "79274           Canceled              2016-02-19   2016-03-25  "
      ]
     },
     "execution_count": 725,
     "metadata": {},
     "output_type": "execute_result"
    }
   ],
   "source": [
    "#This will create a new dataframe, which only contains the rows where adr is less than 0 or more than 5000\n",
    "filterd_data = (hotel_data.adr < 0) | (hotel_data.adr > 5000)\n",
    "hotel_data[filterd_data].head(2)"
   ]
  },
  {
   "cell_type": "code",
   "execution_count": 726,
   "id": "bbae731f",
   "metadata": {},
   "outputs": [
    {
     "data": {
      "text/html": [
       "<div>\n",
       "<style scoped>\n",
       "    .dataframe tbody tr th:only-of-type {\n",
       "        vertical-align: middle;\n",
       "    }\n",
       "\n",
       "    .dataframe tbody tr th {\n",
       "        vertical-align: top;\n",
       "    }\n",
       "\n",
       "    .dataframe thead th {\n",
       "        text-align: right;\n",
       "    }\n",
       "</style>\n",
       "<table border=\"1\" class=\"dataframe\">\n",
       "  <thead>\n",
       "    <tr style=\"text-align: right;\">\n",
       "      <th></th>\n",
       "      <th>hotel</th>\n",
       "      <th>is_canceled</th>\n",
       "      <th>lead_time</th>\n",
       "      <th>stays_in_weekend_nights</th>\n",
       "      <th>stays_in_week_nights</th>\n",
       "      <th>adults</th>\n",
       "      <th>children</th>\n",
       "      <th>babies</th>\n",
       "      <th>meal</th>\n",
       "      <th>country</th>\n",
       "      <th>market_segment</th>\n",
       "      <th>distribution_channel</th>\n",
       "      <th>is_repeated_guest</th>\n",
       "      <th>previous_cancellations</th>\n",
       "      <th>previous_bookings_not_canceled</th>\n",
       "      <th>reserved_room_type</th>\n",
       "      <th>assigned_room_type</th>\n",
       "      <th>booking_changes</th>\n",
       "      <th>deposit_type</th>\n",
       "      <th>days_in_waiting_list</th>\n",
       "      <th>customer_type</th>\n",
       "      <th>adr</th>\n",
       "      <th>required_car_parking_spaces</th>\n",
       "      <th>total_of_special_requests</th>\n",
       "      <th>reservation_status</th>\n",
       "      <th>reservation_status_date</th>\n",
       "      <th>arrival_date</th>\n",
       "    </tr>\n",
       "  </thead>\n",
       "  <tbody>\n",
       "    <tr>\n",
       "      <th>0</th>\n",
       "      <td>Resort Hotel</td>\n",
       "      <td>1</td>\n",
       "      <td>122</td>\n",
       "      <td>0</td>\n",
       "      <td>4</td>\n",
       "      <td>2</td>\n",
       "      <td>0.0</td>\n",
       "      <td>0</td>\n",
       "      <td>BB</td>\n",
       "      <td>FRA</td>\n",
       "      <td>Online TA</td>\n",
       "      <td>TA/TO</td>\n",
       "      <td>0</td>\n",
       "      <td>0</td>\n",
       "      <td>0</td>\n",
       "      <td>D</td>\n",
       "      <td>D</td>\n",
       "      <td>3</td>\n",
       "      <td>No Deposit</td>\n",
       "      <td>0</td>\n",
       "      <td>Transient</td>\n",
       "      <td>74.75</td>\n",
       "      <td>0</td>\n",
       "      <td>2</td>\n",
       "      <td>Canceled</td>\n",
       "      <td>2016-11-27</td>\n",
       "      <td>2016-12-27</td>\n",
       "    </tr>\n",
       "    <tr>\n",
       "      <th>1</th>\n",
       "      <td>City Hotel</td>\n",
       "      <td>1</td>\n",
       "      <td>20</td>\n",
       "      <td>0</td>\n",
       "      <td>2</td>\n",
       "      <td>2</td>\n",
       "      <td>0.0</td>\n",
       "      <td>0</td>\n",
       "      <td>BB</td>\n",
       "      <td>PRT</td>\n",
       "      <td>Groups</td>\n",
       "      <td>TA/TO</td>\n",
       "      <td>0</td>\n",
       "      <td>0</td>\n",
       "      <td>0</td>\n",
       "      <td>A</td>\n",
       "      <td>A</td>\n",
       "      <td>0</td>\n",
       "      <td>No Deposit</td>\n",
       "      <td>0</td>\n",
       "      <td>Transient-Party</td>\n",
       "      <td>62.00</td>\n",
       "      <td>0</td>\n",
       "      <td>0</td>\n",
       "      <td>Canceled</td>\n",
       "      <td>2015-07-17</td>\n",
       "      <td>2015-07-22</td>\n",
       "    </tr>\n",
       "  </tbody>\n",
       "</table>\n",
       "</div>"
      ],
      "text/plain": [
       "          hotel  is_canceled  lead_time  stays_in_weekend_nights  \\\n",
       "0  Resort Hotel            1        122                        0   \n",
       "1    City Hotel            1         20                        0   \n",
       "\n",
       "   stays_in_week_nights  adults  children  babies meal country market_segment  \\\n",
       "0                     4       2       0.0       0   BB     FRA      Online TA   \n",
       "1                     2       2       0.0       0   BB     PRT         Groups   \n",
       "\n",
       "  distribution_channel  is_repeated_guest  previous_cancellations  \\\n",
       "0                TA/TO                  0                       0   \n",
       "1                TA/TO                  0                       0   \n",
       "\n",
       "   previous_bookings_not_canceled reserved_room_type assigned_room_type  \\\n",
       "0                               0                  D                  D   \n",
       "1                               0                  A                  A   \n",
       "\n",
       "   booking_changes deposit_type  days_in_waiting_list    customer_type    adr  \\\n",
       "0                3   No Deposit                     0        Transient  74.75   \n",
       "1                0   No Deposit                     0  Transient-Party  62.00   \n",
       "\n",
       "   required_car_parking_spaces  total_of_special_requests reservation_status  \\\n",
       "0                            0                          2           Canceled   \n",
       "1                            0                          0           Canceled   \n",
       "\n",
       "  reservation_status_date arrival_date  \n",
       "0              2016-11-27   2016-12-27  \n",
       "1              2015-07-17   2015-07-22  "
      ]
     },
     "execution_count": 726,
     "metadata": {},
     "output_type": "execute_result"
    }
   ],
   "source": [
    "hotel_data = hotel_data[~filterd_data]\n",
    "hotel_data.head(2)"
   ]
  },
  {
   "cell_type": "code",
   "execution_count": 727,
   "id": "976e9ce3",
   "metadata": {},
   "outputs": [
    {
     "data": {
      "text/plain": [
       "(83439, 27)"
      ]
     },
     "execution_count": 727,
     "metadata": {},
     "output_type": "execute_result"
    }
   ],
   "source": [
    "hotel_data.shape"
   ]
  },
  {
   "cell_type": "code",
   "execution_count": 728,
   "id": "0385255f",
   "metadata": {},
   "outputs": [
    {
     "data": {
      "text/plain": [
       "count    83439.00000\n",
       "mean       101.84921\n",
       "std         48.04027\n",
       "min          0.00000\n",
       "25%         69.56500\n",
       "50%         94.50000\n",
       "75%        126.00000\n",
       "max        510.00000\n",
       "Name: adr, dtype: float64"
      ]
     },
     "execution_count": 728,
     "metadata": {},
     "output_type": "execute_result"
    }
   ],
   "source": [
    "hotel_data['adr'].describe()"
   ]
  },
  {
   "cell_type": "markdown",
   "id": "34ece97b",
   "metadata": {},
   "source": [
    "- now there is no negative and extreme high value in 'adr'."
   ]
  },
  {
   "cell_type": "code",
   "execution_count": 729,
   "id": "bba5bac3",
   "metadata": {},
   "outputs": [
    {
     "data": {
      "text/plain": [
       "BB           64529\n",
       "HB           10084\n",
       "SC            7434\n",
       "Undefined      836\n",
       "FB             556\n",
       "Name: meal, dtype: int64"
      ]
     },
     "execution_count": 729,
     "metadata": {},
     "output_type": "execute_result"
    }
   ],
   "source": [
    "hotel_data['meal'].value_counts()"
   ]
  },
  {
   "cell_type": "markdown",
   "id": "50dc4652",
   "metadata": {},
   "source": [
    "- So, here undefined and SC are no meal package selected. will keep it in one by replacing it with NM-no meal"
   ]
  },
  {
   "cell_type": "code",
   "execution_count": 730,
   "id": "5f142aa5",
   "metadata": {},
   "outputs": [],
   "source": [
    "hotel_data['meal'] = hotel_data['meal'].replace(['SC','Undefined'], 'NM')"
   ]
  },
  {
   "cell_type": "code",
   "execution_count": 731,
   "id": "d7212f70",
   "metadata": {},
   "outputs": [
    {
     "data": {
      "text/plain": [
       "BB    64529\n",
       "HB    10084\n",
       "NM     8270\n",
       "FB      556\n",
       "Name: meal, dtype: int64"
      ]
     },
     "execution_count": 731,
     "metadata": {},
     "output_type": "execute_result"
    }
   ],
   "source": [
    "hotel_data['meal'].value_counts()"
   ]
  },
  {
   "cell_type": "code",
   "execution_count": 732,
   "id": "c1c7c25c",
   "metadata": {},
   "outputs": [
    {
     "data": {
      "text/plain": [
       "PRT    33940\n",
       "GBR     8423\n",
       "FRA     7277\n",
       "ESP     5992\n",
       "DEU     5122\n",
       "       ...  \n",
       "GUY        1\n",
       "AIA        1\n",
       "SLE        1\n",
       "BHS        1\n",
       "CYM        1\n",
       "Name: country, Length: 170, dtype: int64"
      ]
     },
     "execution_count": 732,
     "metadata": {},
     "output_type": "execute_result"
    }
   ],
   "source": [
    "hotel_data['country'].value_counts()"
   ]
  },
  {
   "cell_type": "markdown",
   "id": "a4db65d6",
   "metadata": {},
   "source": [
    "- as we can see that the number of country values is very large in this dataset, we will summarize the values to Local or International for easy understanding of analysis by creating new feature called \"guest_location\"\n",
    "\n",
    "- To determine the value based on the following criteria, because this hotel dataset is located in Portugal, customers from Portugal will be set to Local and rest to International."
   ]
  },
  {
   "cell_type": "code",
   "execution_count": 733,
   "id": "42e7c64a",
   "metadata": {},
   "outputs": [
    {
     "data": {
      "text/plain": [
       "International    49499\n",
       "Local            33940\n",
       "Name: guest_location, dtype: int64"
      ]
     },
     "execution_count": 733,
     "metadata": {},
     "output_type": "execute_result"
    }
   ],
   "source": [
    "# the goals of creating a new column here is, so later on we can see how booking location affecting cancellation\n",
    "hotel_data['guest_location'] = hotel_data['country'].apply(lambda x: 'Local' if x == 'PRT' else 'International')\n",
    "hotel_data['guest_location'].value_counts()"
   ]
  },
  {
   "cell_type": "code",
   "execution_count": 734,
   "id": "3d612540",
   "metadata": {},
   "outputs": [
    {
     "data": {
      "text/plain": [
       "Online TA        39601\n",
       "Offline TA/TO    16948\n",
       "Groups           13771\n",
       "Direct            8754\n",
       "Corporate         3679\n",
       "Complementary      520\n",
       "Aviation           164\n",
       "Undefined            2\n",
       "Name: market_segment, dtype: int64"
      ]
     },
     "execution_count": 734,
     "metadata": {},
     "output_type": "execute_result"
    }
   ],
   "source": [
    "hotel_data['market_segment'].value_counts()"
   ]
  },
  {
   "cell_type": "markdown",
   "id": "4b8e017a",
   "metadata": {},
   "source": [
    "- there is 2 entries as undefined so it can be direct bookings, will replace it with direct"
   ]
  },
  {
   "cell_type": "code",
   "execution_count": 735,
   "id": "24709984",
   "metadata": {},
   "outputs": [],
   "source": [
    "hotel_data['market_segment'] = hotel_data['market_segment'].replace('Undefined', 'Direct')"
   ]
  },
  {
   "cell_type": "code",
   "execution_count": 736,
   "id": "287b4500",
   "metadata": {},
   "outputs": [
    {
     "data": {
      "text/plain": [
       "Online TA        39601\n",
       "Offline TA/TO    16948\n",
       "Groups           13771\n",
       "Direct            8756\n",
       "Corporate         3679\n",
       "Complementary      520\n",
       "Aviation           164\n",
       "Name: market_segment, dtype: int64"
      ]
     },
     "execution_count": 736,
     "metadata": {},
     "output_type": "execute_result"
    }
   ],
   "source": [
    "hotel_data['market_segment'].value_counts()"
   ]
  },
  {
   "cell_type": "code",
   "execution_count": 737,
   "id": "ba34c4ca",
   "metadata": {},
   "outputs": [
    {
     "data": {
      "text/plain": [
       "TA/TO        68496\n",
       "Direct       10189\n",
       "Corporate     4616\n",
       "GDS            134\n",
       "Undefined        4\n",
       "Name: distribution_channel, dtype: int64"
      ]
     },
     "execution_count": 737,
     "metadata": {},
     "output_type": "execute_result"
    }
   ],
   "source": [
    "hotel_data['distribution_channel'].value_counts()"
   ]
  },
  {
   "cell_type": "markdown",
   "id": "23340479",
   "metadata": {},
   "source": [
    "- there are only 4 entries as undefined so it can be direct bookings as we have seen in market segment column, so will replace it with direct"
   ]
  },
  {
   "cell_type": "code",
   "execution_count": 738,
   "id": "ec938893",
   "metadata": {},
   "outputs": [],
   "source": [
    "hotel_data['distribution_channel']  = hotel_data['distribution_channel'].replace('Undefined', 'Direct')"
   ]
  },
  {
   "cell_type": "code",
   "execution_count": 739,
   "id": "7d7799d9",
   "metadata": {},
   "outputs": [
    {
     "data": {
      "text/plain": [
       "TA/TO        68496\n",
       "Direct       10193\n",
       "Corporate     4616\n",
       "GDS            134\n",
       "Name: distribution_channel, dtype: int64"
      ]
     },
     "execution_count": 739,
     "metadata": {},
     "output_type": "execute_result"
    }
   ],
   "source": [
    "hotel_data['distribution_channel'].value_counts()"
   ]
  },
  {
   "cell_type": "code",
   "execution_count": 740,
   "id": "7e8feb4d",
   "metadata": {},
   "outputs": [
    {
     "data": {
      "text/plain": [
       "0     0.945745\n",
       "1     0.050720\n",
       "2     0.000911\n",
       "3     0.000443\n",
       "24    0.000443\n",
       "11    0.000288\n",
       "4     0.000288\n",
       "6     0.000216\n",
       "26    0.000216\n",
       "25    0.000204\n",
       "19    0.000180\n",
       "5     0.000144\n",
       "14    0.000108\n",
       "13    0.000084\n",
       "21    0.000012\n",
       "Name: previous_cancellations, dtype: float64"
      ]
     },
     "execution_count": 740,
     "metadata": {},
     "output_type": "execute_result"
    }
   ],
   "source": [
    "hotel_data['previous_cancellations'].value_counts(normalize=True)"
   ]
  },
  {
   "cell_type": "markdown",
   "id": "dc529c2e",
   "metadata": {},
   "source": [
    "- we can see that almost 95% booking were never cancelled before, so will group the data into two, 'never cancelled' and 'have been cancelled before'"
   ]
  },
  {
   "cell_type": "code",
   "execution_count": 741,
   "id": "d805a3a1",
   "metadata": {},
   "outputs": [],
   "source": [
    "hotel_data['previous_cancellations'] = hotel_data['previous_cancellations'].apply(lambda x: 'never cancelled' if x == 0 else 'cancelled before')"
   ]
  },
  {
   "cell_type": "code",
   "execution_count": 742,
   "id": "4e363607",
   "metadata": {},
   "outputs": [
    {
     "data": {
      "text/plain": [
       "never cancelled     78912\n",
       "cancelled before     4527\n",
       "Name: previous_cancellations, dtype: int64"
      ]
     },
     "execution_count": 742,
     "metadata": {},
     "output_type": "execute_result"
    }
   ],
   "source": [
    "hotel_data['previous_cancellations'].value_counts()"
   ]
  },
  {
   "cell_type": "code",
   "execution_count": 743,
   "id": "6e4b2b56",
   "metadata": {},
   "outputs": [
    {
     "data": {
      "text/html": [
       "<div>\n",
       "<style scoped>\n",
       "    .dataframe tbody tr th:only-of-type {\n",
       "        vertical-align: middle;\n",
       "    }\n",
       "\n",
       "    .dataframe tbody tr th {\n",
       "        vertical-align: top;\n",
       "    }\n",
       "\n",
       "    .dataframe thead th {\n",
       "        text-align: right;\n",
       "    }\n",
       "</style>\n",
       "<table border=\"1\" class=\"dataframe\">\n",
       "  <thead>\n",
       "    <tr style=\"text-align: right;\">\n",
       "      <th></th>\n",
       "      <th>booking_changes</th>\n",
       "      <th>percentage</th>\n",
       "    </tr>\n",
       "  </thead>\n",
       "  <tbody>\n",
       "    <tr>\n",
       "      <th>0</th>\n",
       "      <td>0</td>\n",
       "      <td>0.849651</td>\n",
       "    </tr>\n",
       "    <tr>\n",
       "      <th>1</th>\n",
       "      <td>1</td>\n",
       "      <td>0.105574</td>\n",
       "    </tr>\n",
       "    <tr>\n",
       "      <th>2</th>\n",
       "      <td>2</td>\n",
       "      <td>0.032011</td>\n",
       "    </tr>\n",
       "    <tr>\n",
       "      <th>3</th>\n",
       "      <td>3</td>\n",
       "      <td>0.007574</td>\n",
       "    </tr>\n",
       "    <tr>\n",
       "      <th>4</th>\n",
       "      <td>4</td>\n",
       "      <td>0.002996</td>\n",
       "    </tr>\n",
       "    <tr>\n",
       "      <th>5</th>\n",
       "      <td>5</td>\n",
       "      <td>0.000947</td>\n",
       "    </tr>\n",
       "    <tr>\n",
       "      <th>6</th>\n",
       "      <td>6</td>\n",
       "      <td>0.000611</td>\n",
       "    </tr>\n",
       "    <tr>\n",
       "      <th>7</th>\n",
       "      <td>7</td>\n",
       "      <td>0.000288</td>\n",
       "    </tr>\n",
       "    <tr>\n",
       "      <th>8</th>\n",
       "      <td>8</td>\n",
       "      <td>0.000072</td>\n",
       "    </tr>\n",
       "    <tr>\n",
       "      <th>9</th>\n",
       "      <td>9</td>\n",
       "      <td>0.000072</td>\n",
       "    </tr>\n",
       "    <tr>\n",
       "      <th>10</th>\n",
       "      <td>10</td>\n",
       "      <td>0.000048</td>\n",
       "    </tr>\n",
       "    <tr>\n",
       "      <th>11</th>\n",
       "      <td>14</td>\n",
       "      <td>0.000036</td>\n",
       "    </tr>\n",
       "    <tr>\n",
       "      <th>12</th>\n",
       "      <td>13</td>\n",
       "      <td>0.000036</td>\n",
       "    </tr>\n",
       "    <tr>\n",
       "      <th>13</th>\n",
       "      <td>15</td>\n",
       "      <td>0.000036</td>\n",
       "    </tr>\n",
       "    <tr>\n",
       "      <th>14</th>\n",
       "      <td>16</td>\n",
       "      <td>0.000024</td>\n",
       "    </tr>\n",
       "    <tr>\n",
       "      <th>15</th>\n",
       "      <td>18</td>\n",
       "      <td>0.000012</td>\n",
       "    </tr>\n",
       "    <tr>\n",
       "      <th>16</th>\n",
       "      <td>12</td>\n",
       "      <td>0.000012</td>\n",
       "    </tr>\n",
       "  </tbody>\n",
       "</table>\n",
       "</div>"
      ],
      "text/plain": [
       "    booking_changes  percentage\n",
       "0                 0    0.849651\n",
       "1                 1    0.105574\n",
       "2                 2    0.032011\n",
       "3                 3    0.007574\n",
       "4                 4    0.002996\n",
       "5                 5    0.000947\n",
       "6                 6    0.000611\n",
       "7                 7    0.000288\n",
       "8                 8    0.000072\n",
       "9                 9    0.000072\n",
       "10               10    0.000048\n",
       "11               14    0.000036\n",
       "12               13    0.000036\n",
       "13               15    0.000036\n",
       "14               16    0.000024\n",
       "15               18    0.000012\n",
       "16               12    0.000012"
      ]
     },
     "execution_count": 743,
     "metadata": {},
     "output_type": "execute_result"
    }
   ],
   "source": [
    "hotel_data['booking_changes'].value_counts(normalize=True)\\\n",
    "    .reset_index()\\\n",
    "    .rename(columns={'index': 'booking_changes', 'booking_changes': 'percentage'})"
   ]
  },
  {
   "cell_type": "markdown",
   "id": "a245f20b",
   "metadata": {},
   "source": [
    "- almost 85 % of the customers never made changes in their booking\n",
    "- since there are many values in this 'booking changes' column, we will group it in to two if ever made changes in the booking or not."
   ]
  },
  {
   "cell_type": "code",
   "execution_count": 744,
   "id": "145b77fc",
   "metadata": {},
   "outputs": [],
   "source": [
    "hotel_data['booking_changes'] = hotel_data['booking_changes'].apply(lambda x: 'no' if x == 0 else 'yes')"
   ]
  },
  {
   "cell_type": "code",
   "execution_count": 745,
   "id": "cde23e50",
   "metadata": {},
   "outputs": [
    {
     "data": {
      "text/plain": [
       "no     70894\n",
       "yes    12545\n",
       "Name: booking_changes, dtype: int64"
      ]
     },
     "execution_count": 745,
     "metadata": {},
     "output_type": "execute_result"
    }
   ],
   "source": [
    "hotel_data['booking_changes'].value_counts()"
   ]
  },
  {
   "cell_type": "markdown",
   "id": "9b010f81",
   "metadata": {},
   "source": [
    "### Redefine numerical and categorical features separately"
   ]
  },
  {
   "cell_type": "code",
   "execution_count": 746,
   "id": "e0e4225f",
   "metadata": {},
   "outputs": [
    {
     "data": {
      "text/plain": [
       "['is_canceled',\n",
       " 'lead_time',\n",
       " 'stays_in_weekend_nights',\n",
       " 'stays_in_week_nights',\n",
       " 'adults',\n",
       " 'children',\n",
       " 'babies',\n",
       " 'is_repeated_guest',\n",
       " 'previous_bookings_not_canceled',\n",
       " 'days_in_waiting_list',\n",
       " 'adr',\n",
       " 'required_car_parking_spaces',\n",
       " 'total_of_special_requests']"
      ]
     },
     "execution_count": 746,
     "metadata": {},
     "output_type": "execute_result"
    }
   ],
   "source": [
    "#Numeric\n",
    "numerical = hotel_data.loc[:, (hotel_data.dtypes == 'int64') | (hotel_data.dtypes == 'float64')].columns.tolist()\n",
    "numerical"
   ]
  },
  {
   "cell_type": "code",
   "execution_count": 747,
   "id": "d0b1a304",
   "metadata": {},
   "outputs": [
    {
     "data": {
      "text/plain": [
       "['hotel',\n",
       " 'meal',\n",
       " 'country',\n",
       " 'market_segment',\n",
       " 'distribution_channel',\n",
       " 'previous_cancellations',\n",
       " 'reserved_room_type',\n",
       " 'assigned_room_type',\n",
       " 'booking_changes',\n",
       " 'deposit_type',\n",
       " 'customer_type',\n",
       " 'reservation_status',\n",
       " 'reservation_status_date',\n",
       " 'arrival_date',\n",
       " 'guest_location']"
      ]
     },
     "execution_count": 747,
     "metadata": {},
     "output_type": "execute_result"
    }
   ],
   "source": [
    "#Categorical\n",
    "categorical = hotel_data.loc[:, (hotel_data.dtypes != 'int64') & (hotel_data.dtypes != 'float64')].columns.tolist()\n",
    "categorical"
   ]
  },
  {
   "cell_type": "markdown",
   "id": "a7b8ffaf",
   "metadata": {},
   "source": [
    "## Collinearity Check"
   ]
  },
  {
   "cell_type": "code",
   "execution_count": 748,
   "id": "acbd5bad",
   "metadata": {},
   "outputs": [
    {
     "data": {
      "image/png": "[encoded data removed]",
      "text/plain": [
       "<Figure size 1080x1080 with 2 Axes>"
      ]
     },
     "metadata": {
      "needs_background": "light"
     },
     "output_type": "display_data"
    }
   ],
   "source": [
    "figure =plt.figure(figsize = (15,15))\n",
    "sns.heatmap(hotel_data[numerical].corr(), annot=True, cmap='inferno')\n",
    "plt.show()"
   ]
  },
  {
   "cell_type": "code",
   "execution_count": 749,
   "id": "6da9ebe9",
   "metadata": {},
   "outputs": [
    {
     "name": "stdout",
     "output_type": "stream",
     "text": [
      "is_canceled                     is_canceled                1.000000\n",
      "stays_in_weekend_nights         stays_in_week_nights       0.495297\n",
      "previous_bookings_not_canceled  is_repeated_guest          0.413356\n",
      "adr                             children                   0.340834\n",
      "is_canceled                     lead_time                  0.292986\n",
      "adults                          adr                        0.232158\n",
      "total_of_special_requests       adr                        0.179383\n",
      "days_in_waiting_list            lead_time                  0.170146\n",
      "lead_time                       stays_in_week_nights       0.166904\n",
      "total_of_special_requests       adults                     0.121230\n",
      "lead_time                       adults                     0.118890\n",
      "total_of_special_requests       babies                     0.110643\n",
      "stays_in_week_nights            adults                     0.097344\n",
      "adults                          stays_in_weekend_nights    0.091802\n",
      "stays_in_weekend_nights         lead_time                  0.087473\n",
      "dtype: float64\n"
     ]
    }
   ],
   "source": [
    "# Compute correlation matrix\n",
    "corr_matrix = hotel_data[numerical].corr()\n",
    "\n",
    "# Sort correlation values in descending order\n",
    "corr_values = corr_matrix.unstack().sort_values(ascending=False).drop_duplicates()\n",
    "\n",
    "# Print top 15 correlations\n",
    "print(corr_values[:15])\n"
   ]
  },
  {
   "cell_type": "markdown",
   "id": "e6513c13",
   "metadata": {},
   "source": [
    "The above output shows the top 15 highest correlation values between numerical features in the hotel dataset. Here are some insights that can be drawn:\n",
    "- The strongest correlation is between \"is_canceled\" and \"is_canceled\", which is expected as it is the correlation of the feature with itself.\n",
    "\n",
    "- The 2nd highest correlation is between \"stays_in_weekend_nights\" and \"stays_in_week_nights\" (0.495). This suggests that guests tend to stay for similar durations on weekends and weekdays.\n",
    "\n",
    "- The 3rd highest correlation is between \"is_repeated_guest\" and \"previous_bookings_not_canceled\" (0.413). This suggests that guests who have previously booked and not canceled are more likely to be repeated guests.\n",
    "\n",
    "- The 4th highest correlation is between \"adr\" and \"children\" (0.340). This suggests that the average daily rate tends to be higher for bookings with children.\n",
    "\n",
    "- The 5th highest correlation is between \"lead_time\" and \"is_canceled\" (0.292). This confirms the earlier observation that longer lead times tend to lead to lower cancellation rates.\n",
    "\n",
    "- The 6th highest correlation is between \"adr\" and \"adults\" (0.232). This suggests that bookings with more adults tend to have a higher average daily rate.\n",
    "\n",
    "- The 7th highest correlation is between \"adr\" and \"total_of_special_requests\" (0.179). This suggests that bookings with more special requests tend to have a higher average daily rate.\n",
    "- The remaining correlations suggest weaker associations between the features."
   ]
  },
  {
   "cell_type": "code",
   "execution_count": 750,
   "id": "dbdb80db",
   "metadata": {},
   "outputs": [
    {
     "name": "stdout",
     "output_type": "stream",
     "text": [
      "                    Column 1                Column 2           Chi2 P-value\n",
      "0                      hotel                    meal    4990.412611     0.0\n",
      "1                      hotel                 country    8404.565829     0.0\n",
      "2                      hotel          market_segment    1751.022539     0.0\n",
      "3                      hotel    distribution_channel    2917.931891     0.0\n",
      "4                      hotel  previous_cancellations     607.475634     0.0\n",
      "..                       ...                     ...            ...     ...\n",
      "100       reservation_status            arrival_date    9726.849523     0.0\n",
      "101       reservation_status          guest_location    9372.035964     0.0\n",
      "102  reservation_status_date            arrival_date  8283584.78465     0.0\n",
      "103  reservation_status_date          guest_location   18734.895532     0.0\n",
      "104             arrival_date          guest_location   10211.190818     0.0\n",
      "\n",
      "[105 rows x 4 columns]\n"
     ]
    }
   ],
   "source": [
    "from itertools import combinations\n",
    "from scipy.stats import chi2_contingency\n",
    "\n",
    "def pairwise_chi_squared(hotel_data):\n",
    "\n",
    "    # Initialize results DataFrame\n",
    "    results_hotel_data = pd.DataFrame(columns=['Column 1', 'Column 2', 'Chi2', 'P-value'])\n",
    "\n",
    "    # Loop over pairs of categorical columns and compute chi-squared test\n",
    "    for col1, col2 in combinations(categorical, 2):\n",
    "        contingency_table = pd.crosstab(hotel_data[col1], hotel_data[col2])\n",
    "        chi2, pval, dof, expected = chi2_contingency(contingency_table)\n",
    "        results_hotel_data = results_hotel_data.append({'Column 1': col1, 'Column 2': col2, 'Chi2': chi2, 'P-value': pval},ignore_index=True)\n",
    "\n",
    "    return results_hotel_data\n",
    "\n",
    "# Call the pairwise_chi_squared function\n",
    "results = pairwise_chi_squared(hotel_data)\n",
    "\n",
    "# Print the results\n",
    "print(results)"
   ]
  },
  {
   "cell_type": "markdown",
   "id": "f3557346",
   "metadata": {},
   "source": [
    "- In the output, each row represents a pair of variables that were tested, and the columns provide information about the Chi-squared statistic and the corresponding p-value. The Chi-squared statistic measures the strength of the association between the two variables, and the p-value tells us whether the association is statistically significant (i.e., whether it is likely to have occurred by chance).\n",
    "- Looking at the output, we can see that all pairs of variables have very low p-values (all are 0.0), indicating that there is a significant association between them. This suggests that these variables are not independent and are related to each other in some way.\n"
   ]
  },
  {
   "cell_type": "code",
   "execution_count": 756,
   "id": "04509dcf",
   "metadata": {},
   "outputs": [],
   "source": [
    "hotel_data.to_csv('hotel_cleaned_data.csv' ,index= False)"
   ]
  },
  {
   "cell_type": "markdown",
   "id": "504c34d0",
   "metadata": {},
   "source": [
    "- now data seems to be cleaned there is no missing values and randomness, we will export the data and will do exploratory data analysis with visualizations."
   ]
  },
  {
   "cell_type": "code",
   "execution_count": null,
   "id": "4d1935fe",
   "metadata": {},
   "outputs": [],
   "source": []
  }
 ],
 "metadata": {
  "kernelspec": {
   "display_name": "Python 3 (ipykernel)",
   "language": "python",
   "name": "python3"
  },
  "language_info": {
   "codemirror_mode": {
    "name": "ipython",
    "version": 3
   },
   "file_extension": ".py",
   "mimetype": "text/x-python",
   "name": "python",
   "nbconvert_exporter": "python",
   "pygments_lexer": "ipython3",
   "version": "3.9.12"
  }
 },
 "nbformat": 4,
 "nbformat_minor": 5
}
